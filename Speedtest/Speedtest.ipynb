{
 "cells": [
  {
   "cell_type": "markdown",
   "metadata": {},
   "source": [
    "# Speedtest\n",
    "Recording internet speedtest in a csv datafile using speedtest-cli.   \n",
    "\n",
    "\n",
    "!pip install speedtest-cli before proceeding if you haven't already."
   ]
  },
  {
   "cell_type": "code",
   "execution_count": 1,
   "metadata": {},
   "outputs": [],
   "source": [
    "import numpy as np \n",
    "import pandas as pd \n",
    "from datetime import datetime\n",
    "import speedtest as st"
   ]
  },
  {
   "cell_type": "code",
   "execution_count": 2,
   "metadata": {},
   "outputs": [
    {
     "output_type": "execute_result",
     "data": {
      "text/plain": [
       "'\\ncreate_df = pd.DataFrame(columns=[\"Date and Time\",\"Download Speed (Mbps)\",\"Upload Speed (Mbps)\",\"Ping Speed (ms)\"])\\ncreate_df.to_csv(\"SpeedData.csv\",index=False)\\n'"
      ]
     },
     "metadata": {},
     "execution_count": 2
    }
   ],
   "source": [
    "# Run this cell only first time to create empty csv file then comment out the cell\n",
    "# to avoid losing data\n",
    "'''\n",
    "create_df = pd.DataFrame(columns=[\"Date and Time\",\"Download Speed (Mbps)\",\"Upload Speed (Mbps)\",\"Ping Speed (ms)\"])\n",
    "create_df.to_csv(\"SpeedData.csv\",index=False)\n",
    "'''"
   ]
  },
  {
   "cell_type": "code",
   "execution_count": 3,
   "metadata": {},
   "outputs": [
    {
     "output_type": "execute_result",
     "data": {
      "text/plain": [
       "                Date and Time  Download Speed (Mbps)  Upload Speed (Mbps)  \\\n",
       "0  09/Jul/2021 - 21:08:44 IST                  38.99                31.75   \n",
       "1  09/Jul/2021 - 21:10:10 IST                  24.50                21.50   \n",
       "2  09/Jul/2021 - 21:29:52 IST                  24.42                11.71   \n",
       "3  10/Jul/2021 - 10:40:34 IST                  47.43                26.95   \n",
       "\n",
       "   Ping Speed (ms)  \n",
       "0           10.391  \n",
       "1            8.207  \n",
       "2            9.049  \n",
       "3           32.855  "
      ],
      "text/html": "<div>\n<style scoped>\n    .dataframe tbody tr th:only-of-type {\n        vertical-align: middle;\n    }\n\n    .dataframe tbody tr th {\n        vertical-align: top;\n    }\n\n    .dataframe thead th {\n        text-align: right;\n    }\n</style>\n<table border=\"1\" class=\"dataframe\">\n  <thead>\n    <tr style=\"text-align: right;\">\n      <th></th>\n      <th>Date and Time</th>\n      <th>Download Speed (Mbps)</th>\n      <th>Upload Speed (Mbps)</th>\n      <th>Ping Speed (ms)</th>\n    </tr>\n  </thead>\n  <tbody>\n    <tr>\n      <th>0</th>\n      <td>09/Jul/2021 - 21:08:44 IST</td>\n      <td>38.99</td>\n      <td>31.75</td>\n      <td>10.391</td>\n    </tr>\n    <tr>\n      <th>1</th>\n      <td>09/Jul/2021 - 21:10:10 IST</td>\n      <td>24.50</td>\n      <td>21.50</td>\n      <td>8.207</td>\n    </tr>\n    <tr>\n      <th>2</th>\n      <td>09/Jul/2021 - 21:29:52 IST</td>\n      <td>24.42</td>\n      <td>11.71</td>\n      <td>9.049</td>\n    </tr>\n    <tr>\n      <th>3</th>\n      <td>10/Jul/2021 - 10:40:34 IST</td>\n      <td>47.43</td>\n      <td>26.95</td>\n      <td>32.855</td>\n    </tr>\n  </tbody>\n</table>\n</div>"
     },
     "metadata": {},
     "execution_count": 3
    }
   ],
   "source": [
    "pd.read_csv(\"SpeedData.csv\")"
   ]
  },
  {
   "cell_type": "code",
   "execution_count": 4,
   "metadata": {},
   "outputs": [],
   "source": [
    "def getspeed():\n",
    "    s = st.Speedtest()\n",
    "    s.get_best_server()\n",
    "    ping = s.results.ping\n",
    "    down = round(s.download()/10**6,2) # Divide by 10**6 to converts bps to Mbps\n",
    "    up = round(s.upload()/10**6,2)\n",
    "    timestamp = datetime.now().strftime(\"%d/%b/%Y - %H:%M:%S IST\")\n",
    "    return (timestamp,down,up,ping)\n",
    "\n",
    "def updatecsv(speed):\n",
    "    new_entry = pd.DataFrame({'Date and Time':[speed[0]],'Download Speed (Mbps)':[speed[1]],'Upload Speed (Mbps)':[speed[2]],'Ping Speed (ms)':[speed[3]]})\n",
    "    new_entry.to_csv(\"SpeedData.csv\",index=False,mode='a',header=False)\n",
    "    df = pd.read_csv(\"SpeedData.csv\",index_col=False)\n",
    "    return df"
   ]
  },
  {
   "cell_type": "code",
   "execution_count": 5,
   "metadata": {},
   "outputs": [
    {
     "output_type": "execute_result",
     "data": {
      "text/plain": [
       "                Date and Time  Download Speed (Mbps)  Upload Speed (Mbps)  \\\n",
       "0  09/Jul/2021 - 21:08:44 IST                  38.99                31.75   \n",
       "1  09/Jul/2021 - 21:10:10 IST                  24.50                21.50   \n",
       "2  09/Jul/2021 - 21:29:52 IST                  24.42                11.71   \n",
       "3  10/Jul/2021 - 10:40:34 IST                  47.43                26.95   \n",
       "4  12/Jul/2021 - 09:17:35 IST                  18.49                26.63   \n",
       "\n",
       "   Ping Speed (ms)  \n",
       "0           10.391  \n",
       "1            8.207  \n",
       "2            9.049  \n",
       "3           32.855  \n",
       "4           34.090  "
      ],
      "text/html": "<div>\n<style scoped>\n    .dataframe tbody tr th:only-of-type {\n        vertical-align: middle;\n    }\n\n    .dataframe tbody tr th {\n        vertical-align: top;\n    }\n\n    .dataframe thead th {\n        text-align: right;\n    }\n</style>\n<table border=\"1\" class=\"dataframe\">\n  <thead>\n    <tr style=\"text-align: right;\">\n      <th></th>\n      <th>Date and Time</th>\n      <th>Download Speed (Mbps)</th>\n      <th>Upload Speed (Mbps)</th>\n      <th>Ping Speed (ms)</th>\n    </tr>\n  </thead>\n  <tbody>\n    <tr>\n      <th>0</th>\n      <td>09/Jul/2021 - 21:08:44 IST</td>\n      <td>38.99</td>\n      <td>31.75</td>\n      <td>10.391</td>\n    </tr>\n    <tr>\n      <th>1</th>\n      <td>09/Jul/2021 - 21:10:10 IST</td>\n      <td>24.50</td>\n      <td>21.50</td>\n      <td>8.207</td>\n    </tr>\n    <tr>\n      <th>2</th>\n      <td>09/Jul/2021 - 21:29:52 IST</td>\n      <td>24.42</td>\n      <td>11.71</td>\n      <td>9.049</td>\n    </tr>\n    <tr>\n      <th>3</th>\n      <td>10/Jul/2021 - 10:40:34 IST</td>\n      <td>47.43</td>\n      <td>26.95</td>\n      <td>32.855</td>\n    </tr>\n    <tr>\n      <th>4</th>\n      <td>12/Jul/2021 - 09:17:35 IST</td>\n      <td>18.49</td>\n      <td>26.63</td>\n      <td>34.090</td>\n    </tr>\n  </tbody>\n</table>\n</div>"
     },
     "metadata": {},
     "execution_count": 5
    }
   ],
   "source": [
    "updatecsv(getspeed())"
   ]
  }
 ],
 "metadata": {
  "interpreter": {
   "hash": "7812ea015bdcee6f23a998adcdd2ef97c151c0c241b7b7070987d9313e41299d"
  },
  "kernelspec": {
   "name": "python3",
   "display_name": "Python 3.9.5 64-bit"
  },
  "language_info": {
   "codemirror_mode": {
    "name": "ipython",
    "version": 3
   },
   "file_extension": ".py",
   "mimetype": "text/x-python",
   "name": "python",
   "nbconvert_exporter": "python",
   "pygments_lexer": "ipython3",
   "version": "3.9.5"
  }
 },
 "nbformat": 4,
 "nbformat_minor": 2
}