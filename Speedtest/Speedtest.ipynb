{
 "cells": [
  {
   "cell_type": "markdown",
   "source": [
    "# Speedtest\n",
    "Recording internet speedtest in a csv datafile using speedtest-cli.   \n",
    "\n",
    "\n",
    "!pip install speedtest-cli before proceeding if you haven't already."
   ],
   "metadata": {}
  },
  {
   "cell_type": "code",
   "execution_count": 1,
   "source": [
    "import numpy as np \r\n",
    "import pandas as pd \r\n",
    "from datetime import datetime\r\n",
    "import speedtest as st"
   ],
   "outputs": [],
   "metadata": {}
  },
  {
   "cell_type": "code",
   "execution_count": 2,
   "source": [
    "# Run this cell only first time to create empty csv file then comment out the cell\r\n",
    "# to avoid losing data\r\n",
    "'''\r\n",
    "create_df = pd.DataFrame(columns=[\"Date and Time\",\"Download Speed (Mbps)\",\"Upload Speed (Mbps)\",\"Ping Speed (ms)\"])\r\n",
    "create_df.to_csv(\"SpeedData.csv\",index=False)\r\n",
    "'''"
   ],
   "outputs": [
    {
     "output_type": "execute_result",
     "data": {
      "text/plain": [
       "'\\ncreate_df = pd.DataFrame(columns=[\"Date and Time\",\"Download Speed (Mbps)\",\"Upload Speed (Mbps)\",\"Ping Speed (ms)\"])\\ncreate_df.to_csv(\"SpeedData.csv\",index=False)\\n'"
      ]
     },
     "metadata": {},
     "execution_count": 2
    }
   ],
   "metadata": {}
  },
  {
   "cell_type": "code",
   "execution_count": 3,
   "source": [
    "def getspeed():\r\n",
    "    s = st.Speedtest()\r\n",
    "    s.get_best_server()\r\n",
    "    ping = s.results.ping\r\n",
    "    down = round(s.download()/10**6,2) # Divide by 10**6 to converts bps to Mbps\r\n",
    "    up = round(s.upload()/10**6,2)\r\n",
    "    timestamp = datetime.now().strftime(\"%d/%b/%Y - %H:%M:%S IST\")\r\n",
    "    return (timestamp,down,up,ping)\r\n",
    "\r\n",
    "def updatecsv(speed):\r\n",
    "    new_entry = pd.DataFrame({'Date and Time':[speed[0]],'Download Speed (Mbps)':[speed[1]],'Upload Speed (Mbps)':[speed[2]],'Ping Speed (ms)':[speed[3]]})\r\n",
    "    new_entry.to_csv(\"SpeedData.csv\",index=False,mode='a',header=False)\r\n",
    "    df = pd.read_csv(\"SpeedData.csv\",index_col=False)\r\n",
    "    return df"
   ],
   "outputs": [],
   "metadata": {}
  },
  {
   "cell_type": "code",
   "execution_count": 4,
   "source": [
    "updatecsv(getspeed())"
   ],
   "outputs": [
    {
     "output_type": "execute_result",
     "data": {
      "text/plain": [
       "                Date and Time  Download Speed (Mbps)  Upload Speed (Mbps)  \\\n",
       "0  09/Jul/2021 - 21:08:44 IST                  38.99                31.75   \n",
       "1  09/Jul/2021 - 21:10:10 IST                  24.50                21.50   \n",
       "2  09/Jul/2021 - 21:29:52 IST                  24.42                11.71   \n",
       "3  10/Jul/2021 - 10:40:34 IST                  47.43                26.95   \n",
       "4  12/Jul/2021 - 09:17:35 IST                  18.49                26.63   \n",
       "5  13/Jul/2021 - 00:05:07 IST                  31.93                31.63   \n",
       "6  15/Jul/2021 - 22:41:07 IST                  11.51                27.13   \n",
       "7  20/Jul/2021 - 18:22:33 IST                  11.02                33.02   \n",
       "8  21/Jul/2021 - 12:01:39 IST                  17.53                23.18   \n",
       "9  04/Aug/2021 - 16:25:02 IST                  78.57                73.45   \n",
       "\n",
       "   Ping Speed (ms)  \n",
       "0           10.391  \n",
       "1            8.207  \n",
       "2            9.049  \n",
       "3           32.855  \n",
       "4           34.090  \n",
       "5            8.164  \n",
       "6           38.680  \n",
       "7           65.646  \n",
       "8            9.423  \n",
       "9            9.497  "
      ],
      "text/html": [
       "<div>\n",
       "<style scoped>\n",
       "    .dataframe tbody tr th:only-of-type {\n",
       "        vertical-align: middle;\n",
       "    }\n",
       "\n",
       "    .dataframe tbody tr th {\n",
       "        vertical-align: top;\n",
       "    }\n",
       "\n",
       "    .dataframe thead th {\n",
       "        text-align: right;\n",
       "    }\n",
       "</style>\n",
       "<table border=\"1\" class=\"dataframe\">\n",
       "  <thead>\n",
       "    <tr style=\"text-align: right;\">\n",
       "      <th></th>\n",
       "      <th>Date and Time</th>\n",
       "      <th>Download Speed (Mbps)</th>\n",
       "      <th>Upload Speed (Mbps)</th>\n",
       "      <th>Ping Speed (ms)</th>\n",
       "    </tr>\n",
       "  </thead>\n",
       "  <tbody>\n",
       "    <tr>\n",
       "      <th>0</th>\n",
       "      <td>09/Jul/2021 - 21:08:44 IST</td>\n",
       "      <td>38.99</td>\n",
       "      <td>31.75</td>\n",
       "      <td>10.391</td>\n",
       "    </tr>\n",
       "    <tr>\n",
       "      <th>1</th>\n",
       "      <td>09/Jul/2021 - 21:10:10 IST</td>\n",
       "      <td>24.50</td>\n",
       "      <td>21.50</td>\n",
       "      <td>8.207</td>\n",
       "    </tr>\n",
       "    <tr>\n",
       "      <th>2</th>\n",
       "      <td>09/Jul/2021 - 21:29:52 IST</td>\n",
       "      <td>24.42</td>\n",
       "      <td>11.71</td>\n",
       "      <td>9.049</td>\n",
       "    </tr>\n",
       "    <tr>\n",
       "      <th>3</th>\n",
       "      <td>10/Jul/2021 - 10:40:34 IST</td>\n",
       "      <td>47.43</td>\n",
       "      <td>26.95</td>\n",
       "      <td>32.855</td>\n",
       "    </tr>\n",
       "    <tr>\n",
       "      <th>4</th>\n",
       "      <td>12/Jul/2021 - 09:17:35 IST</td>\n",
       "      <td>18.49</td>\n",
       "      <td>26.63</td>\n",
       "      <td>34.090</td>\n",
       "    </tr>\n",
       "    <tr>\n",
       "      <th>5</th>\n",
       "      <td>13/Jul/2021 - 00:05:07 IST</td>\n",
       "      <td>31.93</td>\n",
       "      <td>31.63</td>\n",
       "      <td>8.164</td>\n",
       "    </tr>\n",
       "    <tr>\n",
       "      <th>6</th>\n",
       "      <td>15/Jul/2021 - 22:41:07 IST</td>\n",
       "      <td>11.51</td>\n",
       "      <td>27.13</td>\n",
       "      <td>38.680</td>\n",
       "    </tr>\n",
       "    <tr>\n",
       "      <th>7</th>\n",
       "      <td>20/Jul/2021 - 18:22:33 IST</td>\n",
       "      <td>11.02</td>\n",
       "      <td>33.02</td>\n",
       "      <td>65.646</td>\n",
       "    </tr>\n",
       "    <tr>\n",
       "      <th>8</th>\n",
       "      <td>21/Jul/2021 - 12:01:39 IST</td>\n",
       "      <td>17.53</td>\n",
       "      <td>23.18</td>\n",
       "      <td>9.423</td>\n",
       "    </tr>\n",
       "    <tr>\n",
       "      <th>9</th>\n",
       "      <td>04/Aug/2021 - 16:25:02 IST</td>\n",
       "      <td>78.57</td>\n",
       "      <td>73.45</td>\n",
       "      <td>9.497</td>\n",
       "    </tr>\n",
       "  </tbody>\n",
       "</table>\n",
       "</div>"
      ]
     },
     "metadata": {},
     "execution_count": 4
    }
   ],
   "metadata": {}
  }
 ],
 "metadata": {
  "interpreter": {
   "hash": "f4da2e4dcbe768cc442fdfb9bae774ac8d17948510ac396126f8d91378e96f5b"
  },
  "kernelspec": {
   "name": "python3",
   "display_name": "Python 3.9.6 64-bit (windows store)"
  },
  "language_info": {
   "codemirror_mode": {
    "name": "ipython",
    "version": 3
   },
   "file_extension": ".py",
   "mimetype": "text/x-python",
   "name": "python",
   "nbconvert_exporter": "python",
   "pygments_lexer": "ipython3",
   "version": "3.9.6"
  }
 },
 "nbformat": 4,
 "nbformat_minor": 2
}