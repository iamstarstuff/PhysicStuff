{
 "cells": [
  {
   "cell_type": "code",
   "execution_count": 1,
   "id": "92808c39",
   "metadata": {},
   "outputs": [
    {
     "name": "stdout",
     "output_type": "stream",
     "text": [
      "Created TAP+ (v20200428.1) - Connection:\n",
      "\tHost: gea.esac.esa.int\n",
      "\tUse HTTPS: True\n",
      "\tPort: 443\n",
      "\tSSL Port: 443\n",
      "Created TAP+ (v20200428.1) - Connection:\n",
      "\tHost: gea.esac.esa.int\n",
      "\tUse HTTPS: True\n",
      "\tPort: 443\n",
      "\tSSL Port: 443\n"
     ]
    }
   ],
   "source": [
    "import matplotlib.pyplot as plt\n",
    "%matplotlib inline\n",
    "import numpy as np\n",
    "\n",
    "from astropy import units as u\n",
    "from astropy.coordinates import SkyCoord, Distance\n",
    "from astropy.io import fits\n",
    "from astropy.table import QTable\n",
    "from astropy.utils.data import download_file\n",
    "\n",
    "from astroquery.gaia import Gaia\n",
    "Gaia.ROW_LIMIT = 10000"
   ]
  },
  {
   "cell_type": "markdown",
   "id": "c33eda19",
   "metadata": {},
   "source": [
    "## Representing On-Sky Positions with astropy.coordinates\n",
    "\n",
    "In Astropy, the most common way of representing and working with sky coordinates is to use the `SkyCoord` object. A `SkyCoord` can be created directly from angles or arrays of angles with associated units.  \n",
    "\n",
    "Create `SkyCoord` object for the center of the open cluster NGC 188.  \n",
    "Assume for now, we know the sky coordinates of the cluster to be (12.11,85.26) degrees in ICRS coordinate frame. ICRS aka equatorial aka J2000 - is currently the most common astronomical coordinate frame for stellar or extragalactic astronomy, and is the default coordinate frame for `SkyCoord`."
   ]
  },
  {
   "cell_type": "code",
   "execution_count": 2,
   "id": "7f489ae3",
   "metadata": {},
   "outputs": [
    {
     "data": {
      "text/plain": [
       "<SkyCoord (ICRS): (ra, dec) in deg\n",
       "    (12.11, 85.26)>"
      ]
     },
     "execution_count": 2,
     "metadata": {},
     "output_type": "execute_result"
    }
   ],
   "source": [
    "ngc188_center = SkyCoord(12.11*u.deg,85.26*u.deg)\n",
    "ngc188_center"
   ]
  },
  {
   "cell_type": "code",
   "execution_count": 3,
   "id": "67c41506",
   "metadata": {},
   "outputs": [
    {
     "data": {
      "text/plain": [
       "<SkyCoord (ICRS): (ra, dec) in deg\n",
       "    (12.11, 85.26)>"
      ]
     },
     "execution_count": 3,
     "metadata": {},
     "output_type": "execute_result"
    }
   ],
   "source": [
    "'''\n",
    "Even though default frame is ICRS, it is generally recommended to explicitly specify\n",
    "the frame your coordinates are in.\n",
    "'''\n",
    "ngc188_center = SkyCoord(12.11*u.deg,85.26*u.deg,frame='icrs')\n",
    "ngc188_center"
   ]
  },
  {
   "cell_type": "markdown",
   "id": "fb192eba",
   "metadata": {},
   "source": [
    "   The `SkyCoord` initializer will also accept string-formatted coordinates either as separate strings for RA and Dec or a single string."
   ]
  },
  {
   "cell_type": "code",
   "execution_count": 4,
   "id": "916e7333",
   "metadata": {},
   "outputs": [
    {
     "data": {
      "text/plain": [
       "<SkyCoord (ICRS): (ra, dec) in deg\n",
       "    (12.11, 85.26)>"
      ]
     },
     "execution_count": 4,
     "metadata": {},
     "output_type": "execute_result"
    }
   ],
   "source": [
    "SkyCoord('00h48m26.4s','85d15m36s',frame='icrs')"
   ]
  },
  {
   "cell_type": "markdown",
   "id": "41c2f3f3",
   "metadata": {},
   "source": [
    "Alternative constructor for a SkyCoord object - calling with `SkyCoord.from_name()` with a name gives a new `SkyCoord` object."
   ]
  },
  {
   "cell_type": "code",
   "execution_count": 6,
   "id": "c6b95501",
   "metadata": {},
   "outputs": [
    {
     "data": {
      "text/plain": [
       "<SkyCoord (ICRS): (ra, dec) in deg\n",
       "    (12.10833333, 85.255)>"
      ]
     },
     "execution_count": 6,
     "metadata": {},
     "output_type": "execute_result"
    }
   ],
   "source": [
    "ngc188_center = SkyCoord.from_name('NGC 188')\n",
    "ngc188_center"
   ]
  },
  {
   "cell_type": "markdown",
   "id": "bda262a8",
   "metadata": {},
   "source": [
    "All `SkyCoord` objects have attributes that allow you to retrieve the coordinate component data, but the component names will change depending on the coordinate frame of the `SkyCoord` you have. In ICRS frame, the component names are lower-case abbreviations of RA `.ra` and Dec `.dec`."
   ]
  },
  {
   "cell_type": "code",
   "execution_count": 7,
   "id": "7e8855a6",
   "metadata": {},
   "outputs": [
    {
     "data": {
      "text/latex": [
       "$12^\\circ06{}^\\prime30{}^{\\prime\\prime}$"
      ],
      "text/plain": [
       "<Longitude 12.10833333 deg>"
      ]
     },
     "execution_count": 7,
     "metadata": {},
     "output_type": "execute_result"
    }
   ],
   "source": [
    "ngc188_center.ra"
   ]
  },
  {
   "cell_type": "code",
   "execution_count": 8,
   "id": "c28db39c",
   "metadata": {},
   "outputs": [
    {
     "data": {
      "text/latex": [
       "$85^\\circ15{}^\\prime18{}^{\\prime\\prime}$"
      ],
      "text/plain": [
       "<Latitude 85.255 deg>"
      ]
     },
     "execution_count": 8,
     "metadata": {},
     "output_type": "execute_result"
    }
   ],
   "source": [
    "ngc188_center.dec"
   ]
  },
  {
   "cell_type": "code",
   "execution_count": 9,
   "id": "660aab5d",
   "metadata": {},
   "outputs": [
    {
     "data": {
      "text/plain": [
       "(<Longitude 12.10833333 deg>, <Latitude 85.255 deg>)"
      ]
     },
     "execution_count": 9,
     "metadata": {},
     "output_type": "execute_result"
    }
   ],
   "source": [
    "ngc188_center.ra,ngc188_center.dec"
   ]
  },
  {
   "cell_type": "code",
   "execution_count": null,
   "id": "0e7f51f5",
   "metadata": {},
   "outputs": [],
   "source": []
  }
 ],
 "metadata": {
  "kernelspec": {
   "display_name": "Python 3",
   "language": "python",
   "name": "python3"
  },
  "language_info": {
   "codemirror_mode": {
    "name": "ipython",
    "version": 3
   },
   "file_extension": ".py",
   "mimetype": "text/x-python",
   "name": "python",
   "nbconvert_exporter": "python",
   "pygments_lexer": "ipython3",
   "version": "3.7.10"
  }
 },
 "nbformat": 4,
 "nbformat_minor": 5
}
