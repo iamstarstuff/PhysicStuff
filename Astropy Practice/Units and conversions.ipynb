{
 "metadata": {
  "language_info": {
   "codemirror_mode": {
    "name": "ipython",
    "version": 3
   },
   "file_extension": ".py",
   "mimetype": "text/x-python",
   "name": "python",
   "nbconvert_exporter": "python",
   "pygments_lexer": "ipython3",
   "version": "3.9.5"
  },
  "orig_nbformat": 4,
  "kernelspec": {
   "name": "python3",
   "display_name": "Python 3.9.5 64-bit"
  },
  "interpreter": {
   "hash": "7812ea015bdcee6f23a998adcdd2ef97c151c0c241b7b7070987d9313e41299d"
  }
 },
 "nbformat": 4,
 "nbformat_minor": 2,
 "cells": [
  {
   "source": [
    "# Exercise 1\n",
    "The **James Webb Space Telescope (JWST)** will be located at the second Sun-Earth (L2) point:  \n",
    "L2 is located at a distance from Earth of approximately: $$r\\approx R\\Big(\\dfrac{M_{earth}}{3M_{sun}}\\Big)^{(1/3)}$$\n",
    "where $R$ is the Sun-Earth distance.  \n",
    "Calculate the Earth-L2 distance in Km and Miles."
   ],
   "cell_type": "markdown",
   "metadata": {}
  },
  {
   "cell_type": "code",
   "execution_count": 1,
   "metadata": {},
   "outputs": [],
   "source": [
    "import astropy.constants as const\n",
    "import astropy.units as u\n",
    "\n",
    "R = 1 * u.au \n",
    "Me = const.M_earth\n",
    "Ms= const.M_sun\n",
    "\n",
    "r = R * (Me/(3*Ms))**(1/3)"
   ]
  },
  {
   "cell_type": "code",
   "execution_count": 2,
   "metadata": {},
   "outputs": [
    {
     "output_type": "execute_result",
     "data": {
      "text/plain": [
       "<Quantity 1.49655848e+09 m>"
      ],
      "text/latex": "$1.4965585 \\times 10^{9} \\; \\mathrm{m}$"
     },
     "metadata": {},
     "execution_count": 2
    }
   ],
   "source": [
    "r.decompose()"
   ]
  },
  {
   "cell_type": "code",
   "execution_count": 3,
   "metadata": {},
   "outputs": [
    {
     "output_type": "execute_result",
     "data": {
      "text/plain": [
       "<Quantity 1496558.48134108 km>"
      ],
      "text/latex": "$1496558.5 \\; \\mathrm{km}$"
     },
     "metadata": {},
     "execution_count": 3
    }
   ],
   "source": [
    "r.to(u.km)"
   ]
  },
  {
   "cell_type": "code",
   "execution_count": 4,
   "metadata": {},
   "outputs": [
    {
     "output_type": "execute_result",
     "data": {
      "text/plain": [
       "<Quantity 929918.3278038 mi>"
      ],
      "text/latex": "$929918.33 \\; \\mathrm{mi}$"
     },
     "metadata": {},
     "execution_count": 4
    }
   ],
   "source": [
    "r.to(u.imperial.mile)"
   ]
  },
  {
   "source": [
    "# Exercise 2\n",
    "The L2 point is about 1.5 million kilometers away from the Earth opposite the Sun. The total mass of the JWST is about 6500 kg.  \n",
    "Using the value you obtained above for the Earth-L2 distance, calculate the gravitational force in Newtons between:  \n",
    "- JWST (at L2) and the Earth. \n",
    "- JWST (at L2) and the Sun.  \n",
    "Hint: The gravitational force between the two masses seperated by distance r is: $$F_g=\\dfrac{Gm_1m_2}{r^2}$$"
   ],
   "cell_type": "markdown",
   "metadata": {}
  },
  {
   "cell_type": "code",
   "execution_count": 5,
   "metadata": {},
   "outputs": [],
   "source": [
    "import astropy.constants as const\n",
    "import astropy.units as u\n",
    "\n",
    "R = 1 * u.au \n",
    "Me = const.M_earth\n",
    "Ms= const.M_sun\n",
    "Mjwst = 6500 * u.kg\n",
    "r = R * (Me/(3*Ms))**(1/3)\n",
    "\n",
    "Fe = (const.G*Me*Mjwst)/r**2\n",
    "Fs = (const.G*Ms*Mjwst)/(r + R)**2"
   ]
  },
  {
   "cell_type": "code",
   "execution_count": 6,
   "metadata": {},
   "outputs": [
    {
     "output_type": "stream",
     "name": "stdout",
     "text": [
      "Gravitational force between Earth and JWST:\n"
     ]
    },
    {
     "output_type": "execute_result",
     "data": {
      "text/plain": [
       "<Quantity 1.15681444 N>"
      ],
      "text/latex": "$1.1568144 \\; \\mathrm{N}$"
     },
     "metadata": {},
     "execution_count": 6
    }
   ],
   "source": [
    "print(\"Gravitational force between Earth and JWST:\")\n",
    "Fe.to(u.N)"
   ]
  },
  {
   "cell_type": "code",
   "execution_count": 7,
   "metadata": {},
   "outputs": [
    {
     "output_type": "stream",
     "name": "stdout",
     "text": [
      "Gravitatinal force between Sun and JWST:\n"
     ]
    },
    {
     "output_type": "execute_result",
     "data": {
      "text/plain": [
       "<Quantity 37.78575341 N>"
      ],
      "text/latex": "$37.785753 \\; \\mathrm{N}$"
     },
     "metadata": {},
     "execution_count": 7
    }
   ],
   "source": [
    "print(\"Gravitatinal force between Sun and JWST:\")\n",
    "Fs.to(u.N)"
   ]
  },
  {
   "source": [
    "# Exercise 3\n",
    "Calculate the Schwarzschild radius in units of solar radii of the Sgr $A^*$, the Milky Way's supermassive black hole with $M=4.31\\times 10^6\\;M_\\odot$, given $$r_s=\\dfrac{2GM}{c^2}$$  \n",
    "Also Calculate the angular size of the event horizon on the sky in microarcseconds, given the distance to the galactic center $d_{center}=7.94\\;\\;kpc$, given $$\\theta=\\arctan \\dfrac{2r_s}{d_{center}}$$"
   ],
   "cell_type": "markdown",
   "metadata": {}
  },
  {
   "cell_type": "code",
   "execution_count": 8,
   "metadata": {},
   "outputs": [
    {
     "output_type": "stream",
     "name": "stdout",
     "text": [
      "Schwarzschild Radius of Sgr A* in units of Solar radii:\n"
     ]
    },
    {
     "output_type": "execute_result",
     "data": {
      "text/plain": [
       "<Quantity 18.29597215 solRad>"
      ],
      "text/latex": "$18.295972 \\; \\mathrm{R_{\\odot}}$"
     },
     "metadata": {},
     "execution_count": 8
    }
   ],
   "source": [
    "import astropy.constants as const\n",
    "import astropy.units as u\n",
    "import numpy as np\n",
    "Msgr = 4.31e6 * const.M_sun\n",
    "rs = (2*const.G*Msgr)/(const.c)**2\n",
    "print(\"Schwarzschild Radius of Sgr A* in units of Solar radii:\")\n",
    "rs.to(u.R_sun)"
   ]
  },
  {
   "cell_type": "code",
   "execution_count": 9,
   "metadata": {},
   "outputs": [
    {
     "output_type": "stream",
     "name": "stdout",
     "text": [
      "Angular size of event horizon in microarcseconds:\n"
     ]
    },
    {
     "output_type": "execute_result",
     "data": {
      "text/plain": [
       "<Quantity 21.43194446 uarcsec>"
      ],
      "text/latex": "$21.431944 \\; \\mathrm{\\mu arcsec}$"
     },
     "metadata": {},
     "execution_count": 9
    }
   ],
   "source": [
    "dc = 7.94 * u.kpc\n",
    "theta = np.arctan(2*rs/dc)\n",
    "print(\"Angular size of event horizon in microarcseconds:\")\n",
    "theta.to(u.uarcsec)"
   ]
  },
  {
   "source": [
    "# Exercise 4\n",
    "Make a very rough estimate of temperature of material in the vicinity of Sgr $A^*$ by assuming hydrostatic equilibrium, so that the thermal energy of the gas balances the gravitational force: $$kT\\sim \\dfrac{G\\,M\\,m_p}{R}$$   \n",
    "Where $m_p$ is the mass of proton and $R$ is the distance away from black hole. Using Astropy's constants and properties of Sgr $A^*$ described above, compute the temperature of the gas required to balance the black hole's gravitation pull at 1 million Schwarzschild radii derived above. Use this equation: $$T=\\dfrac{GMm_p}{10^6r_sk}$$\n",
    "Then use the Astropy units temperature equivalencies to find the energy of that gas."
   ],
   "cell_type": "markdown",
   "metadata": {}
  },
  {
   "cell_type": "code",
   "execution_count": 10,
   "metadata": {},
   "outputs": [
    {
     "output_type": "stream",
     "name": "stdout",
     "text": [
      "Temperature of the gas required to balance the black hole's gravitational pull at 1 million Schwarzschild radii:\n"
     ]
    },
    {
     "output_type": "execute_result",
     "data": {
      "text/plain": [
       "<Quantity 5444097.72500152 K>"
      ],
      "text/latex": "$5444097.7 \\; \\mathrm{K}$"
     },
     "metadata": {},
     "execution_count": 10
    }
   ],
   "source": [
    "T =(const.G*Msgr*const.m_p)/(1e6*rs*const.k_B)\n",
    "print(\"Temperature of the gas required to balance the black hole's gravitational pull at 1 million Schwarzschild radii:\")\n",
    "T.to(u.K)"
   ]
  },
  {
   "cell_type": "code",
   "execution_count": 11,
   "metadata": {},
   "outputs": [
    {
     "output_type": "execute_result",
     "data": {
      "text/plain": [
       "<Quantity 0.46913604 keV>"
      ],
      "text/latex": "$0.46913604 \\; \\mathrm{keV}$"
     },
     "metadata": {},
     "execution_count": 11
    }
   ],
   "source": [
    "T.to(u.keV,equivalencies=u.temperature_energy())"
   ]
  }
 ]
}