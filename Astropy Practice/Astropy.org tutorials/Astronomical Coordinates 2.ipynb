{
 "cells": [
  {
   "cell_type": "markdown",
   "source": [
    "# Astronomical Coordinates 2: Transforming Coordinate Systems and Representation"
   ],
   "metadata": {}
  },
  {
   "cell_type": "code",
   "execution_count": 1,
   "source": [
    "import matplotlib as mpl\r\n",
    "import matplotlib.pyplot as plt\r\n",
    "import numpy as np\r\n",
    "\r\n",
    "from astropy import units as u\r\n",
    "from astropy.coordinates import (SkyCoord, Distance, Galactic, EarthLocation, AltAz)\r\n",
    "import astropy.coordinates as coord\r\n",
    "from astropy.io import fits\r\n",
    "from astropy.table import QTable\r\n",
    "from astropy.time import Time\r\n",
    "from astropy.utils.data import download_file"
   ],
   "outputs": [],
   "metadata": {}
  },
  {
   "cell_type": "markdown",
   "source": [
    "## Coordinate Component Formats\r\n",
    "It is possible to pass in coordinate component data to the `SkyCoord` initializer as strings or as `Quantity` object in a variety of formats and units."
   ],
   "metadata": {}
  },
  {
   "cell_type": "code",
   "execution_count": 3,
   "source": [
    "c = SkyCoord(ra=15.9932*u.deg, dec = -10.52351344*u.deg)\r\n",
    "print(c.ra.hourangle)"
   ],
   "outputs": [
    {
     "output_type": "stream",
     "name": "stdout",
     "text": [
      "1.0662133333333335\n"
     ]
    }
   ],
   "metadata": {}
  },
  {
   "cell_type": "code",
   "execution_count": 5,
   "source": [
    "print(c.to_string('hmsdms'))"
   ],
   "outputs": [
    {
     "output_type": "stream",
     "name": "stdout",
     "text": [
      "01h03m58.368s -10d31m24.6484s\n"
     ]
    }
   ],
   "metadata": {}
  },
  {
   "cell_type": "code",
   "execution_count": 6,
   "source": [
    "print(c.dec.to_string(sep=':',precision=5))"
   ],
   "outputs": [
    {
     "output_type": "stream",
     "name": "stdout",
     "text": [
      "-10:31:24.64838\n"
     ]
    }
   ],
   "metadata": {}
  },
  {
   "cell_type": "code",
   "execution_count": null,
   "source": [],
   "outputs": [],
   "metadata": {}
  }
 ],
 "metadata": {
  "interpreter": {
   "hash": "f4da2e4dcbe768cc442fdfb9bae774ac8d17948510ac396126f8d91378e96f5b"
  },
  "kernelspec": {
   "name": "python3",
   "display_name": "Python 3.9.6 64-bit (windows store)"
  },
  "language_info": {
   "codemirror_mode": {
    "name": "ipython",
    "version": 3
   },
   "file_extension": ".py",
   "mimetype": "text/x-python",
   "name": "python",
   "nbconvert_exporter": "python",
   "pygments_lexer": "ipython3",
   "version": "3.9.6"
  }
 },
 "nbformat": 4,
 "nbformat_minor": 2
}