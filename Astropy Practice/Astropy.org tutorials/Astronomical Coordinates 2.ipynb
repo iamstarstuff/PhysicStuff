{
 "cells": [
  {
   "cell_type": "markdown",
   "metadata": {},
   "source": [
    "# Astronomical Coordinates 2: Transforming Coordinate Systems and Representation"
   ]
  },
  {
   "cell_type": "code",
   "execution_count": 1,
   "metadata": {},
   "outputs": [],
   "source": [
    "import matplotlib as mpl\n",
    "import matplotlib.pyplot as plt\n",
    "import numpy as np\n",
    "\n",
    "from astropy import units as u\n",
    "from astropy.coordinates import (SkyCoord, Distance, Galactic, EarthLocation, AltAz)\n",
    "import astropy.coordinates as coord\n",
    "from astropy.io import fits\n",
    "from astropy.table import QTable\n",
    "from astropy.time import Time\n",
    "from astropy.utils.data import download_file"
   ]
  },
  {
   "cell_type": "code",
   "execution_count": null,
   "metadata": {},
   "outputs": [],
   "source": []
  }
 ],
 "metadata": {
  "interpreter": {
   "hash": "f4da2e4dcbe768cc442fdfb9bae774ac8d17948510ac396126f8d91378e96f5b"
  },
  "kernelspec": {
   "display_name": "Python 3",
   "language": "python",
   "name": "python3"
  },
  "language_info": {
   "codemirror_mode": {
    "name": "ipython",
    "version": 3
   },
   "file_extension": ".py",
   "mimetype": "text/x-python",
   "name": "python",
   "nbconvert_exporter": "python",
   "pygments_lexer": "ipython3",
   "version": "3.7.10"
  }
 },
 "nbformat": 4,
 "nbformat_minor": 2
}
