{
 "metadata": {
  "language_info": {
   "codemirror_mode": {
    "name": "ipython",
    "version": 3
   },
   "file_extension": ".py",
   "mimetype": "text/x-python",
   "name": "python",
   "nbconvert_exporter": "python",
   "pygments_lexer": "ipython3",
   "version": "3.9.5"
  },
  "orig_nbformat": 4,
  "kernelspec": {
   "name": "python3",
   "display_name": "Python 3.9.5 64-bit"
  },
  "interpreter": {
   "hash": "7812ea015bdcee6f23a998adcdd2ef97c151c0c241b7b7070987d9313e41299d"
  }
 },
 "nbformat": 4,
 "nbformat_minor": 2,
 "cells": [
  {
   "source": [
    "# Semi Empirical Mass Formula\n",
    "In nuclear physics the semi-empirical mass formula for calculating the approximate nuclear binding energy B of an atomic nucleus with atomic number Z and mass number A is given as: \n",
    "$$\\mathrm{B} = a_1\\mathrm{A}-a_2\\mathrm{A}^{2/3}-a_3\\dfrac{\\mathrm{Z}^2}{\\mathrm{A}^{1/3}}-a_4\\dfrac{(\\mathrm{A}-2\\mathrm{Z})^2}{\\mathrm{A}}+\\dfrac{a_5}{\\mathrm{A}^{1/2}}$$  \n",
    "where, in units of $MeV$ the constants are $a_1=15.67$, $a_2=17.23$, $a_3=0.75$, $a_4=93.2$ , and  $$ $$\n",
    "$$ a_5 = \n",
    "    \\begin{cases}\n",
    "        \\;\\;\\;\\;\\;0 & \\quad \\text{ if } A \\text{ is odd, }\\\\\n",
    "        \\;\\;\\;12.0 & \\quad \\text{ if } A \\text{ and } Z \\text{ are both even,}\\\\\n",
    "        -12.0 & \\quad \\text{ if } A \\text{ is even and } Z \\text{ is odd.}\n",
    "    \\end{cases}\n",
    "$$ \n",
    "$$ $$\n",
    "Hint: Use `if() elif() elif()` to choose the appropriate value of $a_5$. \n",
    "\n",
    "1. Write a function that takes as its input parameters values of $\\mathrm{A}$ and $\\mathrm{Z}$, and prints out the binding energy for the corresponding atom. Find Binding Energy for atom with $\\mathrm{A}=58$ and $\\mathrm{Z}=28$ (Nickel)   \n",
    "(Hint: The correct answer is around 490 $MeV$)  \n",
    "  **Use formatted string to print output**, your output should look something like this:\n",
    "  ```\n",
    "  Binding energy for atom with A = 58 and Z = 28 is 493.94 MeV\n",
    "  ```"
   ],
   "cell_type": "markdown",
   "metadata": {}
  },
  {
   "cell_type": "code",
   "execution_count": 1,
   "metadata": {},
   "outputs": [],
   "source": [
    "def semf(A,Z):\n",
    "    a1,a2,a3,a4 = 15.67,17.23,0.75,93.2\n",
    "    \n",
    "    if A%2 != 0:\n",
    "        a5 = 0\n",
    "    elif (A%2 == 0 and Z%2 == 0):\n",
    "        a5 = 12.0\n",
    "    elif A%2 == 0 and Z%2 != 0:\n",
    "        a5 = -12.0\n",
    "    \n",
    "    B = (a1*A)-(a2*pow(A,2/3))-(a3*(Z**2/pow(A,1/3)))-(a4*(pow((A-2*Z),2)/A))+(a5/pow(A,1/2))\n",
    "\n",
    "    print(f\"Binding energy for atom with A = {A} and Z = {Z} is {round(B,2)} MeV\")"
   ]
  },
  {
   "cell_type": "code",
   "execution_count": 2,
   "metadata": {},
   "outputs": [
    {
     "output_type": "stream",
     "name": "stdout",
     "text": [
      "Binding energy for atom with A = 58 and Z = 28 is 493.94 MeV\n"
     ]
    }
   ],
   "source": [
    "semf(58,28)"
   ]
  },
  {
   "source": [
    "2. Modify the program to print out the Binding energy per nucleon$=\\Big(\\dfrac{\\mathrm{B}}{\\mathrm{A}}\\Big)$ in addition to Binding Energy.  \n",
    "    Your output should look something like this:\n",
    "    ```\n",
    "    Binding energy for atom with A = 58 and Z = 28 is 493.94 MeV \n",
    "    Binding energy per nucleon is 8.52 MeV/Nucleon\n",
    "    ```"
   ],
   "cell_type": "markdown",
   "metadata": {}
  },
  {
   "cell_type": "code",
   "execution_count": 3,
   "metadata": {},
   "outputs": [],
   "source": [
    "def semf(A,Z):\n",
    "    a1,a2,a3,a4 = 15.67,17.23,0.75,93.2\n",
    "    \n",
    "    if A%2 != 0:\n",
    "        a5 = 0\n",
    "    elif (A%2 == 0 and Z%2 == 0):\n",
    "        a5 = 12.0\n",
    "    elif A%2 == 0 and Z%2 != 0:\n",
    "        a5 = -12.0\n",
    "    \n",
    "    B = (a1*A)-(a2*pow(A,2/3))-(a3*(Z**2/pow(A,1/3)))-(a4*(pow((A-2*Z),2)/A))+(a5/pow(A,1/2))\n",
    "    BN = B/A\n",
    "    print(f\"Binding energy for atom with A = {A} and Z = {Z} is {round(B,2)} MeV \\nBinding energy per nucleon is {round(BN,2)} MeV/Nucleon\")"
   ]
  },
  {
   "cell_type": "code",
   "execution_count": 4,
   "metadata": {},
   "outputs": [
    {
     "output_type": "stream",
     "name": "stdout",
     "text": [
      "Binding energy for atom with A = 58 and Z = 28 is 493.94 MeV \nBinding energy per nucleon is 8.52 MeV/Nucleon\n"
     ]
    }
   ],
   "source": [
    "semf(58,28)"
   ]
  },
  {
   "source": [
    "3. Now using NumPy `arange()` function, modify the program so that the function takes as input just a single value of the atomic number $\\mathrm{Z}$ and then goes on through all values of $\\mathrm{A}$ from $\\mathrm{A}=\\mathrm{Z}$ to $\\mathrm{A}=3\\mathrm{Z}$ in the step size of 10, to find the one that the largest binding energy per nucleon. This is the most stable nucleus with the given atomic number. Have your program print out the values of binding energy per nucleon for the range of values of A which you will use and notice that the highest BE per nucleon is the most stable nucleus.  \n",
    "Hint: `A = np.arange(Z,3*Z+1,10)` Range of values of A from A=Z to A=3Z in increments of 10.  \n",
    "\n",
    "  Your output should look something like:\n",
    "  ```\n",
    "    1. Binding energy for atom with A = 27 and Z = 27 is -2430.63 MeV \n",
    "      Binding energy per nucleon is -90.02333333333334 MeV/nucleon \n",
    "\n",
    "    2. Binding energy for atom with A = 37 and Z = 27 is -503.57 MeV \n",
    "      Binding energy per nucleon is -13.610110069721394 MeV/nucleon \n",
    "\n",
    "    3. Binding energy for atom with A = 47 and Z = 27 is 263.42 MeV \n",
    "      Binding energy per nucleon is 5.6047534413899855 MeV/nucleon \n",
    "\n",
    "    4. Binding energy for atom with A = 57 and Z = 27 is 481.21 MeV \n",
    "      Binding energy per nucleon is 8.442334327673143 MeV/nucleon \n",
    "\n",
    "    5. Binding energy for atom with A = 67 and Z = 27 is 395.96 MeV \n",
    "      Binding energy per nucleon is 5.909824100368582 MeV/nucleon \n",
    "\n",
    "    6. Binding energy for atom with A = 77 and Z = 27 is 125.93 MeV \n",
    "      Binding energy per nucleon is 1.635421916864445 MeV/nucleon \n",
    "\n",
    "    The most stable nucleus is the one with the highest Binding energy per nucleon which is 8.442334327673143 MeV/nucleon \n",
    "\n",
    "  ```"
   ],
   "cell_type": "markdown",
   "metadata": {}
  },
  {
   "cell_type": "code",
   "execution_count": 5,
   "metadata": {},
   "outputs": [],
   "source": [
    "import numpy as np\n",
    "def semf(Z):\n",
    "    a1,a2,a3,a4 = 15.67,17.23,0.75,93.2 # assign all constants\n",
    "    \n",
    "    A = np.arange(Z,3*Z+1,10) # range of mass numbers from Z to 3Z+1 because we need to include 3Z too \n",
    "    \n",
    "    # conditions for a5\n",
    "    if A.any()%2 != 0:\n",
    "        a5 = 0\n",
    "    elif (A.any()%2 == 0 and Z%2 == 0):\n",
    "        a5 = 12.0\n",
    "    elif A.any()%2 == 0 and Z%2 != 0:\n",
    "        a5 = -12.0\n",
    "        \n",
    "    BN = []\n",
    "    for i in range(len(A)):\n",
    "        B = (a1*A[i])-(a2*pow(A[i],2/3))-(a3*(Z**2/pow(A[i],1/3)))-(a4*(pow((A[i]-2*Z),2)/A[i]))+(a5/pow(A[i],1/2))\n",
    "        \n",
    "        BN.append(B/A[i]) # BE per nucleon\n",
    "        \n",
    "        print(f\"{i+1}. Binding energy for atom with A = {A[i]} and Z = {Z} is {round(B,2)} MeV \\n   Binding energy per nucleon is {BN[i]} MeV/nucleon \\n\")\n",
    "    print(f\"The most stable nucleus is with the highest Binding energy per nucleon which is {np.max(BN)} MeV/nucleon\")"
   ]
  },
  {
   "cell_type": "code",
   "execution_count": 6,
   "metadata": {},
   "outputs": [
    {
     "output_type": "stream",
     "name": "stdout",
     "text": [
      "1. Binding energy for atom with A = 27 and Z = 27 is -2430.63 MeV \n   Binding energy per nucleon is -90.02333333333334 MeV/nucleon \n\n2. Binding energy for atom with A = 37 and Z = 27 is -503.57 MeV \n   Binding energy per nucleon is -13.610110069721394 MeV/nucleon \n\n3. Binding energy for atom with A = 47 and Z = 27 is 263.42 MeV \n   Binding energy per nucleon is 5.6047534413899855 MeV/nucleon \n\n4. Binding energy for atom with A = 57 and Z = 27 is 481.21 MeV \n   Binding energy per nucleon is 8.442334327673143 MeV/nucleon \n\n5. Binding energy for atom with A = 67 and Z = 27 is 395.96 MeV \n   Binding energy per nucleon is 5.909824100368582 MeV/nucleon \n\n6. Binding energy for atom with A = 77 and Z = 27 is 125.93 MeV \n   Binding energy per nucleon is 1.635421916864445 MeV/nucleon \n\nThe most stable nucleus is with the highest Binding energy per nucleon which is 8.442334327673143 MeV/nucleon\n"
     ]
    }
   ],
   "source": [
    "semf(27)"
   ]
  }
 ]
}