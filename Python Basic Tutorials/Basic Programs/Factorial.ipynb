{
 "cells": [
  {
   "cell_type": "code",
   "execution_count": 1,
   "id": "1556375d",
   "metadata": {},
   "outputs": [],
   "source": [
    "# Using for loop\n",
    "\n",
    "def factorial_1(n):\n",
    "    f = 1\n",
    "    for i in range(1,n+1):\n",
    "        f = f*i\n",
    "    return f\n",
    "        "
   ]
  },
  {
   "cell_type": "code",
   "execution_count": 2,
   "id": "093f110a",
   "metadata": {},
   "outputs": [
    {
     "data": {
      "text/plain": [
       "120"
      ]
     },
     "execution_count": 2,
     "metadata": {},
     "output_type": "execute_result"
    }
   ],
   "source": [
    "factorial_1(5)"
   ]
  },
  {
   "cell_type": "code",
   "execution_count": 3,
   "id": "94440406",
   "metadata": {},
   "outputs": [
    {
     "name": "stdout",
     "output_type": "stream",
     "text": [
      "1 ! = 1\n",
      "2 ! = 2\n",
      "3 ! = 6\n",
      "4 ! = 24\n",
      "5 ! = 120\n",
      "6 ! = 720\n",
      "7 ! = 5040\n",
      "8 ! = 40320\n",
      "9 ! = 362880\n",
      "10 ! = 3628800\n"
     ]
    }
   ],
   "source": [
    "for i in range(1,11):\n",
    "    print(f\"{i} ! = {factorial_1(i)}\")"
   ]
  },
  {
   "cell_type": "code",
   "execution_count": 4,
   "id": "37268408",
   "metadata": {},
   "outputs": [],
   "source": [
    "# Using while loop\n",
    "\n",
    "def factorial_2(m):\n",
    "    f = 1\n",
    "    i = 1\n",
    "    while i <= m:\n",
    "        f = f*i\n",
    "        i += 1\n",
    "    return f"
   ]
  },
  {
   "cell_type": "code",
   "execution_count": 5,
   "id": "81066afc",
   "metadata": {},
   "outputs": [
    {
     "data": {
      "text/plain": [
       "720"
      ]
     },
     "execution_count": 5,
     "metadata": {},
     "output_type": "execute_result"
    }
   ],
   "source": [
    "factorial_2(6)"
   ]
  },
  {
   "cell_type": "code",
   "execution_count": 6,
   "id": "e18fa937",
   "metadata": {},
   "outputs": [],
   "source": [
    "# Without loop, calling function inside itself\n",
    "\n",
    "def factorial_3(x):\n",
    "    if x > 0:\n",
    "        return x * factorial_3(x - 1)\n",
    "    else:\n",
    "        return 1\n",
    "    "
   ]
  },
  {
   "cell_type": "code",
   "execution_count": 7,
   "id": "43644afb",
   "metadata": {},
   "outputs": [
    {
     "data": {
      "text/plain": [
       "39916800"
      ]
     },
     "execution_count": 7,
     "metadata": {},
     "output_type": "execute_result"
    }
   ],
   "source": [
    "factorial_3(11)"
   ]
  }
 ],
 "metadata": {
  "kernelspec": {
   "display_name": "Python 3",
   "language": "python",
   "name": "python3"
  },
  "language_info": {
   "codemirror_mode": {
    "name": "ipython",
    "version": 3
   },
   "file_extension": ".py",
   "mimetype": "text/x-python",
   "name": "python",
   "nbconvert_exporter": "python",
   "pygments_lexer": "ipython3",
   "version": "3.9.5"
  }
 },
 "nbformat": 4,
 "nbformat_minor": 5
}
