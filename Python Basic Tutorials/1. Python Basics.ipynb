{
 "cells": [
  {
   "cell_type": "markdown",
   "metadata": {
    "id": "nHaUiR_0FdIv"
   },
   "source": [
    "# **Getting Started with Python**"
   ]
  },
  {
   "cell_type": "markdown",
   "metadata": {
    "id": "b0kBE4Jugfuj",
    "jp-MarkdownHeadingCollapsed": true
   },
   "source": [
    "\n",
    "We'll be using Jupyter Notebook for our programming sessions. It supports many programming languages, we need Python installed before installing Jupyter Notebook. UNIX based system like Mac and Linux have python preinstalled, for windows you can download and install python from [here](https://www.python.org/downloads/release/python-394/).  \n",
    "Alternatively you can install Anaconda (it has packages we need) from [here](https://www.anaconda.com/products/individual).  \n",
    "Download the installer according to your OS. If you're not familiar with command line installation then choose the Graphical installer.   \n",
    "Via Anaconda navigator you can get multiple IDEs like Jupyter Notebook, Spyder, Visual Studio, etc. There are many options to use, it is completely a personal choice which you can explore.  \n",
    "\n",
    "\n",
    "---\n",
    "\n",
    "### Windows\n",
    "- Install Anaconda > Launch Anaconda Navigator and launch Jupyter Notebook\n",
    "- Alternatively Open command prompt (Press Windows and type 'cmd')  \n",
    "Enter the following command to run  \n",
    "```\n",
    "jupyter notebook\n",
    "```\n",
    "\n",
    "### MacOS\n",
    "- Install Anaconda > Launch Anaconda Navigator and launch Jupyter Notebook\n",
    "- Alternatively open Terminal and enter following command  \n",
    "```\n",
    "jupyter notebook\n",
    "```\n",
    "\n",
    "### Linux\n",
    "- Install Anaconda > [see detailed instructions for Linux](https://docs.anaconda.com/anaconda/install/linux/)\n",
    "- Open terminal (CTRL + ALT + T) and enter following command  \n",
    "```\n",
    "jupyter notebook\n",
    "```\n",
    "\n",
    "\n",
    "---\n",
    "\n",
    "## .py and .ipynb formats \n",
    "- .py is a regular python file. It's plain text and contains just your code.\n",
    "\n",
    "- .ipynb is a python notebook and it contains the notebook code, the execution results and other internal settings in a specific format. You can just run .ipynb on the jupyter environment.\n",
    "\n",
    "- Better way to understand the difference: open each file using a regular text editor like notepad (on Windows) or gedit (on Linux).\n",
    "\n",
    "- Save on git the .ipynb if you want to show the results of your script for didatic purposes, for example. But if you are going to run your code on a server, just save the .py"
   ]
  },
  {
   "cell_type": "markdown",
   "metadata": {
    "id": "-q1Vu2--erpD"
   },
   "source": [
    "---\n",
    "## Using Jupyter Notebook\n",
    "The Jupyter Notebook aims to support the latest versions of these browsers:\n",
    "- Chrome\n",
    "- Safari\n",
    "- Firefox  \n",
    "\n",
    "Up to date versions of Edge and Opera may also work, but if they don't, please use one of the supported browsers.  \n",
    "Using Safari with HTTPS and an untrusted certificate is known to not work (websockets will fail).  \n",
    "\n",
    "- When you launch `Jupyter Notebook` the first page that you encounter is the Notebook Dashboard. Detailed [Documentation](https://jupyter-notebook.readthedocs.io/en/stable/ui_components.html#notebook-dashboard)  \n",
    "\n",
    "  ![picture](https://jupyter-notebook.readthedocs.io/en/stable/_images/jupyter-notebook-dashboard.png)   \n",
    "- Creating a new notebook document: It is opened in a new browser tab.  \n",
    "[Documentation](https://jupyter-notebook.readthedocs.io/en/latest/notebook.html#creating-a-new-notebook-document)  \n",
    "\n",
    "  ![picture](https://jupyter-notebook.readthedocs.io/en/latest/_images/new-notebook.gif)\n",
    "- Notebook user interface  \n",
    "\n",
    "  ![picture](https://jupyter-notebook.readthedocs.io/en/latest/_images/blank-notebook-ui.png)  \n",
    "---\n",
    "## Cell Types\n",
    "There are 3 basic cell types:\n",
    "- **Code cells:** Input and output of live code that is run in the kernel\n",
    "- **Markdown cells:** Narrative text (Markup language/HTML). When a Markdown cell is executed, the markdown code is converted into the corresponding formatted rich text. Within Markdown cells, you can also include $mathematics$ in a straightforward way using standard $\\LaTeX$ notation: `$...$` for inline mathematics and `$$...$$` for displayed mathematics. The $\\LaTeX$ portions are automatically rendered in the HTML output as equations with high quality typography. This is made possible by [MathJax](https://www.mathjax.org/), which supports a large subset of $\\LaTeX$ functionality.\n",
    "- **Raw cells:** Unformatted text that is included, without modifications, when notebooks are converted to different formats using nbconvert.\n",
    "---\n",
    "## Running a code\n",
    "- Jupyter notebook is associated with the IPython kernel. To run a code enter the code in the **code cell**. `Run a code cell using Shift+Enter`\n",
    "- There are two more keyboard shortcuts to run code:\n",
    "```\n",
    "Alt + Enter runs the current cell and inserts a new one below.\n",
    "Ctrl + Enter runs the current cell and enters command mode.\n",
    "``` \n",
    "---\n",
    "### Keyboard Navigation\n",
    "In edit mode, most of the keyboard is dedicated to typing into the cell's editor.  \n",
    "In command mode the shortcuts are:  \n",
    "- Basic navigation: enter, shift+enter, up(k), down(j)\n",
    "- Saving the notebook: ss\n",
    "- Deleting the cell - dd (d twice)\n",
    "- Cell creation: a for cell above, b for cell below\n",
    "- Cell editing: x(cut), c(copy), v(paste)\n",
    "- Kernel Operations: i, 0 (press twice)  \n",
    "\n",
    "There's a list of keyboard shortcuts in `Help > Keyboard Shortcuts` in the notebook menu bar.\n",
    "\n",
    "### CheatSheet for Menu Bar and Tool Bar\n",
    "[Cheat Sheet Link](https://s3.amazonaws.com/assets.datacamp.com/blog_assets/Jupyter_Notebook_Cheat_Sheet.pdf)\n",
    "\n",
    "\n"
   ]
  },
  {
   "cell_type": "markdown",
   "metadata": {
    "id": "dhNgQm65uVzM"
   },
   "source": [
    "---\n",
    "## Using Google Colab\n",
    "- [Google Colab](https://colab.research.google.com/) is very similar to Jupyter Notebook. It has same types of cell blocks and markdown text blocks and supports everthing that can be done in jupyter.  \n",
    "- Added benifit is the cloud sync, you can access your code files on any device by logging into your google account as the colab files are stored on google drive. Colab opens in browser window just like Jupyter but it uses Python 3 Google Compute Engine Backend instead of IPython kernel in Jupyter, so you need internet connectivity.\n",
    "- There is option to connect to local runtime so that you can use colab offline but you have to [follow this procedure](https://research.google.com/colaboratory/local-runtimes.html) to make it happen.  \n",
    "- Rest all the instructions are same as Jupyter Notebook. [Here's a Cheat sheet for Google Colab](https://github.com/Tanu-N-Prabhu/Python/blob/master/Cheat_sheet_for_Google_Colab.ipynb)."
   ]
  },
  {
   "cell_type": "markdown",
   "metadata": {
    "id": "hsq0yCewyM--"
   },
   "source": [
    "---\n",
    "## Debug\n",
    "To debug your codes or if you have you any doubts you can always use online resources like\n",
    "- [Stackoverflow](https://stackoverflow.com/questions/tagged/python) \n",
    "- [Reddit](https://www.reddit.com/r/learnpython/)\n",
    "- Github\n",
    "- [Official Python Documentation](https://docs.python.org/3/)\n",
    "- [Google](https://www.google.com/) (Obviously)"
   ]
  },
  {
   "cell_type": "markdown",
   "metadata": {
    "id": "fwAP4k2Kc9hr"
   },
   "source": [
    "---\n",
    "---\n",
    "# **Basics of Python**"
   ]
  },
  {
   "cell_type": "markdown",
   "metadata": {
    "id": "KCKGk0jZl7C5"
   },
   "source": [
    "## Comments and Outputs\n",
    "\n",
    "Before we jump into the basic understanding of strings and numbers, let us dive into the nitty gritty of all codes, i.e. how to make your own **comments** and how we **display an output**.\n",
    "\n",
    " - Comments are particularly useful for making your code more readable or when you have to explain your code to somebody.\n",
    "\n",
    "  In order to comment on the code, we use `#` for small comments and  `''' '''` for large comments. \n",
    "\n",
    "  Here are the following examples for making a comment:\n"
   ]
  },
  {
   "cell_type": "code",
   "execution_count": 1,
   "metadata": {
    "ExecuteTime": {
     "end_time": "2023-05-24T14:27:53.304179Z",
     "start_time": "2023-05-24T14:27:53.288827Z"
    },
    "colab": {
     "base_uri": "https://localhost:8080/",
     "height": 35
    },
    "id": "AC5OdfpifIBv",
    "outputId": "8c3ffcd7-7871-4676-8820-0d7c3d4d57bd"
   },
   "outputs": [
    {
     "data": {
      "text/plain": [
       "'If the comment is of multiple lines you can use this format.\\nThis comment can be extended to multiple lines '"
      ]
     },
     "execution_count": 1,
     "metadata": {},
     "output_type": "execute_result"
    }
   ],
   "source": [
    "# This is a small comment.'#' is used for comments which can fit in one line.\n",
    "\n",
    "'''If the comment is of multiple lines you can use this format.\n",
    "This comment can be extended to multiple lines '''"
   ]
  },
  {
   "cell_type": "markdown",
   "metadata": {
    "id": "rkYQivuVhBsu"
   },
   "source": [
    "- Displaying your outputs is often as simple as using the function `print()` or just calling out a variable you are interested in.\n",
    "\n",
    "  Printing an output can be important in many different ways. For example, we can use it for the purpose of finding errors in the code, or simply view the result.\n",
    "\n",
    "  Here are some examples of printing:"
   ]
  },
  {
   "cell_type": "code",
   "execution_count": 2,
   "metadata": {
    "ExecuteTime": {
     "end_time": "2023-05-24T14:27:54.581335Z",
     "start_time": "2023-05-24T14:27:54.578181Z"
    },
    "colab": {
     "base_uri": "https://localhost:8080/"
    },
    "id": "-0NK__p8qLOY",
    "outputId": "0390084e-d3ee-4533-9175-322a174eff9d"
   },
   "outputs": [
    {
     "name": "stdout",
     "output_type": "stream",
     "text": [
      "Hello World!\n"
     ]
    }
   ],
   "source": [
    "print('Hello World!')"
   ]
  },
  {
   "cell_type": "markdown",
   "metadata": {
    "id": "-vVjFDzsqQIt"
   },
   "source": []
  },
  {
   "cell_type": "code",
   "execution_count": 3,
   "metadata": {
    "ExecuteTime": {
     "end_time": "2023-05-24T14:27:55.601741Z",
     "start_time": "2023-05-24T14:27:55.597930Z"
    },
    "id": "oj0YZorQiIHF"
   },
   "outputs": [],
   "source": [
    "# Setting a variable:\n",
    "a = 13\n",
    "b = 14\n",
    "c = a + b"
   ]
  },
  {
   "cell_type": "code",
   "execution_count": 4,
   "metadata": {
    "ExecuteTime": {
     "end_time": "2023-05-24T14:27:56.681068Z",
     "start_time": "2023-05-24T14:27:56.678050Z"
    },
    "colab": {
     "base_uri": "https://localhost:8080/"
    },
    "id": "O0UwQJ5viXCY",
    "outputId": "cc2c28de-6266-4efa-c59f-1c8b52af3a5e"
   },
   "outputs": [
    {
     "name": "stdout",
     "output_type": "stream",
     "text": [
      "27\n"
     ]
    }
   ],
   "source": [
    "# You can use the print function;\n",
    "print(c)"
   ]
  },
  {
   "cell_type": "code",
   "execution_count": 5,
   "metadata": {
    "ExecuteTime": {
     "end_time": "2023-05-24T14:27:57.671937Z",
     "start_time": "2023-05-24T14:27:57.667846Z"
    },
    "colab": {
     "base_uri": "https://localhost:8080/"
    },
    "id": "pExZEuQ8iirX",
    "outputId": "f1d7bb71-9d74-493a-a15b-b1f5d8a9d21b"
   },
   "outputs": [
    {
     "data": {
      "text/plain": [
       "27"
      ]
     },
     "execution_count": 5,
     "metadata": {},
     "output_type": "execute_result"
    }
   ],
   "source": [
    "# Or you can just call out the variable;\n",
    "c"
   ]
  },
  {
   "cell_type": "markdown",
   "metadata": {
    "id": "720Qsh4tjBSq"
   },
   "source": [
    "##### An important note:\n",
    "Knowing and understanding what is wrong in your code is one of the most crucial aspects of programming. I would recommend everyone to use comments on a regular basis in your code. This will help you gain a good mental map of the code you write. \n"
   ]
  },
  {
   "cell_type": "markdown",
   "metadata": {
    "id": "__jmQcgYdld6"
   },
   "source": [
    "\n",
    "---\n",
    "---\n",
    "Moving on, we shall continue the program with the basic understanding of objects in python.<br>\n",
    "\n",
    "There are different object types in python, mainly:\n",
    "\n",
    "<ul>\n",
    "<li>Strings</li>\n",
    "<li>Numbers</li>\n",
    "<li>Lists</li>\n",
    "<li>Tuples</li>\n",
    "<li>Dictionaries</li>\n",
    "<li>Boolean</li>\n",
    "<li>Other data types...</li>\n",
    "</ul>\n",
    "\n",
    "The different Objects and their descriptions are available at [Oreily Webpage](https://www.oreilly.com/library/view/learning-python-3rd/9780596513986/ch04.html).\n",
    "\n",
    "We will go through each of them one by one.\n",
    "\n",
    "\n",
    "---\n",
    "## Strings\n",
    "String is an object in Python which is mainly used to store a sequence of characters. A character is anything you type from your keyboard, it can be alphabets, numbers, symbols, etc.\n",
    "\n",
    "Here is an example of a string:"
   ]
  },
  {
   "cell_type": "code",
   "execution_count": 6,
   "metadata": {
    "ExecuteTime": {
     "end_time": "2023-05-24T14:28:00.011582Z",
     "start_time": "2023-05-24T14:28:00.008404Z"
    },
    "colab": {
     "base_uri": "https://localhost:8080/"
    },
    "id": "0pKpDX0wd8a0",
    "outputId": "1388d22b-c770-4051-f44a-4cf0ccdba8e6"
   },
   "outputs": [
    {
     "name": "stdout",
     "output_type": "stream",
     "text": [
      "Hey folks! this is a sample string.\n"
     ]
    }
   ],
   "source": [
    "sample_string = \"Hey folks! this is a sample string.\"\n",
    "\n",
    "print(sample_string)"
   ]
  },
  {
   "cell_type": "markdown",
   "metadata": {
    "id": "2yVV2Pxj1tiN"
   },
   "source": [
    "In Python strings, the backslash `\\` is a special character, also called the \"escape\" character. It is used in representing certain whitespace characters: \"`\\t`\" is a tab, \"`\\n`\" is a newline."
   ]
  },
  {
   "cell_type": "code",
   "execution_count": 7,
   "metadata": {
    "ExecuteTime": {
     "end_time": "2023-05-24T14:28:01.120551Z",
     "start_time": "2023-05-24T14:28:01.117673Z"
    },
    "colab": {
     "base_uri": "https://localhost:8080/"
    },
    "id": "0rUWJ2WP1dU1",
    "outputId": "7d4b718b-7576-47cf-9467-4bf9fb8d9db7"
   },
   "outputs": [
    {
     "name": "stdout",
     "output_type": "stream",
     "text": [
      "Greetings!\n",
      "Today is a good day to learn Python!\n",
      "Language Name:\tPython\n",
      "Programme Name:\tIAPT\n"
     ]
    }
   ],
   "source": [
    "# Using escape character;\n",
    "message = \"Greetings!\\nToday is a good day to learn Python!\\nLanguage Name:\\tPython\\nProgramme Name:\\tIAPT\"\n",
    "print(message)"
   ]
  },
  {
   "cell_type": "markdown",
   "metadata": {
    "id": "aTUVrFoY7Inc"
   },
   "source": [
    "##### Formatted string\n",
    "There is an important type of string, called the 'formatted' string.\n",
    "This is useful when we want to display a text along with a variable.\n",
    "\n",
    "For example:"
   ]
  },
  {
   "cell_type": "code",
   "execution_count": 8,
   "metadata": {
    "ExecuteTime": {
     "end_time": "2023-05-24T14:28:02.771453Z",
     "start_time": "2023-05-24T14:28:02.767827Z"
    },
    "colab": {
     "base_uri": "https://localhost:8080/"
    },
    "id": "whSDYihI7dEq",
    "outputId": "5692c54a-6dec-4c42-dc1d-5c5660dcf273"
   },
   "outputs": [
    {
     "name": "stdout",
     "output_type": "stream",
     "text": [
      "The soda can would cost you $18.\n"
     ]
    }
   ],
   "source": [
    "# Note this will work only for Python 3 or above.\n",
    "amount = 18\n",
    "message = f\"The soda can would cost you ${amount}.\"\n",
    "print(message)"
   ]
  },
  {
   "cell_type": "markdown",
   "metadata": {
    "id": "vF5L5I6gGKkc"
   },
   "source": [
    "##### String Slicing\n",
    "\n",
    "You can return a range of characters using the slicing syntax.\n",
    "For example:"
   ]
  },
  {
   "cell_type": "code",
   "execution_count": 9,
   "metadata": {
    "ExecuteTime": {
     "end_time": "2023-05-24T14:28:03.804742Z",
     "start_time": "2023-05-24T14:28:03.801278Z"
    },
    "colab": {
     "base_uri": "https://localhost:8080/"
    },
    "id": "1uuGAet2oSUp",
    "outputId": "4f19358f-4718-4732-bfb4-185b672b6567"
   },
   "outputs": [
    {
     "name": "stdout",
     "output_type": "stream",
     "text": [
      "string will be sliced!\n",
      "is st\n",
      "liced!\n"
     ]
    }
   ],
   "source": [
    "string = \"This string will be sliced!\"\n",
    "\n",
    "# Below code will print everything but the first word.\n",
    "print(string[5:])\n",
    "# The number in the middle of the square boxes represents the index number of the respective character.\n",
    "# [5:] --> starting from index 5 to the end.\n",
    "\n",
    "print(string[2:7])\n",
    "# [2:7] --> starting from index 2 to index 6.\n",
    "\n",
    "print(string[-6:])\n",
    "# [-6:] --> returns last 6 characters of the string.\n"
   ]
  },
  {
   "cell_type": "markdown",
   "metadata": {
    "id": "7zCbbAua8qs6"
   },
   "source": [
    "#### Note (for including \"\\\\\" or \" ' \") \n",
    "\n",
    "The following are some ways you include `\\` or `'` in your string:\n"
   ]
  },
  {
   "cell_type": "code",
   "execution_count": 10,
   "metadata": {
    "ExecuteTime": {
     "end_time": "2023-05-24T14:28:05.200265Z",
     "start_time": "2023-05-24T14:28:05.197293Z"
    },
    "colab": {
     "base_uri": "https://localhost:8080/"
    },
    "id": "YXgy_sMb9NQ1",
    "outputId": "3e7ec37e-7c8f-4bcf-ed9b-a80d41f293e1"
   },
   "outputs": [
    {
     "name": "stdout",
     "output_type": "stream",
     "text": [
      "This is Jack's bottle.\n"
     ]
    }
   ],
   "source": [
    "print('This is Jack\\'s bottle.')"
   ]
  },
  {
   "cell_type": "markdown",
   "metadata": {
    "id": "pLzgFDUB9di9"
   },
   "source": [
    "OR"
   ]
  },
  {
   "cell_type": "code",
   "execution_count": 11,
   "metadata": {
    "ExecuteTime": {
     "end_time": "2023-05-24T14:28:07.000297Z",
     "start_time": "2023-05-24T14:28:06.997502Z"
    },
    "colab": {
     "base_uri": "https://localhost:8080/"
    },
    "id": "1CfNghMK9f88",
    "outputId": "1be9fa62-ffd8-4353-a0e9-cdd13a4d0526"
   },
   "outputs": [
    {
     "name": "stdout",
     "output_type": "stream",
     "text": [
      "This is Jack's bottle.\n"
     ]
    }
   ],
   "source": [
    "print(\"This is Jack's bottle.\")"
   ]
  },
  {
   "cell_type": "markdown",
   "metadata": {
    "id": "53U5ST1F9mIm"
   },
   "source": [
    "Do the following in order to include `\\` in your string:"
   ]
  },
  {
   "cell_type": "code",
   "execution_count": 12,
   "metadata": {
    "ExecuteTime": {
     "end_time": "2023-05-24T14:28:09.400403Z",
     "start_time": "2023-05-24T14:28:09.397640Z"
    },
    "colab": {
     "base_uri": "https://localhost:8080/"
    },
    "id": "HnX1JhUg9xDi",
    "outputId": "2b88de02-7780-412b-e9dd-464234cf1f78"
   },
   "outputs": [
    {
     "name": "stdout",
     "output_type": "stream",
     "text": [
      "Let us use backslash: '\\'\n",
      "Let us use backslash: '\\'\n"
     ]
    }
   ],
   "source": [
    "print('Let us use backslash: \\'\\\\\\'')\n",
    "print(\"Let us use backslash: '\\\\'\")"
   ]
  },
  {
   "cell_type": "markdown",
   "metadata": {
    "id": "2aDgiI8l1K0W"
   },
   "source": [
    "### Useful link(s)\n",
    " \n",
    " - [Examples on strings](https://www.programiz.com/python-programming/string)\n",
    "\n",
    "- [Information on strings](https://developers.google.com/edu/python/strings#:~:text=Python%20strings%20are%20%22immutable%22%20which,go%20to%20represent%20computed%20values.&text=The%20len(string)%20function%20returns%20the%20length%20of%20a%20string.) by Google developer Website.\n",
    "\n",
    "- [Information on Escape Characters](https://www.pitt.edu/~naraehan/python2/tutorial7.html#:~:text=In%20Python%20strings%2C%20the%20backslash,r%22%20is%20a%20carriage%20return.)"
   ]
  },
  {
   "cell_type": "markdown",
   "metadata": {
    "id": "1oEdCxU_6WC9"
   },
   "source": [
    "# Numbers\n",
    "There are 3 numeric types:\n",
    "\n",
    "- `int`\n",
    "- `float`\n",
    "- `complex`"
   ]
  },
  {
   "cell_type": "markdown",
   "metadata": {
    "id": "EQaATdsqPTHN"
   },
   "source": [
    "#### How to differentiate between types of numbers?\n",
    "\n",
    "There is a small note regarding the inspection of different number types.\n",
    "\n",
    "\"*How do we know what type of number is in your code?*\"\n",
    "\n",
    "To solve this issue there is an in-built function called `type()` which lets you know the type of an object.\n",
    "\n"
   ]
  },
  {
   "cell_type": "code",
   "execution_count": 13,
   "metadata": {
    "ExecuteTime": {
     "end_time": "2023-05-24T14:28:11.770765Z",
     "start_time": "2023-05-24T14:28:11.767975Z"
    },
    "colab": {
     "base_uri": "https://localhost:8080/"
    },
    "id": "ihW32u6GP2p5",
    "outputId": "e1da5b67-c9a4-4ada-b017-a67d234f252a"
   },
   "outputs": [
    {
     "name": "stdout",
     "output_type": "stream",
     "text": [
      "<class 'str'>\n"
     ]
    }
   ],
   "source": [
    "#Let us try this on a string.\n",
    "sentence = \"This is the best day of my life!\"\n",
    "\n",
    "print(type(sentence))"
   ]
  },
  {
   "cell_type": "markdown",
   "metadata": {
    "id": "HoOeOCNdQI4E"
   },
   "source": [
    "The term 'str' represents `sentence` to be a string class/object.  [Click here](https://www.w3schools.com/python/python_classes.asp) for more information on classes and how to build your own object type in Python. We will implement this in the following section of numbers."
   ]
  },
  {
   "cell_type": "markdown",
   "metadata": {
    "id": "21Tlr3_ASwbo"
   },
   "source": [
    "### Integers\n",
    " \n",
    "It is a whole number with no decimal places.\n",
    "\n",
    "`1` is an integer, but `1.0` isn't.\n",
    "<br><br>\n",
    "Seeing how to use the `int()` method:\n",
    "\n"
   ]
  },
  {
   "cell_type": "code",
   "execution_count": 14,
   "metadata": {
    "ExecuteTime": {
     "end_time": "2023-05-24T14:28:13.810674Z",
     "start_time": "2023-05-24T14:28:13.807641Z"
    },
    "colab": {
     "base_uri": "https://localhost:8080/"
    },
    "id": "phvrPSnaorLf",
    "outputId": "4bb2e29c-b9fe-4138-863b-5b6d8e887b48"
   },
   "outputs": [
    {
     "name": "stdout",
     "output_type": "stream",
     "text": [
      "<class 'str'>\n",
      "<class 'int'>\n"
     ]
    }
   ],
   "source": [
    "# If you are given a string which includes a number, such as:\n",
    "a = '24'\n",
    "print(type(a)) #Output: <class 'str'>\n",
    "\n",
    "# Converting string type to integer type:\n",
    "b = int(a)\n",
    "print(type(b)) #Output: <class 'int'>"
   ]
  },
  {
   "cell_type": "markdown",
   "metadata": {
    "id": "bsvmekENpl0-"
   },
   "source": [
    "We can also convert floating number into integers, as we will discuss it later.\n",
    "\n"
   ]
  },
  {
   "cell_type": "markdown",
   "metadata": {
    "id": "xRgsGUfl0n7z"
   },
   "source": [
    "### Floating numbers\n",
    "\n",
    "Floating numbers are used when we want to play around with numbers with decimal numbers.\n",
    "For example, `e = 2.718`.\n",
    "\n",
    "You can convert a string to a floating number, for example:"
   ]
  },
  {
   "cell_type": "code",
   "execution_count": 15,
   "metadata": {
    "ExecuteTime": {
     "end_time": "2023-05-24T14:28:15.820592Z",
     "start_time": "2023-05-24T14:28:15.817686Z"
    },
    "colab": {
     "base_uri": "https://localhost:8080/"
    },
    "id": "UWS0Obrw101-",
    "outputId": "498e8193-368b-418c-df0a-36ae9e52176a"
   },
   "outputs": [
    {
     "name": "stdout",
     "output_type": "stream",
     "text": [
      "2.718\n",
      " Type:<class 'float'>\n"
     ]
    }
   ],
   "source": [
    "e_string = '2.718'\n",
    "\n",
    "e_float = float(e_string)\n",
    "\n",
    "print(f\"{e_float}\\n Type:{type(e_float)}\")"
   ]
  },
  {
   "cell_type": "markdown",
   "metadata": {
    "id": "8IKpmoptPjFt"
   },
   "source": [
    "- If you need to **round-off** the floating number use the method `round()` as follows:"
   ]
  },
  {
   "cell_type": "code",
   "execution_count": 16,
   "metadata": {
    "ExecuteTime": {
     "end_time": "2023-05-24T14:28:17.591381Z",
     "start_time": "2023-05-24T14:28:17.587749Z"
    },
    "colab": {
     "base_uri": "https://localhost:8080/"
    },
    "id": "G-BLn3SZPsEs",
    "outputId": "18610054-b7c1-4817-adf1-e0e07520aff1"
   },
   "outputs": [
    {
     "data": {
      "text/plain": [
       "4.546"
      ]
     },
     "execution_count": 16,
     "metadata": {},
     "output_type": "execute_result"
    }
   ],
   "source": [
    "a = 4.54578\n",
    "\n",
    "# rounding off to three decimal places.\n",
    "round(a, 3)"
   ]
  },
  {
   "cell_type": "markdown",
   "metadata": {
    "id": "5FJkS3LfEmdB"
   },
   "source": [
    "### Imaginary numbers:\n",
    "\n",
    "**Defining an imaginary number**:\n",
    "\n",
    "Main ways to define the complex number:"
   ]
  },
  {
   "cell_type": "code",
   "execution_count": 17,
   "metadata": {
    "ExecuteTime": {
     "end_time": "2023-05-24T14:28:19.060842Z",
     "start_time": "2023-05-24T14:28:19.057687Z"
    },
    "colab": {
     "base_uri": "https://localhost:8080/"
    },
    "id": "QLJi9jlvE2o2",
    "outputId": "b3c7148e-a858-465a-b44c-34af6a5e94a7"
   },
   "outputs": [
    {
     "name": "stdout",
     "output_type": "stream",
     "text": [
      "<class 'complex'>\n",
      "<class 'complex'>\n",
      "<class 'complex'>\n"
     ]
    }
   ],
   "source": [
    "c = 5 + 4j\n",
    "print(type(c))\n",
    "\n",
    "d = 10j + 7\n",
    "print(type(d))\n",
    "\n",
    "f = 2j\n",
    "print(type(f))"
   ]
  },
  {
   "cell_type": "markdown",
   "metadata": {
    "id": "j3aPsbKlFSt0"
   },
   "source": [
    "Python understands \"`j`\" as $\\sqrt{-1}$\n",
    "\n",
    "Common mistakes to avoid:\n",
    "\n",
    "- Don't use `a + b*j`, otherwise you will encounter an error. Instead use the above methods to define the complex number."
   ]
  },
  {
   "cell_type": "markdown",
   "metadata": {
    "id": "eOO-1Um_JGc3"
   },
   "source": [
    "<u>**Note**</u>: If we want to define a *very large or a very small number*, for example, the planck's constant,  *h* = $6.626*10^{-34}$ (in SI Units), or speed of light, *c* = $3*10^{8}$ (SI Units). We can use the following notation:"
   ]
  },
  {
   "cell_type": "code",
   "execution_count": 18,
   "metadata": {
    "ExecuteTime": {
     "end_time": "2023-05-24T14:28:20.927078Z",
     "start_time": "2023-05-24T14:28:20.917813Z"
    },
    "colab": {
     "base_uri": "https://localhost:8080/"
    },
    "id": "KSf3GHDFKoIh",
    "outputId": "0ee61d07-abb3-4f18-bcab-253ff8f25704"
   },
   "outputs": [
    {
     "name": "stdout",
     "output_type": "stream",
     "text": [
      "6.626e-34\n",
      "300000000.0\n"
     ]
    }
   ],
   "source": [
    "# Planck's constant\n",
    "h = 6.626e-34\n",
    "print(h)\n",
    "# Speed of light\n",
    "c = 3e8\n",
    "print(c)"
   ]
  },
  {
   "cell_type": "markdown",
   "metadata": {
    "id": "hW2VZU_yRGgC"
   },
   "source": [
    "### Useful link(s)\n",
    "\n",
    "- [Types of numbers](https://realpython.com/python-numbers/)\n"
   ]
  },
  {
   "cell_type": "markdown",
   "metadata": {
    "id": "0ES1hmcf1ZnJ"
   },
   "source": [
    "---\n",
    "## Operations\n",
    "\n",
    "| Python Operator | Description  |\n",
    "| :---: | :---: |\n",
    "| `+` | addition |\n",
    "| `-` | subtraction |\n",
    "| `*` | multiplication |\n",
    "| `/` | division |\n",
    "| `**` | power |\n",
    "\n",
    "### <u>Addition</u>:\n",
    "As we have seen earlier, we can add two numbers simply by using '`+`' operator.\n",
    " ```  \n",
    "a = 10\n",
    "b = 79\n",
    "sum = a + b\n",
    "print(sum) #=> 89\n",
    "```\n",
    "Examples\n"
   ]
  },
  {
   "cell_type": "code",
   "execution_count": 19,
   "metadata": {
    "ExecuteTime": {
     "end_time": "2023-05-24T14:28:22.933725Z",
     "start_time": "2023-05-24T14:28:22.929050Z"
    },
    "colab": {
     "base_uri": "https://localhost:8080/"
    },
    "id": "etUdhRlQIXr2",
    "outputId": "82ecca53-a874-4cfe-8686-d36b348b2aa2"
   },
   "outputs": [
    {
     "name": "stdout",
     "output_type": "stream",
     "text": [
      "Integer sum: 28\n",
      "Float sum: 277.63\n",
      "Imaginary sum: (25+46j)\n"
     ]
    }
   ],
   "source": [
    "# Integers:\n",
    "a = 12\n",
    "b = 16\n",
    "result_int = a + b\n",
    "\n",
    "# Floating numbers:\n",
    "e = 271e0\n",
    "h = 6.63e0\n",
    "result_float = e + h\n",
    "\n",
    "# Imaginary numbers:\n",
    "k = 10 + 12j\n",
    "j = 15 + 34j\n",
    "result_im = k + j\n",
    "\n",
    "print(f\"Integer sum: {result_int}\\nFloat sum: {result_float}\\nImaginary sum: {result_im}\")"
   ]
  },
  {
   "cell_type": "markdown",
   "metadata": {
    "id": "9PW2sSPsIVYT"
   },
   "source": [
    "\n",
    "### <u>Subtraction</u>:\n",
    "We use the '`-`' operator.\n",
    "Let *a* and *b* be any given number.\n",
    "```\n",
    "    result = a - b\n",
    "```\n",
    "\n"
   ]
  },
  {
   "cell_type": "markdown",
   "metadata": {
    "id": "c-Tqpgt7Ojnt"
   },
   "source": [
    "Examples"
   ]
  },
  {
   "cell_type": "code",
   "execution_count": 20,
   "metadata": {
    "ExecuteTime": {
     "end_time": "2023-05-24T14:28:25.421631Z",
     "start_time": "2023-05-24T14:28:25.417824Z"
    },
    "colab": {
     "base_uri": "https://localhost:8080/"
    },
    "id": "iJhKL5SYNXyH",
    "outputId": "f7f09df7-ed7c-4699-d9e9-7f53eb261124"
   },
   "outputs": [
    {
     "name": "stdout",
     "output_type": "stream",
     "text": [
      "Integer result: -4\n",
      "Float result: 264.37\n",
      "Imaginary result: (-5-22j)\n"
     ]
    }
   ],
   "source": [
    "# Integers:\n",
    "a = 12\n",
    "b = 16\n",
    "result_int = a - b\n",
    "\n",
    "# Floating numbers:\n",
    "e = 271e0\n",
    "h = 6.63e0\n",
    "result_float = e - h\n",
    "\n",
    "# Imaginary numbers:\n",
    "k = 10 + 12j\n",
    "j = 15 + 34j\n",
    "result_im = k - j\n",
    "\n",
    "print(f\"Integer result: {result_int}\\nFloat result: {result_float}\\nImaginary result: {result_im}\")"
   ]
  },
  {
   "cell_type": "markdown",
   "metadata": {
    "id": "Lj_wboPlNV9j"
   },
   "source": [
    "### <u>Multiplication</u>:\n",
    "We use the '`*`' to multiply"
   ]
  },
  {
   "cell_type": "code",
   "execution_count": 21,
   "metadata": {
    "ExecuteTime": {
     "end_time": "2023-05-24T14:28:26.652065Z",
     "start_time": "2023-05-24T14:28:26.648413Z"
    },
    "colab": {
     "base_uri": "https://localhost:8080/"
    },
    "id": "NqHk7xZOOrC0",
    "outputId": "f28a7689-b317-42c2-e57c-13afaf154a9b"
   },
   "outputs": [
    {
     "name": "stdout",
     "output_type": "stream",
     "text": [
      "Integer sum: 192\n",
      "Float sum: 1799.3819999999998\n",
      "Imaginary sum: (-258+520j)\n"
     ]
    }
   ],
   "source": [
    "# Integers:\n",
    "a = 12\n",
    "b = 16\n",
    "result_int = a * b\n",
    "\n",
    "# Floating numbers:\n",
    "e = 271.4\n",
    "h = 6.63\n",
    "result_float = e * h\n",
    "\n",
    "# Imaginary numbers:\n",
    "k = 10 + 12j\n",
    "j = 15 + 34j\n",
    "result_im = k * j\n",
    "\n",
    "print(f\"Integer sum: {result_int}\\nFloat sum: {result_float}\\nImaginary sum: {result_im}\")"
   ]
  },
  {
   "cell_type": "markdown",
   "metadata": {
    "id": "jkWYK_FMK-_5"
   },
   "source": [
    "### <u>Division</u>:\n",
    "There are two main types of division operators, \"`/`\" and \"`//`\".\n",
    "- '`/`' is used for normal division.\n",
    "- '`//`' is used for integer type division (rounded-down method).\n",
    "\n",
    "Example:\n",
    "\n"
   ]
  },
  {
   "cell_type": "code",
   "execution_count": 22,
   "metadata": {
    "ExecuteTime": {
     "end_time": "2023-05-24T14:28:28.392187Z",
     "start_time": "2023-05-24T14:28:28.388385Z"
    },
    "colab": {
     "base_uri": "https://localhost:8080/"
    },
    "id": "E9EFTXjqvrPN",
    "outputId": "2da88bf3-3eb5-48f3-d40a-45393b679db5"
   },
   "outputs": [
    {
     "name": "stdout",
     "output_type": "stream",
     "text": [
      "Normal division: a/b = 18.25\n",
      "Integer division: a//b = 18\n"
     ]
    }
   ],
   "source": [
    "# Defining Variables:\n",
    "a = 73\n",
    "b = 4\n",
    "# Normal division\n",
    "print(f\"Normal division: a/b = {a/b}\")\n",
    "\n",
    "# Integer division\n",
    "print(f\"Integer division: a//b = {a//b}\")"
   ]
  },
  {
   "cell_type": "code",
   "execution_count": 23,
   "metadata": {
    "ExecuteTime": {
     "end_time": "2023-05-24T14:28:29.112332Z",
     "start_time": "2023-05-24T14:28:29.108497Z"
    },
    "colab": {
     "base_uri": "https://localhost:8080/"
    },
    "id": "8pUYE4VTxg2g",
    "outputId": "1cfb759d-b289-4620-f8dd-de1790666cfe"
   },
   "outputs": [
    {
     "name": "stdout",
     "output_type": "stream",
     "text": [
      "Normal division: a/b = -6.333333333333333\n",
      "Integer division: a//b = -7\n"
     ]
    }
   ],
   "source": [
    "#Example 2:\n",
    "a = -19\n",
    "b = 3\n",
    "# Normal division\n",
    "print(f\"Normal division: a/b = {a/b}\")\n",
    "\n",
    "# Integer division\n",
    "print(f\"Integer division: a//b = {a//b}\")"
   ]
  },
  {
   "cell_type": "markdown",
   "metadata": {
    "id": "NZfZEYHVxSDx"
   },
   "source": [
    "Integer division gives us the closest lower integer from the actual division. \n",
    "\n",
    "**In case** of complex number division:"
   ]
  },
  {
   "cell_type": "code",
   "execution_count": 24,
   "metadata": {
    "ExecuteTime": {
     "end_time": "2023-05-24T14:28:30.132446Z",
     "start_time": "2023-05-24T14:28:30.128201Z"
    },
    "colab": {
     "base_uri": "https://localhost:8080/"
    },
    "id": "V7I_k3qZx6XG",
    "outputId": "7ce117e5-fdcb-472a-ab0a-921986404812"
   },
   "outputs": [
    {
     "data": {
      "text/plain": [
       "(2+0j)"
      ]
     },
     "execution_count": 24,
     "metadata": {},
     "output_type": "execute_result"
    }
   ],
   "source": [
    "c = 2 + 3j\n",
    "d = 4 +6j\n",
    "\n",
    "d/c"
   ]
  },
  {
   "cell_type": "markdown",
   "metadata": {
    "id": "Y8dPnZbey5A5"
   },
   "source": [
    "Which is the answer to $(4+6i)/(2+3i)$ after *rationalizing* the denominator."
   ]
  },
  {
   "cell_type": "markdown",
   "metadata": {
    "id": "6KnXmTN306if"
   },
   "source": [
    "**Note**: You cannot take integer division for Imaginary numbers\n",
    "\n",
    "- Error received is **TypeError: can't take floor of complex number.**"
   ]
  },
  {
   "cell_type": "markdown",
   "metadata": {
    "id": "nHXFJ3qfvoeT"
   },
   "source": [
    "#### Useful link for Division in Python:\n",
    "- Webiste: [geeksforgeeks](https://www.geeksforgeeks.org/division-operator-in-python/)"
   ]
  },
  {
   "cell_type": "markdown",
   "metadata": {
    "id": "EqyHg2iS1vnb"
   },
   "source": [
    "### <u>Power</u>:\n",
    "We can use '`**`' operator to denote power (raised to-).\n",
    "\n",
    "For example:\n",
    "If we want, **$c = a^{b}$**"
   ]
  },
  {
   "cell_type": "code",
   "execution_count": 25,
   "metadata": {
    "ExecuteTime": {
     "end_time": "2023-05-24T14:28:32.472555Z",
     "start_time": "2023-05-24T14:28:32.468112Z"
    },
    "colab": {
     "base_uri": "https://localhost:8080/"
    },
    "id": "U1sKPgrK3y2X",
    "outputId": "36532523-67e7-4393-c1a4-69c9f4047a88"
   },
   "outputs": [
    {
     "data": {
      "text/plain": [
       "343"
      ]
     },
     "execution_count": 25,
     "metadata": {},
     "output_type": "execute_result"
    }
   ],
   "source": [
    "# Defining variables:\n",
    "a = 7\n",
    "b = 3\n",
    "\n",
    "# Using the Power operator\n",
    "c = a**b\n",
    "\n",
    "#Result:\n",
    "c"
   ]
  },
  {
   "cell_type": "markdown",
   "metadata": {
    "id": "6egC3gs44Xed"
   },
   "source": [
    "In case of complex numbers:\n",
    "\n",
    "We expect $(2+3i)^2 = -5 +12i$"
   ]
  },
  {
   "cell_type": "code",
   "execution_count": 26,
   "metadata": {
    "ExecuteTime": {
     "end_time": "2023-05-24T14:28:33.462548Z",
     "start_time": "2023-05-24T14:28:33.458240Z"
    },
    "colab": {
     "base_uri": "https://localhost:8080/"
    },
    "id": "iE_fZ7qX4Bp4",
    "outputId": "21c44e21-7402-43e0-b0eb-597c0c484ae1"
   },
   "outputs": [
    {
     "data": {
      "text/plain": [
       "(-5+12j)"
      ]
     },
     "execution_count": 26,
     "metadata": {},
     "output_type": "execute_result"
    }
   ],
   "source": [
    "(2+3j)**2"
   ]
  },
  {
   "cell_type": "markdown",
   "metadata": {
    "id": "uqy4Nye44t99"
   },
   "source": [
    "Hence verified.\n",
    "\n",
    "Let us take another example:"
   ]
  },
  {
   "cell_type": "code",
   "execution_count": 27,
   "metadata": {
    "ExecuteTime": {
     "end_time": "2023-05-24T14:28:34.422904Z",
     "start_time": "2023-05-24T14:28:34.418929Z"
    },
    "colab": {
     "base_uri": "https://localhost:8080/"
    },
    "id": "WNw0XxdA9zEv",
    "outputId": "7cc263a4-ed4b-4fe8-e686-a325702a24a7"
   },
   "outputs": [
    {
     "data": {
      "text/plain": [
       "(2.8078792972606292+1.3178651729011808j)"
      ]
     },
     "execution_count": 27,
     "metadata": {},
     "output_type": "execute_result"
    }
   ],
   "source": [
    "(1+1j)**(1-1j)"
   ]
  },
  {
   "cell_type": "markdown",
   "metadata": {
    "id": "En6w-kzCKHfn"
   },
   "source": [
    "Refer to *Mathematical Methods in Physical Sciences ($3^{rd}$ edition)* by Mary L. Boas \n",
    "\n",
    "<u>Page - 73</u>"
   ]
  },
  {
   "cell_type": "markdown",
   "metadata": {
    "id": "u36RB0KBMC4L"
   },
   "source": [
    "## Tuples\n",
    "\n",
    "Tuples are used for storing multiple items in a single variable.\n",
    "The items can be stored inside the curvy braces \"`()`\".\n",
    "\n"
   ]
  },
  {
   "cell_type": "code",
   "execution_count": 28,
   "metadata": {
    "ExecuteTime": {
     "end_time": "2023-05-24T14:28:35.952845Z",
     "start_time": "2023-05-24T14:28:35.948632Z"
    },
    "colab": {
     "base_uri": "https://localhost:8080/"
    },
    "id": "POK6SWpANPW_",
    "outputId": "88492a33-04e6-4fb8-cf66-fd533a9e40cd"
   },
   "outputs": [
    {
     "name": "stdout",
     "output_type": "stream",
     "text": [
      "(1, 3, 5, 7, 9)\n",
      "('one', 'three', 'five', 'seven', 'nine')\n",
      "('one', 3, 'five', 7, 'nine')\n"
     ]
    }
   ],
   "source": [
    "t1 = (1,3,5,7,9)\n",
    "\n",
    "t2 = ('one','three', 'five', 'seven', 'nine')\n",
    "\n",
    "t3 = ('one', 3, 'five', 7, 'nine')\n",
    "\n",
    "print(f\"{t1}\\n{t2}\\n{t3}\")"
   ]
  },
  {
   "cell_type": "markdown",
   "metadata": {
    "id": "kKZKXDG4Ns87"
   },
   "source": [
    "Above are all examples of Tuples.\n",
    "\n",
    " A 'list' is very much similar to a tuple. The only **difference between a tuple and a list** is that a tuple's value cannot be changed after defining it. We shall learn about lists and its importance in the coming sections."
   ]
  },
  {
   "cell_type": "markdown",
   "metadata": {
    "id": "QMqN3VPEQOyk"
   },
   "source": [
    "You can check the **length of the tuple** simply by using `len()` method.\n",
    "\n",
    "\n"
   ]
  },
  {
   "cell_type": "code",
   "execution_count": 29,
   "metadata": {
    "ExecuteTime": {
     "end_time": "2023-05-24T14:28:37.362307Z",
     "start_time": "2023-05-24T14:28:37.358295Z"
    },
    "colab": {
     "base_uri": "https://localhost:8080/"
    },
    "id": "2eQrQExcQVGW",
    "outputId": "e4a7ac53-198f-4273-9ced-0cfd8141685b"
   },
   "outputs": [
    {
     "data": {
      "text/plain": [
       "5"
      ]
     },
     "execution_count": 29,
     "metadata": {},
     "output_type": "execute_result"
    }
   ],
   "source": [
    "len(t1)"
   ]
  },
  {
   "cell_type": "code",
   "execution_count": 30,
   "metadata": {
    "ExecuteTime": {
     "end_time": "2023-05-24T14:28:37.842110Z",
     "start_time": "2023-05-24T14:28:37.838362Z"
    },
    "colab": {
     "base_uri": "https://localhost:8080/"
    },
    "id": "2eQrQExcQVGW",
    "outputId": "e4a7ac53-198f-4273-9ced-0cfd8141685b"
   },
   "outputs": [
    {
     "data": {
      "text/plain": [
       "5"
      ]
     },
     "execution_count": 30,
     "metadata": {},
     "output_type": "execute_result"
    }
   ],
   "source": [
    "len(t1)"
   ]
  },
  {
   "cell_type": "markdown",
   "metadata": {
    "id": "0K3a6byxOonL"
   },
   "source": [
    "## Dictionaries\n",
    "\n",
    "Dictionaries are used to store data values in key:value pairs.\n",
    "\n",
    "Example:"
   ]
  },
  {
   "cell_type": "code",
   "execution_count": 31,
   "metadata": {
    "ExecuteTime": {
     "end_time": "2023-05-24T14:28:38.709678Z",
     "start_time": "2023-05-24T14:28:38.706061Z"
    },
    "colab": {
     "base_uri": "https://localhost:8080/"
    },
    "id": "PMTJmO1cPR-e",
    "outputId": "5916ec58-836f-46e0-b094-d292b58d2aeb"
   },
   "outputs": [
    {
     "name": "stdout",
     "output_type": "stream",
     "text": [
      "IAPT Course\n",
      "2\n"
     ]
    }
   ],
   "source": [
    "course = {'Name' : 'IAPT Course', \"Subject\":\"Computational Physics\", \"Duration (in weeks)\": 2, \"Tutors\": [\"Prof. Mahesh Shetti\", \" Prof. Nishita Desai\", \"Prof. Shaker A M\", \"Pratik Barve\", \"Jigar Patel\"]}\n",
    "\n",
    "print(course['Name'])\n",
    "print(course['Duration (in weeks)'])"
   ]
  },
  {
   "cell_type": "markdown",
   "metadata": {
    "id": "N6WIIHf5R0_6"
   },
   "source": [
    "The above example also includes a \"list\" of tutors. "
   ]
  },
  {
   "cell_type": "code",
   "execution_count": 32,
   "metadata": {
    "ExecuteTime": {
     "end_time": "2023-05-24T14:28:39.642462Z",
     "start_time": "2023-05-24T14:28:39.638910Z"
    },
    "colab": {
     "base_uri": "https://localhost:8080/"
    },
    "id": "AM1cXoVKSFAj",
    "outputId": "f37ad955-e1dc-4c5a-f1ac-97ec5f7fdcd7"
   },
   "outputs": [
    {
     "data": {
      "text/plain": [
       "['Prof. Mahesh Shetti',\n",
       " ' Prof. Nishita Desai',\n",
       " 'Prof. Shaker A M',\n",
       " 'Pratik Barve',\n",
       " 'Jigar Patel']"
      ]
     },
     "execution_count": 32,
     "metadata": {},
     "output_type": "execute_result"
    }
   ],
   "source": [
    "course[\"Tutors\"]"
   ]
  },
  {
   "cell_type": "markdown",
   "metadata": {
    "id": "Vv0IMkLMSa8v"
   },
   "source": [
    "### Useful link:\n",
    "\n",
    "-[Real Python Website](https://realpython.com/python-dicts/)"
   ]
  },
  {
   "cell_type": "markdown",
   "metadata": {
    "id": "z0x6uAZsb0cH"
   },
   "source": [
    "## Lists\n",
    "- Lists is an ordered collection of elements enclosed within `[ ]`\n",
    "- Lists are similar to tuples, the difference is that lists are $mutable$, i.e., we can change data or reassign items.\n",
    "- `L = [1,2,'a','b',True,3.145,False]`\n",
    "- Accessing elements is same as tuples.\n",
    "\n",
    "    `L[0]`, `L[3]`, `L[2,6]`, etc\n",
    "\n",
    "- To change the element in list enter the element number in square bracket and reassign \n",
    "\n",
    "    `L[0] = 100`\n",
    "    \n",
    "- To add element in list we use 'append',\n",
    "\n",
    "    `L.append( )`\n",
    "    \n",
    "- To add list inside list,\n",
    "\n",
    "    `L.append([5,6,7,8])`\n",
    "    \n",
    "- To remove element from list,\n",
    "\n",
    "    `L.pop( )` - pops out the last element in list  \n",
    "    `L.pop(index)` - pops out the element at the said index"
   ]
  },
  {
   "cell_type": "code",
   "execution_count": 33,
   "metadata": {
    "ExecuteTime": {
     "end_time": "2023-05-24T14:28:41.051516Z",
     "start_time": "2023-05-24T14:28:41.048535Z"
    },
    "id": "dkWwIzz141Cy"
   },
   "outputs": [],
   "source": [
    "# Define a list using [ ] square brackets\n",
    "L = [1,2,'a','b',True,3.145,1+2j]"
   ]
  },
  {
   "cell_type": "code",
   "execution_count": 34,
   "metadata": {
    "ExecuteTime": {
     "end_time": "2023-05-24T14:28:41.441516Z",
     "start_time": "2023-05-24T14:28:41.437156Z"
    },
    "colab": {
     "base_uri": "https://localhost:8080/"
    },
    "id": "3PxMcA1L5OHx",
    "outputId": "676280ef-8955-491a-ac08-930474682e80"
   },
   "outputs": [
    {
     "data": {
      "text/plain": [
       "True"
      ]
     },
     "execution_count": 34,
     "metadata": {},
     "output_type": "execute_result"
    }
   ],
   "source": [
    "# Access elements using their index\n",
    "L[4]"
   ]
  },
  {
   "cell_type": "code",
   "execution_count": 35,
   "metadata": {
    "ExecuteTime": {
     "end_time": "2023-05-24T14:28:41.863485Z",
     "start_time": "2023-05-24T14:28:41.859322Z"
    },
    "colab": {
     "base_uri": "https://localhost:8080/"
    },
    "id": "wSZX-CMJ5WB4",
    "outputId": "c961456c-8134-4d0e-d3ec-63e3f7cb7b92"
   },
   "outputs": [
    {
     "name": "stdout",
     "output_type": "stream",
     "text": [
      "[100, 2, 'a', 'b', True, 3.145, (1+2j)]\n"
     ]
    }
   ],
   "source": [
    "# Changing element in list\n",
    "L[0] = 100\n",
    "print(L)"
   ]
  },
  {
   "cell_type": "code",
   "execution_count": 36,
   "metadata": {
    "ExecuteTime": {
     "end_time": "2023-05-24T14:28:42.316651Z",
     "start_time": "2023-05-24T14:28:42.312398Z"
    },
    "colab": {
     "base_uri": "https://localhost:8080/"
    },
    "id": "rj7y_rxh5eU-",
    "outputId": "14cd4801-0833-4d32-b6b9-84d4b4ef1c2b"
   },
   "outputs": [
    {
     "name": "stdout",
     "output_type": "stream",
     "text": [
      "[100, 2, 'a', 'b', True, 3.145, (1+2j), 24]\n"
     ]
    }
   ],
   "source": [
    "# Adding element in a list\n",
    "L.append(24)\n",
    "print(L)"
   ]
  },
  {
   "cell_type": "code",
   "execution_count": 37,
   "metadata": {
    "ExecuteTime": {
     "end_time": "2023-05-24T14:28:42.881948Z",
     "start_time": "2023-05-24T14:28:42.878560Z"
    },
    "colab": {
     "base_uri": "https://localhost:8080/"
    },
    "id": "wvPve6xs5tRS",
    "outputId": "0811e6fd-49dc-4602-b095-20cbe8e39fbb"
   },
   "outputs": [
    {
     "name": "stdout",
     "output_type": "stream",
     "text": [
      "[100, 2, 'a', 'b', True, 3.145, (1+2j), 24, [5, 6, 7, 8]]\n"
     ]
    }
   ],
   "source": [
    "# Adding a list to a list\n",
    "L.append([5,6,7,8])\n",
    "print(L)"
   ]
  },
  {
   "cell_type": "code",
   "execution_count": 38,
   "metadata": {
    "ExecuteTime": {
     "end_time": "2023-05-24T14:28:43.662194Z",
     "start_time": "2023-05-24T14:28:43.658951Z"
    },
    "colab": {
     "base_uri": "https://localhost:8080/"
    },
    "id": "at5ay5bw6Dhf",
    "outputId": "e1b441af-dda2-4dcf-9db3-cc0a772b2454"
   },
   "outputs": [
    {
     "name": "stdout",
     "output_type": "stream",
     "text": [
      "[100, 2, 'a', 'b', True, 3.145, (1+2j), 24]\n"
     ]
    }
   ],
   "source": [
    "# Removing elements \n",
    "L.pop() # Will remove the last element\n",
    "print(L)"
   ]
  },
  {
   "cell_type": "code",
   "execution_count": 39,
   "metadata": {
    "ExecuteTime": {
     "end_time": "2023-05-24T14:28:44.143662Z",
     "start_time": "2023-05-24T14:28:44.139915Z"
    },
    "colab": {
     "base_uri": "https://localhost:8080/"
    },
    "id": "7xG4mkoa6fOb",
    "outputId": "57655797-f284-4185-a0b4-16911e6d9755"
   },
   "outputs": [
    {
     "name": "stdout",
     "output_type": "stream",
     "text": [
      "[100, 2, 'a', True, 3.145, (1+2j), 24]\n"
     ]
    }
   ],
   "source": [
    "L.pop(3) # Will remove element at 3rd index i.e 'b'\n",
    "print(L)"
   ]
  },
  {
   "cell_type": "markdown",
   "metadata": {
    "id": "YVNF0dwWQfdU"
   },
   "source": [
    "## Control Flow\n",
    "- Control Flow statements like loops and conditionals have blocks indicated by indentations. Any number of whitespaces is syntactically correct as long as it is consistent within a block. Typically `tab` is used for indentation which is equivalent to 4 spaces.\n",
    "- Looping statements are used to repeat tasks. To iterate over a sequence of numbers, the built-in function `range()` can be used. It generates arithmetic progression.\n",
    "- `while` loop can execute a set of statements as long as a condition is `True`\n",
    "- `for` loop is used for iterating over a sequence (either list, tuple, dictionary, set or string)\n",
    "- `break` is used to stop the loop even if the while condition is `True`\n",
    "- `continue` is used to stop the current iteration, and continue to the next.\n"
   ]
  },
  {
   "cell_type": "markdown",
   "metadata": {
    "id": "FuHd3T-wW3kB"
   },
   "source": [
    "### if/elif/else\n",
    "- An `if` statement checks for the given condition\n",
    "- Notations for logical conditons:\n",
    "  - `a==b` - Equals\n",
    "  - `a != b` - Not equal\n",
    "  - `a < b` - Less than\n",
    "  - `a <= b` - Less than or equal to\n",
    "  - `a > b` - Greater than\n",
    "  - `a >= b` - Greater than or equal to\n",
    "- `elif` means else if (if the previous conditions were not true, then try this condition)\n",
    "- `else` is for any other condition which doesn't belong to previous conditions."
   ]
  },
  {
   "cell_type": "code",
   "execution_count": 40,
   "metadata": {
    "ExecuteTime": {
     "end_time": "2023-05-24T14:28:45.942689Z",
     "start_time": "2023-05-24T14:28:45.938617Z"
    },
    "colab": {
     "base_uri": "https://localhost:8080/"
    },
    "id": "toUB4pDWQYYM",
    "outputId": "c7633ad8-25e9-4dcf-9c71-8fe4c0c4d449"
   },
   "outputs": [
    {
     "name": "stdout",
     "output_type": "stream",
     "text": [
      "4 is less than 5.\n"
     ]
    }
   ],
   "source": [
    "a = 4\n",
    "if a<5:\n",
    "    print(a,\"is less than 5.\")\n",
    "elif a==5:\n",
    "    print(a,\"is equal to 5.\")\n",
    "else:\n",
    "    print(a,\"is greater than 5.\")"
   ]
  },
  {
   "cell_type": "markdown",
   "metadata": {
    "id": "pA3vvsxQb0cM"
   },
   "source": [
    "**User Input**\n",
    "\n",
    "Python allows for user input.  \n",
    "`input` keyword prompts the user to enter the value.\n",
    "\n"
   ]
  },
  {
   "cell_type": "code",
   "execution_count": 41,
   "metadata": {
    "ExecuteTime": {
     "end_time": "2023-05-24T14:28:50.828173Z",
     "start_time": "2023-05-24T14:28:47.108738Z"
    },
    "colab": {
     "base_uri": "https://localhost:8080/"
    },
    "id": "47o-oA5gb0cN",
    "outputId": "dc69a71e-f259-4861-f380-b58494ff8ce0"
   },
   "outputs": [
    {
     "name": "stdout",
     "output_type": "stream",
     "text": [
      "Enter the number: 6\n",
      "6.0 is less than 10.\n"
     ]
    }
   ],
   "source": [
    "b = float(input(\"Enter the number: \")) # takes the number from user and defines b as a float.\n",
    "if b < 10:\n",
    "    print(b,\"is less than 10.\")\n",
    "elif b==10:\n",
    "    print(b,\"is equal to 10.\")\n",
    "else:\n",
    "    print(b,\"is greater than 10.\")"
   ]
  },
  {
   "cell_type": "code",
   "execution_count": null,
   "metadata": {},
   "outputs": [],
   "source": []
  },
  {
   "cell_type": "markdown",
   "metadata": {
    "id": "JXfCRhBta6zF"
   },
   "source": [
    "### for/range\n",
    "With `for` loop we can iterate over a sequence or execute a set of statements, once for each item in list, tuple, set, etc."
   ]
  },
  {
   "cell_type": "code",
   "execution_count": 42,
   "metadata": {
    "ExecuteTime": {
     "end_time": "2023-05-24T14:28:55.512230Z",
     "start_time": "2023-05-24T14:28:55.508758Z"
    },
    "colab": {
     "base_uri": "https://localhost:8080/"
    },
    "id": "Sz2mIGjfkiUM",
    "outputId": "05da80e3-cbc2-4636-f35c-50aa808efcb1"
   },
   "outputs": [
    {
     "name": "stdout",
     "output_type": "stream",
     "text": [
      "P\n",
      "h\n",
      "y\n",
      "s\n",
      "i\n",
      "c\n",
      "s\n"
     ]
    }
   ],
   "source": [
    "# strings are sequence of characters\n",
    "# Loop through each letter and print it \n",
    "for x in \"Physics\":\n",
    "  print(x)"
   ]
  },
  {
   "cell_type": "code",
   "execution_count": 43,
   "metadata": {
    "ExecuteTime": {
     "end_time": "2023-05-24T14:28:56.293355Z",
     "start_time": "2023-05-24T14:28:56.289531Z"
    },
    "colab": {
     "base_uri": "https://localhost:8080/"
    },
    "id": "E6UCeqCQq9ht",
    "outputId": "794bb6e6-3917-425f-bbe0-492d87f15859"
   },
   "outputs": [
    {
     "name": "stdout",
     "output_type": "stream",
     "text": [
      "0\n",
      "1\n",
      "2\n",
      "3\n",
      "4\n",
      "5\n",
      "6\n",
      "7\n",
      "8\n",
      "9\n"
     ]
    }
   ],
   "source": [
    "# range() returns a sequence of numbers, starting from 0 by default, and increments by 1 by default.\n",
    "for x in range(10):\n",
    "  print(x)"
   ]
  },
  {
   "cell_type": "code",
   "execution_count": 44,
   "metadata": {
    "ExecuteTime": {
     "end_time": "2023-05-24T14:28:57.342881Z",
     "start_time": "2023-05-24T14:28:57.339296Z"
    },
    "colab": {
     "base_uri": "https://localhost:8080/"
    },
    "id": "lj60281ZbIdb",
    "outputId": "d2a32aca-f7c3-464d-ab25-cffd5b273853"
   },
   "outputs": [
    {
     "name": "stdout",
     "output_type": "stream",
     "text": [
      "1  4  16  64  256  "
     ]
    }
   ],
   "source": [
    "# range(inclusive, exclusive, step size) \n",
    "# range(0,10,2) will give 0,2,4,6,8\n",
    "for i in range(0,10,2): \n",
    "    print(2**i,end='  ')\n",
    "#This will print powers of 2 upto 2^8"
   ]
  },
  {
   "cell_type": "code",
   "execution_count": 45,
   "metadata": {
    "ExecuteTime": {
     "end_time": "2023-05-24T14:28:57.882437Z",
     "start_time": "2023-05-24T14:28:57.878715Z"
    },
    "colab": {
     "base_uri": "https://localhost:8080/"
    },
    "id": "uJR1fRgLohnz",
    "outputId": "4930b5aa-a607-4911-9be0-8c3d8e8c12d5"
   },
   "outputs": [
    {
     "name": "stdout",
     "output_type": "stream",
     "text": [
      "Gravitational Dynamics\n",
      "Wave mechanics\n",
      "Quantum Mechanics\n"
     ]
    }
   ],
   "source": [
    "# Breaking the loop\n",
    "topics = [\"Gravitational Dynamics\",\"Wave mechanics\",\"Quantum Mechanics\",\"Statistical Mechanics\"]\n",
    "for x in topics:\n",
    "  print(x)\n",
    "  if x == \"Quantum Mechanics\":\n",
    "    break #This will stop the loop when above condition is reached"
   ]
  },
  {
   "cell_type": "code",
   "execution_count": 46,
   "metadata": {
    "ExecuteTime": {
     "end_time": "2023-05-24T14:29:02.047549Z",
     "start_time": "2023-05-24T14:28:58.749591Z"
    },
    "colab": {
     "base_uri": "https://localhost:8080/"
    },
    "id": "ZKkuRGyC6zEE",
    "outputId": "4204dd93-f51d-4656-e4cd-492792883c33"
   },
   "outputs": [
    {
     "name": "stdout",
     "output_type": "stream",
     "text": [
      "Enter the number: 5\n",
      "5 ! =  120\n"
     ]
    }
   ],
   "source": [
    "# Example\n",
    "# Gives factorial of a number\n",
    "f = 1\n",
    "n = int(input(\"Enter the number: \"))\n",
    "for i in range(1,n+1): # index of range is n + 1 \n",
    "  f = f*i\n",
    "print(n,\"! = \",f)"
   ]
  },
  {
   "cell_type": "markdown",
   "metadata": {
    "id": "bfFZ2VlGrvQT"
   },
   "source": [
    "### while/continue\n",
    "- `while` loop executes a set of statements as long as a condition is true.\n",
    "- `continue` stops the current iteration and continues with the next."
   ]
  },
  {
   "cell_type": "code",
   "execution_count": 47,
   "metadata": {
    "ExecuteTime": {
     "end_time": "2023-05-24T14:29:03.673430Z",
     "start_time": "2023-05-24T14:29:03.669798Z"
    },
    "colab": {
     "base_uri": "https://localhost:8080/"
    },
    "id": "7kPOExy3om4T",
    "outputId": "63208fd9-365c-4e07-efe8-cf26fe992295"
   },
   "outputs": [
    {
     "name": "stdout",
     "output_type": "stream",
     "text": [
      "1\n",
      "2\n",
      "3\n",
      "4\n",
      "5\n",
      "6\n",
      "7\n",
      "8\n",
      "9\n",
      "10\n"
     ]
    }
   ],
   "source": [
    "i = 0\n",
    "while i < 10:\n",
    "  i = i + 1\n",
    "  print(i)\n",
    "# Try changing the order of i = i + 1 and print command and notice the difference"
   ]
  },
  {
   "cell_type": "code",
   "execution_count": 48,
   "metadata": {
    "ExecuteTime": {
     "end_time": "2023-05-24T14:29:04.332878Z",
     "start_time": "2023-05-24T14:29:04.329136Z"
    },
    "colab": {
     "base_uri": "https://localhost:8080/"
    },
    "id": "FSm7YxjG4FRT",
    "outputId": "ab1ff6cb-842c-4889-b0a7-226cf01a439f"
   },
   "outputs": [
    {
     "name": "stdout",
     "output_type": "stream",
     "text": [
      "0\n",
      "1\n",
      "2\n",
      "3\n",
      "4\n",
      "5\n"
     ]
    }
   ],
   "source": [
    "i = 0\n",
    "while i < 10:\n",
    "  print(i)\n",
    "  if i == 5:\n",
    "    break # This will exit the loop when i is 5\n",
    "  i = i + 1"
   ]
  },
  {
   "cell_type": "code",
   "execution_count": 49,
   "metadata": {
    "ExecuteTime": {
     "end_time": "2023-05-24T14:29:05.293462Z",
     "start_time": "2023-05-24T14:29:05.289743Z"
    },
    "colab": {
     "base_uri": "https://localhost:8080/"
    },
    "id": "3AhnxpjB4UmA",
    "outputId": "13d05fdd-d889-4b6d-92c3-fdcc3bb7087b"
   },
   "outputs": [
    {
     "name": "stdout",
     "output_type": "stream",
     "text": [
      "1\n",
      "2\n",
      "3\n",
      "4\n",
      "6\n",
      "7\n",
      "8\n",
      "9\n",
      "10\n"
     ]
    }
   ],
   "source": [
    "i = 0\n",
    "while i < 10:\n",
    "  i = i + 1\n",
    "  if i == 5:\n",
    "    continue # When i is 5 it will skip that iteration and continue\n",
    "  print(i)"
   ]
  },
  {
   "cell_type": "code",
   "execution_count": 50,
   "metadata": {
    "ExecuteTime": {
     "end_time": "2023-05-24T14:29:08.587811Z",
     "start_time": "2023-05-24T14:29:05.949632Z"
    },
    "colab": {
     "base_uri": "https://localhost:8080/"
    },
    "id": "sibOJLaa9r3O",
    "outputId": "b661a83a-a59c-4403-be5e-9d4cfe582cbb"
   },
   "outputs": [
    {
     "name": "stdout",
     "output_type": "stream",
     "text": [
      "Enter a number: 5\n",
      "5 ! =  120\n"
     ]
    }
   ],
   "source": [
    "# Factorial using while loop\n",
    "f = 1\n",
    "n = int(input(\"Enter a number: \"))\n",
    "counter = 1\n",
    "while (counter <= n):\n",
    "  f = f*counter\n",
    "  counter = counter + 1\n",
    "print(n,\"! = \",f)"
   ]
  },
  {
   "cell_type": "markdown",
   "metadata": {
    "id": "zg-6IL51b0cY"
   },
   "source": [
    "## Functions\n",
    "- Function is a block of code which performs a specific task.\n",
    "\n",
    "- You can pass data, known as parameters, into a function.\n",
    "- Codes should ideally be robust, efficient, easy to debug, and of course, self explanatory for someone else reading it. Functions are very important for acheiving all of the above, with utmost simplicity. Functions are also very useful if you want the same task to be performed repeatedly, with no changes, or maybe with minor modifications.\n",
    "- In python a function is defined using the keyword `def`\n",
    "- Useful [documentation](https://docs.python.org/3/tutorial/controlflow.html#defining-functions)."
   ]
  },
  {
   "cell_type": "code",
   "execution_count": 51,
   "metadata": {
    "ExecuteTime": {
     "end_time": "2023-05-24T14:29:10.818595Z",
     "start_time": "2023-05-24T14:29:10.809411Z"
    },
    "id": "DiWs1H7Ib0cZ"
   },
   "outputs": [],
   "source": [
    "# Defining a function which takes radius as parameters and returns area of circle\n",
    "import math \n",
    "def areacircle(r):\n",
    "    area = math.pi*r**2\n",
    "    print(\"The area of circle of radius\",r,\"units is\",round(area,2),\"sq.units\")\n",
    "#round(area,2) will round off the value of area to second decimal place\n",
    "# math.pi and round are function in math library that's why we imported it before."
   ]
  },
  {
   "cell_type": "code",
   "execution_count": 52,
   "metadata": {
    "ExecuteTime": {
     "end_time": "2023-05-24T14:29:11.412551Z",
     "start_time": "2023-05-24T14:29:11.408856Z"
    },
    "colab": {
     "base_uri": "https://localhost:8080/"
    },
    "id": "WJy2z9ky_E4x",
    "outputId": "2207370f-2010-4a47-8b3a-bc5edb7f1020"
   },
   "outputs": [
    {
     "name": "stdout",
     "output_type": "stream",
     "text": [
      "The area of circle of radius 6 units is 113.1 sq.units\n"
     ]
    }
   ],
   "source": [
    "# This is how you call a function, enter the values of parameters defined in function.\n",
    "# r is the parameter in this function.\n",
    "areacircle(6) "
   ]
  },
  {
   "cell_type": "code",
   "execution_count": 53,
   "metadata": {
    "ExecuteTime": {
     "end_time": "2023-05-24T14:29:12.253553Z",
     "start_time": "2023-05-24T14:29:12.249860Z"
    },
    "id": "XQ1Qj981DO7_"
   },
   "outputs": [],
   "source": [
    "# Function which returns a list of Fibonacci series upto n\n",
    "\n",
    "def fib(n):\n",
    "    \n",
    "  result = [] # Create an empty list in which we will put the numbers of Fibonacci series\n",
    "\n",
    "  a,b = 0,1 # short cut to assign 0 to a and 1 to b\n",
    "    \n",
    "  while a < n:\n",
    "    result.append(a) \n",
    "    dummy = a # dummy variable to add with previous number\n",
    "    a = b\n",
    "    b = dummy+b\n",
    "    \n",
    "  return result  # not a part of while loop \n",
    "# Pay attention to the indentations."
   ]
  },
  {
   "cell_type": "code",
   "execution_count": 54,
   "metadata": {
    "ExecuteTime": {
     "end_time": "2023-05-24T14:29:12.974286Z",
     "start_time": "2023-05-24T14:29:12.969852Z"
    },
    "colab": {
     "base_uri": "https://localhost:8080/"
    },
    "id": "qWXxJ6I2DpA6",
    "outputId": "9c479433-dbb4-4b9b-90bf-ddd38c5f5e4d"
   },
   "outputs": [
    {
     "data": {
      "text/plain": [
       "[0, 1, 1, 2, 3, 5, 8, 13, 21, 34, 55, 89]"
      ]
     },
     "execution_count": 54,
     "metadata": {},
     "output_type": "execute_result"
    }
   ],
   "source": [
    "fib(100)"
   ]
  }
 ],
 "metadata": {
  "colab": {
   "collapsed_sections": [
    "b0kBE4Jugfuj",
    "-q1Vu2--erpD",
    "dhNgQm65uVzM",
    "hsq0yCewyM--",
    "__jmQcgYdld6",
    "aTUVrFoY7Inc",
    "vF5L5I6gGKkc",
    "7zCbbAua8qs6",
    "2aDgiI8l1K0W",
    "EQaATdsqPTHN"
   ],
   "name": "IAPT Tutorial 1.ipynb",
   "provenance": []
  },
  "interpreter": {
   "hash": "f4da2e4dcbe768cc442fdfb9bae774ac8d17948510ac396126f8d91378e96f5b"
  },
  "kernelspec": {
   "display_name": "Python 3 (ipykernel)",
   "language": "python",
   "name": "python3"
  },
  "language_info": {
   "codemirror_mode": {
    "name": "ipython",
    "version": 3
   },
   "file_extension": ".py",
   "mimetype": "text/x-python",
   "name": "python",
   "nbconvert_exporter": "python",
   "pygments_lexer": "ipython3",
   "version": "3.11.8"
  }
 },
 "nbformat": 4,
 "nbformat_minor": 4
}
