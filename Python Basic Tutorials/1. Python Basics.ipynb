{
 "cells": [
  {
   "cell_type": "markdown",
   "source": [
    "# **Getting Started with Python**"
   ],
   "metadata": {
    "id": "nHaUiR_0FdIv"
   }
  },
  {
   "cell_type": "markdown",
   "source": [
    "\n",
    "We'll be using Jupyter Notebook for our programming sessions. It supports many programming languages, we need Python installed before installing Jupyter Notebook. UNIX based system like Mac and Linux have python preinstalled, for windows you can download and install python from [here](https://www.python.org/downloads/release/python-394/).  \n",
    "Alternatively you can install Anaconda (it has packages we need) from [here](https://www.anaconda.com/products/individual).  \n",
    "Download the installer according to your OS. If you're not familiar with command line installation then choose the Graphical installer.   \n",
    "Via Anaconda navigator you can get multiple IDEs like Jupyter Notebook, Spyder, Visual Studio, etc. There are many options to use, it is completely a personal choice which you can explore.  \n",
    "\n",
    "\n",
    "---\n",
    "\n",
    "### Windows\n",
    "- Install Anaconda > Launch Anaconda Navigator and launch Jupyter Notebook\n",
    "- Alternatively Open command prompt (Press Windows and type 'cmd')  \n",
    "Enter the following command to run  \n",
    "```\n",
    "jupyter notebook\n",
    "```\n",
    "\n",
    "### MacOS\n",
    "- Install Anaconda > Launch Anaconda Navigator and launch Jupyter Notebook\n",
    "- Alternatively open Terminal and enter following command  \n",
    "```\n",
    "jupyter notebook\n",
    "```\n",
    "\n",
    "### Linux\n",
    "- Install Anaconda > [see detailed instructions for Linux](https://docs.anaconda.com/anaconda/install/linux/)\n",
    "- Open terminal (CTRL + ALT + T) and enter following command  \n",
    "```\n",
    "jupyter notebook\n",
    "```\n",
    "\n",
    "\n",
    "---\n",
    "\n",
    "## .py and .ipynb formats \n",
    "- .py is a regular python file. It's plain text and contains just your code.\n",
    "\n",
    "- .ipynb is a python notebook and it contains the notebook code, the execution results and other internal settings in a specific format. You can just run .ipynb on the jupyter environment.\n",
    "\n",
    "- Better way to understand the difference: open each file using a regular text editor like notepad (on Windows) or gedit (on Linux).\n",
    "\n",
    "- Save on git the .ipynb if you want to show the results of your script for didatic purposes, for example. But if you are going to run your code on a server, just save the .py"
   ],
   "metadata": {
    "id": "b0kBE4Jugfuj"
   }
  },
  {
   "cell_type": "markdown",
   "source": [
    "---\n",
    "## Using Jupyter Notebook\n",
    "The Jupyter Notebook aims to support the latest versions of these browsers:\n",
    "- Chrome\n",
    "- Safari\n",
    "- Firefox  \n",
    "\n",
    "Up to date versions of Edge and Opera may also work, but if they don't, please use one of the supported browsers.  \n",
    "Using Safari with HTTPS and an untrusted certificate is known to not work (websockets will fail).  \n",
    "\n",
    "- When you launch `Jupyter Notebook` the first page that you encounter is the Notebook Dashboard. Detailed [Documentation](https://jupyter-notebook.readthedocs.io/en/stable/ui_components.html#notebook-dashboard)  \n",
    "\n",
    "  ![picture](https://jupyter-notebook.readthedocs.io/en/stable/_images/jupyter-notebook-dashboard.png)   \n",
    "- Creating a new notebook document: It is opened in a new browser tab.  \n",
    "[Documentation](https://jupyter-notebook.readthedocs.io/en/latest/notebook.html#creating-a-new-notebook-document)  \n",
    "\n",
    "  ![picture](https://jupyter-notebook.readthedocs.io/en/latest/_images/new-notebook.gif)\n",
    "- Notebook user interface  \n",
    "\n",
    "  ![picture](https://jupyter-notebook.readthedocs.io/en/latest/_images/blank-notebook-ui.png)  \n",
    "---\n",
    "## Cell Types\n",
    "There are 3 basic cell types:\n",
    "- **Code cells:** Input and output of live code that is run in the kernel\n",
    "- **Markdown cells:** Narrative text (Markup language/HTML). When a Markdown cell is executed, the markdown code is converted into the corresponding formatted rich text. Within Markdown cells, you can also include $mathematics$ in a straightforward way using standard $\\LaTeX$ notation: `$...$` for inline mathematics and `$$...$$` for displayed mathematics. The $\\LaTeX$ portions are automatically rendered in the HTML output as equations with high quality typography. This is made possible by [MathJax](https://www.mathjax.org/), which supports a large subset of $\\LaTeX$ functionality.\n",
    "- **Raw cells:** Unformatted text that is included, without modifications, when notebooks are converted to different formats using nbconvert.\n",
    "---\n",
    "## Running a code\n",
    "- Jupyter notebook is associated with the IPython kernel. To run a code enter the code in the **code cell**. `Run a code cell using Shift+Enter`\n",
    "- There are two more keyboard shortcuts to run code:\n",
    "```\n",
    "Alt + Enter runs the current cell and inserts a new one below.\n",
    "Ctrl + Enter runs the current cell and enters command mode.\n",
    "``` \n",
    "---\n",
    "### Keyboard Navigation\n",
    "In edit mode, most of the keyboard is dedicated to typing into the cell's editor.  \n",
    "In command mode the shortcuts are:  \n",
    "- Basic navigation: enter, shift+enter, up(k), down(j)\n",
    "- Saving the notebook: ss\n",
    "- Deleting the cell - dd (d twice)\n",
    "- Cell creation: a for cell above, b for cell below\n",
    "- Cell editing: x(cut), c(copy), v(paste)\n",
    "- Kernel Operations: i, 0 (press twice)  \n",
    "\n",
    "There's a list of keyboard shortcuts in `Help > Keyboard Shortcuts` in the notebook menu bar.\n",
    "\n",
    "### CheatSheet for Menu Bar and Tool Bar\n",
    "[Cheat Sheet Link](https://s3.amazonaws.com/assets.datacamp.com/blog_assets/Jupyter_Notebook_Cheat_Sheet.pdf)\n",
    "\n",
    "\n"
   ],
   "metadata": {
    "id": "-q1Vu2--erpD"
   }
  },
  {
   "cell_type": "markdown",
   "source": [
    "---\n",
    "## Using Google Colab\n",
    "- [Google Colab](https://colab.research.google.com/) is very similar to Jupyter Notebook. It has same types of cell blocks and markdown text blocks and supports everthing that can be done in jupyter.  \n",
    "- Added benifit is the cloud sync, you can access your code files on any device by logging into your google account as the colab files are stored on google drive. Colab opens in browser window just like Jupyter but it uses Python 3 Google Compute Engine Backend instead of IPython kernel in Jupyter, so you need internet connectivity.\n",
    "- There is option to connect to local runtime so that you can use colab offline but you have to [follow this procedure](https://research.google.com/colaboratory/local-runtimes.html) to make it happen.  \n",
    "- Rest all the instructions are same as Jupyter Notebook. [Here's a Cheat sheet for Google Colab](https://github.com/Tanu-N-Prabhu/Python/blob/master/Cheat_sheet_for_Google_Colab.ipynb)."
   ],
   "metadata": {
    "id": "dhNgQm65uVzM"
   }
  },
  {
   "cell_type": "markdown",
   "source": [
    "---\n",
    "## Debug\n",
    "To debug your codes or if you have you any doubts you can always use online resources like\n",
    "- [Stackoverflow](https://stackoverflow.com/questions/tagged/python) \n",
    "- [Reddit](https://www.reddit.com/r/learnpython/)\n",
    "- Github\n",
    "- [Official Python Documentation](https://docs.python.org/3/)\n",
    "- [Google](https://www.google.com/) (Obviously)"
   ],
   "metadata": {
    "id": "hsq0yCewyM--"
   }
  },
  {
   "cell_type": "markdown",
   "source": [
    "---\n",
    "---\n",
    "# **Basics of Python**"
   ],
   "metadata": {
    "id": "fwAP4k2Kc9hr"
   }
  },
  {
   "cell_type": "markdown",
   "source": [
    "## Comments and Outputs\n",
    "\n",
    "Before we jump into the basic understanding of strings and numbers, let us dive into the nitty gritty of all codes, i.e. how to make your own **comments** and how we **display an output**.\n",
    "\n",
    " - Comments are particularly useful for making your code more readable or when you have to explain your code to somebody.\n",
    "\n",
    "  In order to comment on the code, we use `#` for small comments and  `''' '''` for large comments. \n",
    "\n",
    "  Here are the following examples for making a comment:\n"
   ],
   "metadata": {
    "id": "KCKGk0jZl7C5"
   }
  },
  {
   "cell_type": "code",
   "execution_count": 1,
   "source": [
    "# This is a small comment.'#' is used for comments which can fit in one line.\r\n",
    "\r\n",
    "'''If the comment is of multiple lines you can use this format.\r\n",
    "This comment can be extended to multiple lines '''"
   ],
   "outputs": [
    {
     "output_type": "execute_result",
     "data": {
      "text/plain": [
       "'If the comment is of multiple lines you can use this format.\\nThis comment can be extended to multiple lines '"
      ]
     },
     "metadata": {},
     "execution_count": 1
    }
   ],
   "metadata": {
    "colab": {
     "base_uri": "https://localhost:8080/",
     "height": 35
    },
    "id": "AC5OdfpifIBv",
    "outputId": "8c3ffcd7-7871-4676-8820-0d7c3d4d57bd"
   }
  },
  {
   "cell_type": "markdown",
   "source": [
    "- Displaying your outputs is often as simple as using the function `print()` or just calling out a variable you are interested in.\n",
    "\n",
    "  Printing an output can be important in many different ways. For example, we can use it for the purpose of finding errors in the code, or simply view the result.\n",
    "\n",
    "  Here are some examples of printing:"
   ],
   "metadata": {
    "id": "rkYQivuVhBsu"
   }
  },
  {
   "cell_type": "code",
   "execution_count": 2,
   "source": [
    "print('Hello World!')"
   ],
   "outputs": [
    {
     "output_type": "stream",
     "name": "stdout",
     "text": [
      "Hello World!\n"
     ]
    }
   ],
   "metadata": {
    "colab": {
     "base_uri": "https://localhost:8080/"
    },
    "id": "-0NK__p8qLOY",
    "outputId": "0390084e-d3ee-4533-9175-322a174eff9d"
   }
  },
  {
   "cell_type": "markdown",
   "source": [],
   "metadata": {
    "id": "-vVjFDzsqQIt"
   }
  },
  {
   "cell_type": "code",
   "execution_count": 3,
   "source": [
    "# Setting a variable:\r\n",
    "a = 13\r\n",
    "b = 14\r\n",
    "c = a + b"
   ],
   "outputs": [],
   "metadata": {
    "id": "oj0YZorQiIHF"
   }
  },
  {
   "cell_type": "code",
   "execution_count": 4,
   "source": [
    "# You can use the print function;\r\n",
    "print(c)"
   ],
   "outputs": [
    {
     "output_type": "stream",
     "name": "stdout",
     "text": [
      "27\n"
     ]
    }
   ],
   "metadata": {
    "colab": {
     "base_uri": "https://localhost:8080/"
    },
    "id": "O0UwQJ5viXCY",
    "outputId": "cc2c28de-6266-4efa-c59f-1c8b52af3a5e"
   }
  },
  {
   "cell_type": "code",
   "execution_count": 5,
   "source": [
    "# Or you can just call out the variable;\r\n",
    "c"
   ],
   "outputs": [
    {
     "output_type": "execute_result",
     "data": {
      "text/plain": [
       "27"
      ]
     },
     "metadata": {},
     "execution_count": 5
    }
   ],
   "metadata": {
    "colab": {
     "base_uri": "https://localhost:8080/"
    },
    "id": "pExZEuQ8iirX",
    "outputId": "f1d7bb71-9d74-493a-a15b-b1f5d8a9d21b"
   }
  },
  {
   "cell_type": "markdown",
   "source": [
    "##### An important note:\n",
    "Knowing and understanding what is wrong in your code is one of the most crucial aspects of programming. I would recommend everyone to use comments on a regular basis in your code. This will help you gain a good mental map of the code you write. \n"
   ],
   "metadata": {
    "id": "720Qsh4tjBSq"
   }
  },
  {
   "cell_type": "markdown",
   "source": [
    "\n",
    "---\n",
    "---\n",
    "Moving on, we shall continue the program with the basic understanding of objects in python.<br>\n",
    "\n",
    "There are different object types in python, mainly:\n",
    "\n",
    "<ul>\n",
    "<li>Strings</li>\n",
    "<li>Numbers</li>\n",
    "<li>Lists</li>\n",
    "<li>Tuples</li>\n",
    "<li>Dictionaries</li>\n",
    "<li>Boolean</li>\n",
    "<li>Other data types...</li>\n",
    "</ul>\n",
    "\n",
    "The different Objects and their descriptions are available at [Oreily Webpage](https://www.oreilly.com/library/view/learning-python-3rd/9780596513986/ch04.html).\n",
    "\n",
    "We will go through each of them one by one.\n",
    "\n",
    "\n",
    "---\n",
    "## Strings\n",
    "String is an object in Python which is mainly used to store a sequence of characters. A character is anything you type from your keyboard, it can be alphabets, numbers, symbols, etc.\n",
    "\n",
    "Here is an example of a string:"
   ],
   "metadata": {
    "id": "__jmQcgYdld6"
   }
  },
  {
   "cell_type": "code",
   "execution_count": 6,
   "source": [
    "sample_string = \"Hey folks! this is a sample string.\"\r\n",
    "\r\n",
    "print(sample_string)"
   ],
   "outputs": [
    {
     "output_type": "stream",
     "name": "stdout",
     "text": [
      "Hey folks! this is a sample string.\n"
     ]
    }
   ],
   "metadata": {
    "colab": {
     "base_uri": "https://localhost:8080/"
    },
    "id": "0pKpDX0wd8a0",
    "outputId": "1388d22b-c770-4051-f44a-4cf0ccdba8e6"
   }
  },
  {
   "cell_type": "markdown",
   "source": [
    "In Python strings, the backslash `\\` is a special character, also called the \"escape\" character. It is used in representing certain whitespace characters: \"`\\t`\" is a tab, \"`\\n`\" is a newline."
   ],
   "metadata": {
    "id": "2yVV2Pxj1tiN"
   }
  },
  {
   "cell_type": "code",
   "execution_count": 7,
   "source": [
    "# Using escape character;\r\n",
    "message = \"Greetings!\\nToday is a good day to learn Python!\\nLanguage Name:\\tPython\\nProgramme Name:\\tIAPT\"\r\n",
    "print(message)"
   ],
   "outputs": [
    {
     "output_type": "stream",
     "name": "stdout",
     "text": [
      "Greetings!\n",
      "Today is a good day to learn Python!\n",
      "Language Name:\tPython\n",
      "Programme Name:\tIAPT\n"
     ]
    }
   ],
   "metadata": {
    "colab": {
     "base_uri": "https://localhost:8080/"
    },
    "id": "0rUWJ2WP1dU1",
    "outputId": "7d4b718b-7576-47cf-9467-4bf9fb8d9db7"
   }
  },
  {
   "cell_type": "markdown",
   "source": [
    "##### Formatted string\n",
    "There is an important type of string, called the 'formatted' string.\n",
    "This is useful when we want to display a text along with a variable.\n",
    "\n",
    "For example:"
   ],
   "metadata": {
    "id": "aTUVrFoY7Inc"
   }
  },
  {
   "cell_type": "code",
   "execution_count": 8,
   "source": [
    "# Note this will work only for Python 3 or above.\r\n",
    "amount = 18\r\n",
    "message = f\"The soda can would cost you ${amount}.\"\r\n",
    "print(message)"
   ],
   "outputs": [
    {
     "output_type": "stream",
     "name": "stdout",
     "text": [
      "The soda can would cost you $18.\n"
     ]
    }
   ],
   "metadata": {
    "colab": {
     "base_uri": "https://localhost:8080/"
    },
    "id": "whSDYihI7dEq",
    "outputId": "5692c54a-6dec-4c42-dc1d-5c5660dcf273"
   }
  },
  {
   "cell_type": "markdown",
   "source": [
    "##### String Slicing\n",
    "\n",
    "You can return a range of characters using the slicing syntax.\n",
    "For example:"
   ],
   "metadata": {
    "id": "vF5L5I6gGKkc"
   }
  },
  {
   "cell_type": "code",
   "execution_count": 9,
   "source": [
    "string = \"This string will be sliced!\"\r\n",
    "\r\n",
    "# Below code will print everything but the first word.\r\n",
    "print(string[5:])\r\n",
    "# The number in the middle of the square boxes represents the index number of the respective character.\r\n",
    "# [5:] --> starting from index 5 to the end.\r\n",
    "\r\n",
    "print(string[2:7])\r\n",
    "# [2:7] --> starting from index 2 to index 6.\r\n",
    "\r\n",
    "print(string[-6:])\r\n",
    "# [-6:] --> returns last 6 characters of the string.\r\n"
   ],
   "outputs": [
    {
     "output_type": "stream",
     "name": "stdout",
     "text": [
      "string will be sliced!\n",
      "is st\n",
      "liced!\n"
     ]
    }
   ],
   "metadata": {
    "colab": {
     "base_uri": "https://localhost:8080/"
    },
    "id": "1uuGAet2oSUp",
    "outputId": "4f19358f-4718-4732-bfb4-185b672b6567"
   }
  },
  {
   "cell_type": "markdown",
   "source": [
    "#### Note (for including \"\\\\\" or \" ' \") \n",
    "\n",
    "The following are some ways you include `\\` or `'` in your string:\n"
   ],
   "metadata": {
    "id": "7zCbbAua8qs6"
   }
  },
  {
   "cell_type": "code",
   "execution_count": 10,
   "source": [
    "print('This is Jack\\'s bottle.')"
   ],
   "outputs": [
    {
     "output_type": "stream",
     "name": "stdout",
     "text": [
      "This is Jack's bottle.\n"
     ]
    }
   ],
   "metadata": {
    "colab": {
     "base_uri": "https://localhost:8080/"
    },
    "id": "YXgy_sMb9NQ1",
    "outputId": "3e7ec37e-7c8f-4bcf-ed9b-a80d41f293e1"
   }
  },
  {
   "cell_type": "markdown",
   "source": [
    "OR"
   ],
   "metadata": {
    "id": "pLzgFDUB9di9"
   }
  },
  {
   "cell_type": "code",
   "execution_count": 11,
   "source": [
    "print(\"This is Jack's bottle.\")"
   ],
   "outputs": [
    {
     "output_type": "stream",
     "name": "stdout",
     "text": [
      "This is Jack's bottle.\n"
     ]
    }
   ],
   "metadata": {
    "colab": {
     "base_uri": "https://localhost:8080/"
    },
    "id": "1CfNghMK9f88",
    "outputId": "1be9fa62-ffd8-4353-a0e9-cdd13a4d0526"
   }
  },
  {
   "cell_type": "markdown",
   "source": [
    "Do the following in order to include `\\` in your string:"
   ],
   "metadata": {
    "id": "53U5ST1F9mIm"
   }
  },
  {
   "cell_type": "code",
   "execution_count": 12,
   "source": [
    "print('Let us use backslash: \\'\\\\\\'')\r\n",
    "print(\"Let us use backslash: '\\\\'\")"
   ],
   "outputs": [
    {
     "output_type": "stream",
     "name": "stdout",
     "text": [
      "Let us use backslash: '\\'\n",
      "Let us use backslash: '\\'\n"
     ]
    }
   ],
   "metadata": {
    "colab": {
     "base_uri": "https://localhost:8080/"
    },
    "id": "HnX1JhUg9xDi",
    "outputId": "2b88de02-7780-412b-e9dd-464234cf1f78"
   }
  },
  {
   "cell_type": "markdown",
   "source": [
    "### Useful link(s)\n",
    " \n",
    " - [Examples on strings](https://www.programiz.com/python-programming/string)\n",
    "\n",
    "- [Information on strings](https://developers.google.com/edu/python/strings#:~:text=Python%20strings%20are%20%22immutable%22%20which,go%20to%20represent%20computed%20values.&text=The%20len(string)%20function%20returns%20the%20length%20of%20a%20string.) by Google developer Website.\n",
    "\n",
    "- [Information on Escape Characters](https://www.pitt.edu/~naraehan/python2/tutorial7.html#:~:text=In%20Python%20strings%2C%20the%20backslash,r%22%20is%20a%20carriage%20return.)"
   ],
   "metadata": {
    "id": "2aDgiI8l1K0W"
   }
  },
  {
   "cell_type": "markdown",
   "source": [
    "---\n",
    "## Numbers\n",
    "\n",
    "There are 3 numeric type in Python:\n",
    "- `int`\n",
    "- `float`\n",
    "- `complex`\n",
    "\n",
    "Examples of each type is given below:"
   ],
   "metadata": {
    "id": "1oEdCxU_6WC9"
   }
  },
  {
   "cell_type": "markdown",
   "source": [
    "#### How to differentiate between types of numbers?\n",
    "\n",
    "There is a small note regarding the inspection of different number types.\n",
    "\n",
    "\"*How do we know what type of number is in your code?*\"\n",
    "\n",
    "To solve this issue there is an in-built function called `type()` which lets you know the type of an object.\n",
    "\n"
   ],
   "metadata": {
    "id": "EQaATdsqPTHN"
   }
  },
  {
   "cell_type": "code",
   "execution_count": 13,
   "source": [
    "#Let us try this on a string.\r\n",
    "sentence = \"This is the best day of my life!\"\r\n",
    "\r\n",
    "print(type(sentence))"
   ],
   "outputs": [
    {
     "output_type": "stream",
     "name": "stdout",
     "text": [
      "<class 'str'>\n"
     ]
    }
   ],
   "metadata": {
    "colab": {
     "base_uri": "https://localhost:8080/"
    },
    "id": "ihW32u6GP2p5",
    "outputId": "e1da5b67-c9a4-4ada-b017-a67d234f252a"
   }
  },
  {
   "cell_type": "markdown",
   "source": [
    "The term 'str' represents `sentence` to be a string class/object.  [Click here](https://www.w3schools.com/python/python_classes.asp) for more information on classes and how to build your own object type in Python. We will implement this in the following section of numbers."
   ],
   "metadata": {
    "id": "HoOeOCNdQI4E"
   }
  },
  {
   "cell_type": "markdown",
   "source": [
    "### Integers\n",
    " \n",
    "It is a whole number with no decimal places.\n",
    "\n",
    "`1` is an integer, but `1.0` isn't.\n",
    "<br><br>\n",
    "Seeing how to use the `int()` method:\n",
    "\n"
   ],
   "metadata": {
    "id": "21Tlr3_ASwbo"
   }
  },
  {
   "cell_type": "code",
   "execution_count": 14,
   "source": [
    "# If you are given a string which includes a number, such as:\r\n",
    "a = '24'\r\n",
    "print(type(a)) #Output: <class 'str'>\r\n",
    "\r\n",
    "# Converting string type to integer type:\r\n",
    "b = int(a)\r\n",
    "print(type(b)) #Output: <class 'int'>"
   ],
   "outputs": [
    {
     "output_type": "stream",
     "name": "stdout",
     "text": [
      "<class 'str'>\n",
      "<class 'int'>\n"
     ]
    }
   ],
   "metadata": {
    "colab": {
     "base_uri": "https://localhost:8080/"
    },
    "id": "phvrPSnaorLf",
    "outputId": "4bb2e29c-b9fe-4138-863b-5b6d8e887b48"
   }
  },
  {
   "cell_type": "markdown",
   "source": [
    "We can also convert floating number into integers, as we will discuss it later.\n",
    "\n"
   ],
   "metadata": {
    "id": "bsvmekENpl0-"
   }
  },
  {
   "cell_type": "markdown",
   "source": [
    "### Floating numbers\n",
    "\n",
    "Floating numbers are used when we want to play around with numbers with decimal numbers.\n",
    "For example, `e = 2.718`.\n",
    "\n",
    "You can convert a string to a floating number, for example:"
   ],
   "metadata": {
    "id": "xRgsGUfl0n7z"
   }
  },
  {
   "cell_type": "code",
   "execution_count": 15,
   "source": [
    "e_string = '2.718'\r\n",
    "\r\n",
    "e_float = float(e_string)\r\n",
    "\r\n",
    "print(f\"{e_float}\\n Type:{type(e_float)}\")"
   ],
   "outputs": [
    {
     "output_type": "stream",
     "name": "stdout",
     "text": [
      "2.718\n",
      " Type:<class 'float'>\n"
     ]
    }
   ],
   "metadata": {
    "colab": {
     "base_uri": "https://localhost:8080/"
    },
    "id": "UWS0Obrw101-",
    "outputId": "498e8193-368b-418c-df0a-36ae9e52176a"
   }
  },
  {
   "cell_type": "markdown",
   "source": [
    "- If you need to **round-off** the floating number use the method `round()` as follows:"
   ],
   "metadata": {
    "id": "8IKpmoptPjFt"
   }
  },
  {
   "cell_type": "code",
   "execution_count": 16,
   "source": [
    "a = 4.54578\r\n",
    "\r\n",
    "# rounding off to three decimal places.\r\n",
    "round(a, 3)"
   ],
   "outputs": [
    {
     "output_type": "execute_result",
     "data": {
      "text/plain": [
       "4.546"
      ]
     },
     "metadata": {},
     "execution_count": 16
    }
   ],
   "metadata": {
    "colab": {
     "base_uri": "https://localhost:8080/"
    },
    "id": "G-BLn3SZPsEs",
    "outputId": "18610054-b7c1-4817-adf1-e0e07520aff1"
   }
  },
  {
   "cell_type": "markdown",
   "source": [
    "### Imaginary numbers:\n",
    "\n",
    "**Defining an imaginary number**:\n",
    "\n",
    "Main ways to define the complex number:"
   ],
   "metadata": {
    "id": "5FJkS3LfEmdB"
   }
  },
  {
   "cell_type": "code",
   "execution_count": 17,
   "source": [
    "c = 5 + 4j\r\n",
    "print(type(c))\r\n",
    "\r\n",
    "d = 10j + 7\r\n",
    "print(type(d))\r\n",
    "\r\n",
    "f = 2j\r\n",
    "print(type(f))"
   ],
   "outputs": [
    {
     "output_type": "stream",
     "name": "stdout",
     "text": [
      "<class 'complex'>\n",
      "<class 'complex'>\n",
      "<class 'complex'>\n"
     ]
    }
   ],
   "metadata": {
    "colab": {
     "base_uri": "https://localhost:8080/"
    },
    "id": "QLJi9jlvE2o2",
    "outputId": "b3c7148e-a858-465a-b44c-34af6a5e94a7"
   }
  },
  {
   "cell_type": "markdown",
   "source": [
    "Python understands \"`j`\" as $\\sqrt{-1}$\n",
    "\n",
    "Common mistakes to avoid:\n",
    "\n",
    "- Don't use `a + b*j`, otherwise you will encounter an error. Instead use the above methods to define the complex number."
   ],
   "metadata": {
    "id": "j3aPsbKlFSt0"
   }
  },
  {
   "cell_type": "markdown",
   "source": [
    "<u>**Note**</u>: If we want to define a *very large or a very small number*, for example, the planck's constant,  *h* = $6.626*10^{-34}$ (in SI Units), or speed of light, *c* = $3*10^{8}$ (SI Units). We can use the following notation:"
   ],
   "metadata": {
    "id": "eOO-1Um_JGc3"
   }
  },
  {
   "cell_type": "code",
   "execution_count": 18,
   "source": [
    "# Planck's constant\r\n",
    "h = 6.626e-34\r\n",
    "print(h)\r\n",
    "# Speed of light\r\n",
    "c = 3e8\r\n",
    "print(c)"
   ],
   "outputs": [
    {
     "output_type": "stream",
     "name": "stdout",
     "text": [
      "6.626e-34\n",
      "300000000.0\n"
     ]
    }
   ],
   "metadata": {
    "colab": {
     "base_uri": "https://localhost:8080/"
    },
    "id": "KSf3GHDFKoIh",
    "outputId": "0ee61d07-abb3-4f18-bcab-253ff8f25704"
   }
  },
  {
   "cell_type": "markdown",
   "source": [
    "### Useful link(s)\n",
    "\n",
    "- [Types of numbers](https://realpython.com/python-numbers/)\n"
   ],
   "metadata": {
    "id": "hW2VZU_yRGgC"
   }
  },
  {
   "cell_type": "markdown",
   "source": [
    "---\n",
    "## Operations\n",
    "\n",
    "| Python Operator | Description  |\n",
    "| :---: | :---: |\n",
    "| `+` | addition |\n",
    "| `-` | subtraction |\n",
    "| `*` | multiplication |\n",
    "| `/` | division |\n",
    "| `**` | power |\n",
    "\n",
    "### <u>Addition</u>:\n",
    "As we have seen earlier, we can add two numbers simply by using '`+`' operator.\n",
    " ```  \n",
    "a = 10\n",
    "b = 79\n",
    "sum = a + b\n",
    "print(sum) #=> 89\n",
    "```\n",
    "Examples\n"
   ],
   "metadata": {
    "id": "0ES1hmcf1ZnJ"
   }
  },
  {
   "cell_type": "code",
   "execution_count": 19,
   "source": [
    "# Integers:\r\n",
    "a = 12\r\n",
    "b = 16\r\n",
    "result_int = a + b\r\n",
    "\r\n",
    "# Floating numbers:\r\n",
    "e = 271e0\r\n",
    "h = 6.63e0\r\n",
    "result_float = e + h\r\n",
    "\r\n",
    "# Imaginary numbers:\r\n",
    "k = 10 + 12j\r\n",
    "j = 15 + 34j\r\n",
    "result_im = k + j\r\n",
    "\r\n",
    "print(f\"Integer sum: {result_int}\\nFloat sum: {result_float}\\nImaginary sum: {result_im}\")"
   ],
   "outputs": [
    {
     "output_type": "stream",
     "name": "stdout",
     "text": [
      "Integer sum: 28\n",
      "Float sum: 277.63\n",
      "Imaginary sum: (25+46j)\n"
     ]
    }
   ],
   "metadata": {
    "colab": {
     "base_uri": "https://localhost:8080/"
    },
    "id": "etUdhRlQIXr2",
    "outputId": "82ecca53-a874-4cfe-8686-d36b348b2aa2"
   }
  },
  {
   "cell_type": "markdown",
   "source": [
    "\n",
    "### <u>Subtraction</u>:\n",
    "We use the '`-`' operator.\n",
    "Let *a* and *b* be any given number.\n",
    "```\n",
    "    result = a - b\n",
    "```\n",
    "\n"
   ],
   "metadata": {
    "id": "9PW2sSPsIVYT"
   }
  },
  {
   "cell_type": "markdown",
   "source": [
    "Examples"
   ],
   "metadata": {
    "id": "c-Tqpgt7Ojnt"
   }
  },
  {
   "cell_type": "code",
   "execution_count": 20,
   "source": [
    "# Integers:\r\n",
    "a = 12\r\n",
    "b = 16\r\n",
    "result_int = a - b\r\n",
    "\r\n",
    "# Floating numbers:\r\n",
    "e = 271e0\r\n",
    "h = 6.63e0\r\n",
    "result_float = e - h\r\n",
    "\r\n",
    "# Imaginary numbers:\r\n",
    "k = 10 + 12j\r\n",
    "j = 15 + 34j\r\n",
    "result_im = k - j\r\n",
    "\r\n",
    "print(f\"Integer result: {result_int}\\nFloat result: {result_float}\\nImaginary result: {result_im}\")"
   ],
   "outputs": [
    {
     "output_type": "stream",
     "name": "stdout",
     "text": [
      "Integer result: -4\n",
      "Float result: 264.37\n",
      "Imaginary result: (-5-22j)\n"
     ]
    }
   ],
   "metadata": {
    "colab": {
     "base_uri": "https://localhost:8080/"
    },
    "id": "iJhKL5SYNXyH",
    "outputId": "f7f09df7-ed7c-4699-d9e9-7f53eb261124"
   }
  },
  {
   "cell_type": "markdown",
   "source": [
    "### <u>Multiplication</u>:\n",
    "We use the '`*`' to multiply"
   ],
   "metadata": {
    "id": "Lj_wboPlNV9j"
   }
  },
  {
   "cell_type": "code",
   "execution_count": 21,
   "source": [
    "# Integers:\r\n",
    "a = 12\r\n",
    "b = 16\r\n",
    "result_int = a * b\r\n",
    "\r\n",
    "# Floating numbers:\r\n",
    "e = 271.4\r\n",
    "h = 6.63\r\n",
    "result_float = e * h\r\n",
    "\r\n",
    "# Imaginary numbers:\r\n",
    "k = 10 + 12j\r\n",
    "j = 15 + 34j\r\n",
    "result_im = k * j\r\n",
    "\r\n",
    "print(f\"Integer sum: {result_int}\\nFloat sum: {result_float}\\nImaginary sum: {result_im}\")"
   ],
   "outputs": [
    {
     "output_type": "stream",
     "name": "stdout",
     "text": [
      "Integer sum: 192\n",
      "Float sum: 1799.3819999999998\n",
      "Imaginary sum: (-258+520j)\n"
     ]
    }
   ],
   "metadata": {
    "colab": {
     "base_uri": "https://localhost:8080/"
    },
    "id": "NqHk7xZOOrC0",
    "outputId": "f28a7689-b317-42c2-e57c-13afaf154a9b"
   }
  },
  {
   "cell_type": "markdown",
   "source": [
    "### <u>Division</u>:\n",
    "There are two main types of division operators, \"`/`\" and \"`//`\".\n",
    "- '`/`' is used for normal division.\n",
    "- '`//`' is used for integer type division (rounded-down method).\n",
    "\n",
    "Example:\n",
    "\n"
   ],
   "metadata": {
    "id": "jkWYK_FMK-_5"
   }
  },
  {
   "cell_type": "code",
   "execution_count": 22,
   "source": [
    "# Defining Variables:\r\n",
    "a = 73\r\n",
    "b = 4\r\n",
    "# Normal division\r\n",
    "print(f\"Normal division: a/b = {a/b}\")\r\n",
    "\r\n",
    "# Integer division\r\n",
    "print(f\"Integer division: a//b = {a//b}\")"
   ],
   "outputs": [
    {
     "output_type": "stream",
     "name": "stdout",
     "text": [
      "Normal division: a/b = 18.25\n",
      "Integer division: a//b = 18\n"
     ]
    }
   ],
   "metadata": {
    "colab": {
     "base_uri": "https://localhost:8080/"
    },
    "id": "E9EFTXjqvrPN",
    "outputId": "2da88bf3-3eb5-48f3-d40a-45393b679db5"
   }
  },
  {
   "cell_type": "code",
   "execution_count": 23,
   "source": [
    "#Example 2:\r\n",
    "a = -19\r\n",
    "b = 3\r\n",
    "# Normal division\r\n",
    "print(f\"Normal division: a/b = {a/b}\")\r\n",
    "\r\n",
    "# Integer division\r\n",
    "print(f\"Integer division: a//b = {a//b}\")"
   ],
   "outputs": [
    {
     "output_type": "stream",
     "name": "stdout",
     "text": [
      "Normal division: a/b = -6.333333333333333\n",
      "Integer division: a//b = -7\n"
     ]
    }
   ],
   "metadata": {
    "colab": {
     "base_uri": "https://localhost:8080/"
    },
    "id": "8pUYE4VTxg2g",
    "outputId": "1cfb759d-b289-4620-f8dd-de1790666cfe"
   }
  },
  {
   "cell_type": "markdown",
   "source": [
    "Integer division gives us the closest lower integer from the actual division. \n",
    "\n",
    "**In case** of complex number division:"
   ],
   "metadata": {
    "id": "NZfZEYHVxSDx"
   }
  },
  {
   "cell_type": "code",
   "execution_count": 24,
   "source": [
    "c = 2 + 3j\r\n",
    "d = 4 +6j\r\n",
    "\r\n",
    "d/c"
   ],
   "outputs": [
    {
     "output_type": "execute_result",
     "data": {
      "text/plain": [
       "(2+0j)"
      ]
     },
     "metadata": {},
     "execution_count": 24
    }
   ],
   "metadata": {
    "colab": {
     "base_uri": "https://localhost:8080/"
    },
    "id": "V7I_k3qZx6XG",
    "outputId": "7ce117e5-fdcb-472a-ab0a-921986404812"
   }
  },
  {
   "cell_type": "markdown",
   "source": [
    "Which is the answer to $(4+6i)/(2+3i)$ after *rationalizing* the denominator."
   ],
   "metadata": {
    "id": "Y8dPnZbey5A5"
   }
  },
  {
   "cell_type": "markdown",
   "source": [
    "**Note**: You cannot take integer division for Imaginary numbers\n",
    "\n",
    "- Error received is **TypeError: can't take floor of complex number.**"
   ],
   "metadata": {
    "id": "6KnXmTN306if"
   }
  },
  {
   "cell_type": "markdown",
   "source": [
    "#### Useful link for Division in Python:\n",
    "- Webiste: [geeksforgeeks](https://www.geeksforgeeks.org/division-operator-in-python/)"
   ],
   "metadata": {
    "id": "nHXFJ3qfvoeT"
   }
  },
  {
   "cell_type": "markdown",
   "source": [
    "### <u>Power</u>:\n",
    "We can use '`**`' operator to denote power (raised to-).\n",
    "\n",
    "For example:\n",
    "If we want, **$c = a^{b}$**"
   ],
   "metadata": {
    "id": "EqyHg2iS1vnb"
   }
  },
  {
   "cell_type": "code",
   "execution_count": 25,
   "source": [
    "# Defining variables:\r\n",
    "a = 7\r\n",
    "b = 3\r\n",
    "\r\n",
    "# Using the Power operator\r\n",
    "c = a**b\r\n",
    "\r\n",
    "#Result:\r\n",
    "c"
   ],
   "outputs": [
    {
     "output_type": "execute_result",
     "data": {
      "text/plain": [
       "343"
      ]
     },
     "metadata": {},
     "execution_count": 25
    }
   ],
   "metadata": {
    "colab": {
     "base_uri": "https://localhost:8080/"
    },
    "id": "U1sKPgrK3y2X",
    "outputId": "36532523-67e7-4393-c1a4-69c9f4047a88"
   }
  },
  {
   "cell_type": "markdown",
   "source": [
    "In case of complex numbers:\n",
    "\n",
    "We expect $(2+3i)^2 = -5 +12i$"
   ],
   "metadata": {
    "id": "6egC3gs44Xed"
   }
  },
  {
   "cell_type": "code",
   "execution_count": 26,
   "source": [
    "(2+3j)**2"
   ],
   "outputs": [
    {
     "output_type": "execute_result",
     "data": {
      "text/plain": [
       "(-5+12j)"
      ]
     },
     "metadata": {},
     "execution_count": 26
    }
   ],
   "metadata": {
    "colab": {
     "base_uri": "https://localhost:8080/"
    },
    "id": "iE_fZ7qX4Bp4",
    "outputId": "21c44e21-7402-43e0-b0eb-597c0c484ae1"
   }
  },
  {
   "cell_type": "markdown",
   "source": [
    "Hence verified.\n",
    "\n",
    "Let us take another example:"
   ],
   "metadata": {
    "id": "uqy4Nye44t99"
   }
  },
  {
   "cell_type": "code",
   "execution_count": 27,
   "source": [
    "(1+1j)**(1-1j)"
   ],
   "outputs": [
    {
     "output_type": "execute_result",
     "data": {
      "text/plain": [
       "(2.8078792972606292+1.3178651729011808j)"
      ]
     },
     "metadata": {},
     "execution_count": 27
    }
   ],
   "metadata": {
    "colab": {
     "base_uri": "https://localhost:8080/"
    },
    "id": "WNw0XxdA9zEv",
    "outputId": "7cc263a4-ed4b-4fe8-e686-a325702a24a7"
   }
  },
  {
   "cell_type": "markdown",
   "source": [
    "Refer to *Mathematical Methods in Physical Sciences ($3^{rd}$ edition)* by Mary L. Boas \n",
    "\n",
    "<u>Page - 73</u>"
   ],
   "metadata": {
    "id": "En6w-kzCKHfn"
   }
  },
  {
   "cell_type": "markdown",
   "source": [
    "## Tuples\n",
    "\n",
    "Tuples are used for storing multiple items in a single variable.\n",
    "The items can be stored inside the curvy braces \"`()`\".\n",
    "\n"
   ],
   "metadata": {
    "id": "u36RB0KBMC4L"
   }
  },
  {
   "cell_type": "code",
   "execution_count": 28,
   "source": [
    "t1 = (1,3,5,7,9)\r\n",
    "\r\n",
    "t2 = ('one','three', 'five', 'seven', 'nine')\r\n",
    "\r\n",
    "t3 = ('one', 3, 'five', 7, 'nine')\r\n",
    "\r\n",
    "print(f\"{t1}\\n{t2}\\n{t3}\")"
   ],
   "outputs": [
    {
     "output_type": "stream",
     "name": "stdout",
     "text": [
      "(1, 3, 5, 7, 9)\n",
      "('one', 'three', 'five', 'seven', 'nine')\n",
      "('one', 3, 'five', 7, 'nine')\n"
     ]
    }
   ],
   "metadata": {
    "colab": {
     "base_uri": "https://localhost:8080/"
    },
    "id": "POK6SWpANPW_",
    "outputId": "88492a33-04e6-4fb8-cf66-fd533a9e40cd"
   }
  },
  {
   "cell_type": "markdown",
   "source": [
    "Above are all examples of Tuples.\n",
    "\n",
    " A 'list' is very much similar to a tuple. The only **difference between a tuple and a list** is that a tuple's value cannot be changed after defining it. We shall learn about lists and its importance in the coming sections."
   ],
   "metadata": {
    "id": "kKZKXDG4Ns87"
   }
  },
  {
   "cell_type": "markdown",
   "source": [
    "You can check the **length of the tuple** simply by using `len()` method.\n",
    "\n",
    "\n"
   ],
   "metadata": {
    "id": "QMqN3VPEQOyk"
   }
  },
  {
   "cell_type": "code",
   "execution_count": 29,
   "source": [
    "len(t1)"
   ],
   "outputs": [
    {
     "output_type": "execute_result",
     "data": {
      "text/plain": [
       "5"
      ]
     },
     "metadata": {},
     "execution_count": 29
    }
   ],
   "metadata": {
    "colab": {
     "base_uri": "https://localhost:8080/"
    },
    "id": "2eQrQExcQVGW",
    "outputId": "e4a7ac53-198f-4273-9ced-0cfd8141685b"
   }
  },
  {
   "cell_type": "code",
   "execution_count": null,
   "source": [
    "len(t1)"
   ],
   "outputs": [
    {
     "output_type": "display_data",
     "data": {
      "text/plain": [
       "5"
      ]
     },
     "metadata": {}
    }
   ],
   "metadata": {
    "colab": {
     "base_uri": "https://localhost:8080/"
    },
    "id": "2eQrQExcQVGW",
    "outputId": "e4a7ac53-198f-4273-9ced-0cfd8141685b"
   }
  },
  {
   "cell_type": "markdown",
   "source": [
    "## Dictionaries\n",
    "\n",
    "Dictionaries are used to store data values in key:value pairs.\n",
    "\n",
    "Example:"
   ],
   "metadata": {
    "id": "0K3a6byxOonL"
   }
  },
  {
   "cell_type": "code",
   "execution_count": 30,
   "source": [
    "course = {'Name' : 'IAPT Course', \"Subject\":\"Computational Physics\", \"Duration (in weeks)\": 2, \"Tutors\": [\"Prof. Mahesh Shetti\", \" Prof. Nishita Desai\", \"Prof. Shaker A M\", \"Pratik Barve\", \"Jigar Patel\"]}\r\n",
    "\r\n",
    "print(course['Name'])\r\n",
    "print(course['Duration (in weeks)'])"
   ],
   "outputs": [
    {
     "output_type": "stream",
     "name": "stdout",
     "text": [
      "IAPT Course\n",
      "2\n"
     ]
    }
   ],
   "metadata": {
    "colab": {
     "base_uri": "https://localhost:8080/"
    },
    "id": "PMTJmO1cPR-e",
    "outputId": "5916ec58-836f-46e0-b094-d292b58d2aeb"
   }
  },
  {
   "cell_type": "markdown",
   "source": [
    "The above example also includes a \"list\" of tutors. "
   ],
   "metadata": {
    "id": "N6WIIHf5R0_6"
   }
  },
  {
   "cell_type": "code",
   "execution_count": 31,
   "source": [
    "course[\"Tutors\"]"
   ],
   "outputs": [
    {
     "output_type": "execute_result",
     "data": {
      "text/plain": [
       "['Prof. Mahesh Shetti',\n",
       " ' Prof. Nishita Desai',\n",
       " 'Prof. Shaker A M',\n",
       " 'Pratik Barve',\n",
       " 'Jigar Patel']"
      ]
     },
     "metadata": {},
     "execution_count": 31
    }
   ],
   "metadata": {
    "colab": {
     "base_uri": "https://localhost:8080/"
    },
    "id": "AM1cXoVKSFAj",
    "outputId": "f37ad955-e1dc-4c5a-f1ac-97ec5f7fdcd7"
   }
  },
  {
   "cell_type": "markdown",
   "source": [
    "### Useful link:\n",
    "\n",
    "-[Real Python Website](https://realpython.com/python-dicts/)"
   ],
   "metadata": {
    "id": "Vv0IMkLMSa8v"
   }
  },
  {
   "cell_type": "markdown",
   "source": [
    "## Lists\n",
    "- Lists is an ordered collection of elements enclosed within `[ ]`\n",
    "- Lists are similar to tuples, the difference is that lists are $mutable$, i.e., we can change data or reassign items.\n",
    "- `L = [1,2,'a','b',True,3.145,False]`\n",
    "- Accessing elements is same as tuples.\n",
    "\n",
    "    `L[0]`, `L[3]`, `L[2,6]`, etc\n",
    "\n",
    "- To change the element in list enter the element number in square bracket and reassign \n",
    "\n",
    "    `L[0] = 100`\n",
    "    \n",
    "- To add element in list we use 'append',\n",
    "\n",
    "    `L.append( )`\n",
    "    \n",
    "- To add list inside list,\n",
    "\n",
    "    `L.append([5,6,7,8])`\n",
    "    \n",
    "- To remove element from list,\n",
    "\n",
    "    `L.pop( )` - pops out the last element in list  \n",
    "    `L.pop(index)` - pops out the element at the said index"
   ],
   "metadata": {
    "id": "z0x6uAZsb0cH"
   }
  },
  {
   "cell_type": "code",
   "execution_count": 32,
   "source": [
    "# Define a list using [ ] square brackets\r\n",
    "L = [1,2,'a','b',True,3.145,1+2j]"
   ],
   "outputs": [],
   "metadata": {
    "id": "dkWwIzz141Cy"
   }
  },
  {
   "cell_type": "code",
   "execution_count": 33,
   "source": [
    "# Access elements using their index\r\n",
    "L[4]"
   ],
   "outputs": [
    {
     "output_type": "execute_result",
     "data": {
      "text/plain": [
       "True"
      ]
     },
     "metadata": {},
     "execution_count": 33
    }
   ],
   "metadata": {
    "colab": {
     "base_uri": "https://localhost:8080/"
    },
    "id": "3PxMcA1L5OHx",
    "outputId": "676280ef-8955-491a-ac08-930474682e80"
   }
  },
  {
   "cell_type": "code",
   "execution_count": 34,
   "source": [
    "# Changing element in list\r\n",
    "L[0] = 100\r\n",
    "print(L)"
   ],
   "outputs": [
    {
     "output_type": "stream",
     "name": "stdout",
     "text": [
      "[100, 2, 'a', 'b', True, 3.145, (1+2j)]\n"
     ]
    }
   ],
   "metadata": {
    "colab": {
     "base_uri": "https://localhost:8080/"
    },
    "id": "wSZX-CMJ5WB4",
    "outputId": "c961456c-8134-4d0e-d3ec-63e3f7cb7b92"
   }
  },
  {
   "cell_type": "code",
   "execution_count": 35,
   "source": [
    "# Adding element in a list\r\n",
    "L.append(24)\r\n",
    "print(L)"
   ],
   "outputs": [
    {
     "output_type": "stream",
     "name": "stdout",
     "text": [
      "[100, 2, 'a', 'b', True, 3.145, (1+2j), 24]\n"
     ]
    }
   ],
   "metadata": {
    "colab": {
     "base_uri": "https://localhost:8080/"
    },
    "id": "rj7y_rxh5eU-",
    "outputId": "14cd4801-0833-4d32-b6b9-84d4b4ef1c2b"
   }
  },
  {
   "cell_type": "code",
   "execution_count": 36,
   "source": [
    "# Adding a list to a list\r\n",
    "L.append([5,6,7,8])\r\n",
    "print(L)"
   ],
   "outputs": [
    {
     "output_type": "stream",
     "name": "stdout",
     "text": [
      "[100, 2, 'a', 'b', True, 3.145, (1+2j), 24, [5, 6, 7, 8]]\n"
     ]
    }
   ],
   "metadata": {
    "colab": {
     "base_uri": "https://localhost:8080/"
    },
    "id": "wvPve6xs5tRS",
    "outputId": "0811e6fd-49dc-4602-b095-20cbe8e39fbb"
   }
  },
  {
   "cell_type": "code",
   "execution_count": 37,
   "source": [
    "# Removing elements \r\n",
    "L.pop() # Will remove the last element\r\n",
    "print(L)"
   ],
   "outputs": [
    {
     "output_type": "stream",
     "name": "stdout",
     "text": [
      "[100, 2, 'a', 'b', True, 3.145, (1+2j), 24]\n"
     ]
    }
   ],
   "metadata": {
    "colab": {
     "base_uri": "https://localhost:8080/"
    },
    "id": "at5ay5bw6Dhf",
    "outputId": "e1b441af-dda2-4dcf-9db3-cc0a772b2454"
   }
  },
  {
   "cell_type": "code",
   "execution_count": 38,
   "source": [
    "L.pop(3) # Will remove element at 3rd index i.e 'b'\r\n",
    "print(L)"
   ],
   "outputs": [
    {
     "output_type": "stream",
     "name": "stdout",
     "text": [
      "[100, 2, 'a', True, 3.145, (1+2j), 24]\n"
     ]
    }
   ],
   "metadata": {
    "colab": {
     "base_uri": "https://localhost:8080/"
    },
    "id": "7xG4mkoa6fOb",
    "outputId": "57655797-f284-4185-a0b4-16911e6d9755"
   }
  },
  {
   "cell_type": "markdown",
   "source": [
    "## Control Flow\n",
    "- Control Flow statements like loops and conditionals have blocks indicated by indentations. Any number of whitespaces is syntactically correct as long as it is consistent within a block. Typically `tab` is used for indentation which is equivalent to 4 spaces.\n",
    "- Looping statements are used to repeat tasks. To iterate over a sequence of numbers, the built-in function `range()` can be used. It generates arithmetic progression.\n",
    "- `while` loop can execute a set of statements as long as a condition is `True`\n",
    "- `for` loop is used for iterating over a sequence (either list, tuple, dictionary, set or string)\n",
    "- `break` is used to stop the loop even if the while condition is `True`\n",
    "- `continue` is used to stop the current iteration, and continue to the next.\n"
   ],
   "metadata": {
    "id": "YVNF0dwWQfdU"
   }
  },
  {
   "cell_type": "markdown",
   "source": [
    "### if/elif/else\n",
    "- An `if` statement checks for the given condition\n",
    "- Notations for logical conditons:\n",
    "  - `a==b` - Equals\n",
    "  - `a != b` - Not equal\n",
    "  - `a < b` - Less than\n",
    "  - `a <= b` - Less than or equal to\n",
    "  - `a > b` - Greater than\n",
    "  - `a >= b` - Greater than or equal to\n",
    "- `elif` means else if (if the previous conditions were not true, then try this condition)\n",
    "- `else` is for any other condition which doesn't belong to previous conditions."
   ],
   "metadata": {
    "id": "FuHd3T-wW3kB"
   }
  },
  {
   "cell_type": "code",
   "execution_count": 39,
   "source": [
    "a = 4\r\n",
    "if a<5:\r\n",
    "    print(a,\"is less than 5.\")\r\n",
    "elif a==5:\r\n",
    "    print(a,\"is equal to 5.\")\r\n",
    "else:\r\n",
    "    print(a,\"is greater than 5.\")"
   ],
   "outputs": [
    {
     "output_type": "stream",
     "name": "stdout",
     "text": [
      "4 is less than 5.\n"
     ]
    }
   ],
   "metadata": {
    "colab": {
     "base_uri": "https://localhost:8080/"
    },
    "id": "toUB4pDWQYYM",
    "outputId": "c7633ad8-25e9-4dcf-9c71-8fe4c0c4d449"
   }
  },
  {
   "cell_type": "markdown",
   "source": [
    "**User Input**\n",
    "\n",
    "Python allows for user input.  \n",
    "`input` keyword prompts the user to enter the value.\n",
    "\n"
   ],
   "metadata": {
    "id": "pA3vvsxQb0cM"
   }
  },
  {
   "cell_type": "code",
   "execution_count": 41,
   "source": [
    "b = float(input(\"Enter the number: \")) # takes the number from user and defines b as a float.\r\n",
    "if b < 10:\r\n",
    "    print(b,\"is less than 10.\")\r\n",
    "elif b==10:\r\n",
    "    print(b,\"is equal to 10.\")\r\n",
    "else:\r\n",
    "    print(b,\"is greater than 10.\")"
   ],
   "outputs": [
    {
     "output_type": "stream",
     "name": "stdout",
     "text": [
      "5.0 is less than 10.\n"
     ]
    }
   ],
   "metadata": {
    "colab": {
     "base_uri": "https://localhost:8080/"
    },
    "id": "47o-oA5gb0cN",
    "outputId": "dc69a71e-f259-4861-f380-b58494ff8ce0"
   }
  },
  {
   "cell_type": "markdown",
   "source": [
    "### for/range\n",
    "With `for` loop we can iterate over a sequence or execute a set of statements, once for each item in list, tuple, set, etc."
   ],
   "metadata": {
    "id": "JXfCRhBta6zF"
   }
  },
  {
   "cell_type": "code",
   "execution_count": 42,
   "source": [
    "# strings are sequence of characters\r\n",
    "# Loop through each letter and print it \r\n",
    "for x in \"Physics\":\r\n",
    "  print(x)"
   ],
   "outputs": [
    {
     "output_type": "stream",
     "name": "stdout",
     "text": [
      "P\n",
      "h\n",
      "y\n",
      "s\n",
      "i\n",
      "c\n",
      "s\n"
     ]
    }
   ],
   "metadata": {
    "colab": {
     "base_uri": "https://localhost:8080/"
    },
    "id": "Sz2mIGjfkiUM",
    "outputId": "05da80e3-cbc2-4636-f35c-50aa808efcb1"
   }
  },
  {
   "cell_type": "code",
   "execution_count": 43,
   "source": [
    "# range() returns a sequence of numbers, starting from 0 by default, and increments by 1 by default.\r\n",
    "for x in range(10):\r\n",
    "  print(x)"
   ],
   "outputs": [
    {
     "output_type": "stream",
     "name": "stdout",
     "text": [
      "0\n",
      "1\n",
      "2\n",
      "3\n",
      "4\n",
      "5\n",
      "6\n",
      "7\n",
      "8\n",
      "9\n"
     ]
    }
   ],
   "metadata": {
    "colab": {
     "base_uri": "https://localhost:8080/"
    },
    "id": "E6UCeqCQq9ht",
    "outputId": "794bb6e6-3917-425f-bbe0-492d87f15859"
   }
  },
  {
   "cell_type": "code",
   "execution_count": 44,
   "source": [
    "# range(inclusive, exclusive, step size) \r\n",
    "# range(0,10,2) will give 0,2,4,6,8\r\n",
    "for i in range(0,10,2): \r\n",
    "    print(2**i,end='  ')\r\n",
    "#This will print powers of 2 upto 2^8"
   ],
   "outputs": [
    {
     "output_type": "stream",
     "name": "stdout",
     "text": [
      "1  4  16  64  256  "
     ]
    }
   ],
   "metadata": {
    "colab": {
     "base_uri": "https://localhost:8080/"
    },
    "id": "lj60281ZbIdb",
    "outputId": "d2a32aca-f7c3-464d-ab25-cffd5b273853"
   }
  },
  {
   "cell_type": "code",
   "execution_count": 45,
   "source": [
    "# Breaking the loop\r\n",
    "topics = [\"Gravitational Dynamics\",\"Wave mechanics\",\"Quantum Mechanics\",\"Statistical Mechanics\"]\r\n",
    "for x in topics:\r\n",
    "  print(x)\r\n",
    "  if x == \"Quantum Mechanics\":\r\n",
    "    break #This will stop the loop when above condition is reached"
   ],
   "outputs": [
    {
     "output_type": "stream",
     "name": "stdout",
     "text": [
      "Gravitational Dynamics\n",
      "Wave mechanics\n",
      "Quantum Mechanics\n"
     ]
    }
   ],
   "metadata": {
    "colab": {
     "base_uri": "https://localhost:8080/"
    },
    "id": "uJR1fRgLohnz",
    "outputId": "4930b5aa-a607-4911-9be0-8c3d8e8c12d5"
   }
  },
  {
   "cell_type": "code",
   "execution_count": 46,
   "source": [
    "# Example\r\n",
    "# Gives factorial of a number\r\n",
    "f = 1\r\n",
    "n = int(input(\"Enter the number: \"))\r\n",
    "for i in range(1,n+1): # index of range is n + 1 \r\n",
    "  f = f*i\r\n",
    "print(n,\"! = \",f)"
   ],
   "outputs": [
    {
     "output_type": "stream",
     "name": "stdout",
     "text": [
      "5 ! =  120\n"
     ]
    }
   ],
   "metadata": {
    "colab": {
     "base_uri": "https://localhost:8080/"
    },
    "id": "ZKkuRGyC6zEE",
    "outputId": "4204dd93-f51d-4656-e4cd-492792883c33"
   }
  },
  {
   "cell_type": "markdown",
   "source": [
    "### while/continue\n",
    "- `while` loop executes a set of statements as long as a condition is true.\n",
    "- `continue` stops the current iteration and continues with the next."
   ],
   "metadata": {
    "id": "bfFZ2VlGrvQT"
   }
  },
  {
   "cell_type": "code",
   "execution_count": 47,
   "source": [
    "i = 0\r\n",
    "while i < 10:\r\n",
    "  i = i + 1\r\n",
    "  print(i)\r\n",
    "# Try changing the order of i = i + 1 and print command and notice the difference"
   ],
   "outputs": [
    {
     "output_type": "stream",
     "name": "stdout",
     "text": [
      "1\n",
      "2\n",
      "3\n",
      "4\n",
      "5\n",
      "6\n",
      "7\n",
      "8\n",
      "9\n",
      "10\n"
     ]
    }
   ],
   "metadata": {
    "colab": {
     "base_uri": "https://localhost:8080/"
    },
    "id": "7kPOExy3om4T",
    "outputId": "63208fd9-365c-4e07-efe8-cf26fe992295"
   }
  },
  {
   "cell_type": "code",
   "execution_count": 48,
   "source": [
    "i = 0\r\n",
    "while i < 10:\r\n",
    "  print(i)\r\n",
    "  if i == 5:\r\n",
    "    break # This will exit the loop when i is 5\r\n",
    "  i = i + 1"
   ],
   "outputs": [
    {
     "output_type": "stream",
     "name": "stdout",
     "text": [
      "0\n",
      "1\n",
      "2\n",
      "3\n",
      "4\n",
      "5\n"
     ]
    }
   ],
   "metadata": {
    "colab": {
     "base_uri": "https://localhost:8080/"
    },
    "id": "FSm7YxjG4FRT",
    "outputId": "ab1ff6cb-842c-4889-b0a7-226cf01a439f"
   }
  },
  {
   "cell_type": "code",
   "execution_count": 49,
   "source": [
    "i = 0\r\n",
    "while i < 10:\r\n",
    "  i = i + 1\r\n",
    "  if i == 5:\r\n",
    "    continue # When i is 5 it will skip that iteration and continue\r\n",
    "  print(i)"
   ],
   "outputs": [
    {
     "output_type": "stream",
     "name": "stdout",
     "text": [
      "1\n",
      "2\n",
      "3\n",
      "4\n",
      "6\n",
      "7\n",
      "8\n",
      "9\n",
      "10\n"
     ]
    }
   ],
   "metadata": {
    "colab": {
     "base_uri": "https://localhost:8080/"
    },
    "id": "3AhnxpjB4UmA",
    "outputId": "13d05fdd-d889-4b6d-92c3-fdcc3bb7087b"
   }
  },
  {
   "cell_type": "code",
   "execution_count": 50,
   "source": [
    "# Factorial using while loop\r\n",
    "f = 1\r\n",
    "n = int(input(\"Enter a number: \"))\r\n",
    "counter = 1\r\n",
    "while (counter <= n):\r\n",
    "  f = f*counter\r\n",
    "  counter = counter + 1\r\n",
    "print(n,\"! = \",f)"
   ],
   "outputs": [
    {
     "output_type": "stream",
     "name": "stdout",
     "text": [
      "8 ! =  40320\n"
     ]
    }
   ],
   "metadata": {
    "colab": {
     "base_uri": "https://localhost:8080/"
    },
    "id": "sibOJLaa9r3O",
    "outputId": "b661a83a-a59c-4403-be5e-9d4cfe582cbb"
   }
  },
  {
   "cell_type": "markdown",
   "source": [
    "## Functions\n",
    "- Function is a block of code which performs a specific task.\n",
    "\n",
    "- You can pass data, known as parameters, into a function.\n",
    "- Codes should ideally be robust, efficient, easy to debug, and of course, self explanatory for someone else reading it. Functions are very important for acheiving all of the above, with utmost simplicity. Functions are also very useful if you want the same task to be performed repeatedly, with no changes, or maybe with minor modifications.\n",
    "- In python a function is defined using the keyword `def`\n",
    "- Useful [documentation](https://docs.python.org/3/tutorial/controlflow.html#defining-functions)."
   ],
   "metadata": {
    "id": "zg-6IL51b0cY"
   }
  },
  {
   "cell_type": "code",
   "execution_count": 51,
   "source": [
    "# Defining a function which takes radius as parameters and returns area of circle\r\n",
    "import math \r\n",
    "def areacircle(r):\r\n",
    "    area = math.pi*r**2\r\n",
    "    print(\"The area of circle of radius\",r,\"units is\",round(area,2),\"sq.units\")\r\n",
    "#round(area,2) will round off the value of area to second decimal place\r\n",
    "# math.pi and round are function in math library that's why we imported it before."
   ],
   "outputs": [],
   "metadata": {
    "id": "DiWs1H7Ib0cZ"
   }
  },
  {
   "cell_type": "code",
   "execution_count": 52,
   "source": [
    "# This is how you call a function, enter the values of parameters defined in function.\r\n",
    "# r is the parameter in this function.\r\n",
    "areacircle(6) "
   ],
   "outputs": [
    {
     "output_type": "stream",
     "name": "stdout",
     "text": [
      "The area of circle of radius 6 units is 113.1 sq.units\n"
     ]
    }
   ],
   "metadata": {
    "colab": {
     "base_uri": "https://localhost:8080/"
    },
    "id": "WJy2z9ky_E4x",
    "outputId": "2207370f-2010-4a47-8b3a-bc5edb7f1020"
   }
  },
  {
   "cell_type": "code",
   "execution_count": 53,
   "source": [
    "# Function which returns a list of Fibonacci series upto n\r\n",
    "\r\n",
    "def fib(n):\r\n",
    "    \r\n",
    "  result = [] # Create an empty list in which we will put the numbers of Fibonacci series\r\n",
    "\r\n",
    "  a,b = 0,1 # short cut to assign 0 to a and 1 to b\r\n",
    "    \r\n",
    "  while a < n:\r\n",
    "    result.append(a) \r\n",
    "    dummy = a # dummy variable to add with previous number\r\n",
    "    a = b\r\n",
    "    b = dummy+b\r\n",
    "    \r\n",
    "  return result  # not a part of while loop \r\n",
    "# Pay attention to the indentations."
   ],
   "outputs": [],
   "metadata": {
    "id": "XQ1Qj981DO7_"
   }
  },
  {
   "cell_type": "code",
   "execution_count": 54,
   "source": [
    "fib(100)"
   ],
   "outputs": [
    {
     "output_type": "execute_result",
     "data": {
      "text/plain": [
       "[0, 1, 1, 2, 3, 5, 8, 13, 21, 34, 55, 89]"
      ]
     },
     "metadata": {},
     "execution_count": 54
    }
   ],
   "metadata": {
    "colab": {
     "base_uri": "https://localhost:8080/"
    },
    "id": "qWXxJ6I2DpA6",
    "outputId": "9c479433-dbb4-4b9b-90bf-ddd38c5f5e4d"
   }
  }
 ],
 "metadata": {
  "colab": {
   "collapsed_sections": [
    "b0kBE4Jugfuj",
    "-q1Vu2--erpD",
    "dhNgQm65uVzM",
    "hsq0yCewyM--",
    "__jmQcgYdld6",
    "aTUVrFoY7Inc",
    "vF5L5I6gGKkc",
    "7zCbbAua8qs6",
    "2aDgiI8l1K0W",
    "EQaATdsqPTHN"
   ],
   "name": "IAPT Tutorial 1.ipynb",
   "provenance": []
  },
  "kernelspec": {
   "name": "python3",
   "display_name": "Python 3.9.7 64-bit (windows store)"
  },
  "language_info": {
   "codemirror_mode": {
    "name": "ipython",
    "version": 3
   },
   "file_extension": ".py",
   "mimetype": "text/x-python",
   "name": "python",
   "nbconvert_exporter": "python",
   "pygments_lexer": "ipython3",
   "version": "3.9.7"
  },
  "interpreter": {
   "hash": "f4da2e4dcbe768cc442fdfb9bae774ac8d17948510ac396126f8d91378e96f5b"
  }
 },
 "nbformat": 4,
 "nbformat_minor": 4
}