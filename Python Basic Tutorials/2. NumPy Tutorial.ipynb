{
 "cells": [
  {
   "cell_type": "markdown",
   "source": [
    "# NumPy\n",
    "NumPy is the fundamental package for scientific computing in Python. It is a Python library that provides a multidimensional array object, various derived objects (such as masked arrays and matrices), and an assortment of routines for fast operations on arrays, including mathematical, logical, shape manipulation, sorting, selecting, I/O, discrete Fourier transforms, basic linear algebra, basic statistical operations, random simulation and much more."
   ],
   "metadata": {}
  },
  {
   "cell_type": "markdown",
   "source": [
    "- NumPy is a python library, stands for Numerical Python\n",
    "- Used for working with arrays. It is very useful in Numerical calculations - matrices, linear algebra, etc\n",
    "- The array object in NumPy is called ndarray (n-dimensional array). Arrays are frequently used in data sciences, where speed and accuracy matters. It is similar to list but it is way faster than that.\n",
    "- Elements in NumPy array cannot be heterogeneous like in lists. The elements in a NumPy array are all required to be of the same data type, and thus will be the same size in memory.\n",
    "- NumPy arrays have a fixed size at creation, unlike Python lists (which can grow dynamically). Changing the size of an ndarray will create a new array and delete the original.\n",
    "- NumPy library was written partially in Python, but most of the parts that require fast computation are written in C or C++.\n",
    "- For detailed information you can go through the [official documentation](https://numpy.org/doc/stable/user/absolute_beginners.html#numpy-the-absolute-basics-for-beginners) \n",
    "- [Source code for NumPy](https://github.com/numpy/numpy)"
   ],
   "metadata": {}
  },
  {
   "cell_type": "code",
   "execution_count": 1,
   "source": [
    "# To import the library use\r\n",
    "import numpy"
   ],
   "outputs": [],
   "metadata": {}
  },
  {
   "cell_type": "code",
   "execution_count": 2,
   "source": [
    "# add keyword numpy before using\r\n",
    "a = numpy.array([1,2,3,4,5]) # defines a as numpy object \r\n",
    "# array is enclosed in ([])"
   ],
   "outputs": [],
   "metadata": {}
  },
  {
   "cell_type": "markdown",
   "source": [
    "NumPy is imported under the alias using the keyword \"as\" - import numpy as np  \n",
    "This shortens the keyword required in syntax, instead of numpy.array we can type np.array"
   ],
   "metadata": {}
  },
  {
   "cell_type": "code",
   "execution_count": 3,
   "source": [
    "import numpy as np\r\n",
    "a = np.array([1,2,3,4,5])\r\n",
    "b = [1,2,3,4,5]\r\n",
    "print(a)\r\n",
    "print(b)\r\n",
    "print(type(a)) # shows the type\r\n",
    "print(type(b))"
   ],
   "outputs": [
    {
     "output_type": "stream",
     "name": "stdout",
     "text": [
      "[1 2 3 4 5]\n",
      "[1, 2, 3, 4, 5]\n",
      "<class 'numpy.ndarray'>\n",
      "<class 'list'>\n"
     ]
    }
   ],
   "metadata": {}
  },
  {
   "cell_type": "markdown",
   "source": [
    "Notice the output of print(a), it is enclosed in square brackets like lists but not separated by commas like lists. Hence the output is a numpy array."
   ],
   "metadata": {}
  },
  {
   "cell_type": "code",
   "execution_count": 4,
   "source": [
    "#Use Tuple to create numpy array\r\n",
    "import numpy as np\r\n",
    "a = np.array((1,2,3,4,5))\r\n",
    "print(a)\r\n",
    "print(type(a))\r\n",
    "# To create an ndarray, we can pass a list, tuple or any array-like object into the array() method."
   ],
   "outputs": [
    {
     "output_type": "stream",
     "name": "stdout",
     "text": [
      "[1 2 3 4 5]\n",
      "<class 'numpy.ndarray'>\n"
     ]
    }
   ],
   "metadata": {}
  },
  {
   "cell_type": "markdown",
   "source": [
    "## Dimensions in Array\n",
    "A dimension in array is one level of array depth\n",
    "\n",
    "- nested arrays: are arrays that have arrays as elements.\n",
    "\n",
    "#### Check Number of Dimensions of array\n",
    "*ndim* attribute returns an integer that tells us how many dimensions an array has\n",
    "\n",
    "if a is defined as an array, to check the dimensions of a, the syntax is - a.ndim\n",
    "\n",
    "### 0-D Arrays\n",
    "- 0-D Arrays or scalars are elements in array, each value in array is 0-D array."
   ],
   "metadata": {}
  },
  {
   "cell_type": "code",
   "execution_count": 5,
   "source": [
    "import numpy as np\r\n",
    "a = np.array(9) # single element\r\n",
    "print(a)\r\n",
    "print(a.ndim) #prints the dimension of an array"
   ],
   "outputs": [
    {
     "output_type": "stream",
     "name": "stdout",
     "text": [
      "9\n",
      "0\n"
     ]
    }
   ],
   "metadata": {}
  },
  {
   "cell_type": "markdown",
   "source": [
    "### 1-D Arrays\n",
    "An array that has 0D Arrays as its elements."
   ],
   "metadata": {}
  },
  {
   "cell_type": "code",
   "execution_count": 6,
   "source": [
    "a = np.array([1,2,3,4,5])\r\n",
    "print(a)\r\n",
    "print(a.ndim)"
   ],
   "outputs": [
    {
     "output_type": "stream",
     "name": "stdout",
     "text": [
      "[1 2 3 4 5]\n",
      "1\n"
     ]
    }
   ],
   "metadata": {}
  },
  {
   "cell_type": "markdown",
   "source": [
    "### 2-D Arrays\n",
    "An array that has 1-D elements is called a 2D array\n",
    "\n",
    "Represents a matrix\n",
    "\n",
    "Note: NumPy also has a submodule dedicated for matrix operations called numpy.mat (go through [documentation](https://numpy.org/doc/stable/reference/generated/numpy.mat.html))"
   ],
   "metadata": {}
  },
  {
   "cell_type": "code",
   "execution_count": 7,
   "source": [
    "import numpy as np\r\n",
    "a = np.array([[1,2,3],[4,5,6]])\r\n",
    "print(a)\r\n",
    "print(a.ndim)"
   ],
   "outputs": [
    {
     "output_type": "stream",
     "name": "stdout",
     "text": [
      "[[1 2 3]\n",
      " [4 5 6]]\n",
      "2\n"
     ]
    }
   ],
   "metadata": {}
  },
  {
   "cell_type": "markdown",
   "source": [
    "### 3-D Arrays\n",
    "An array of 2D arrays is called a 3D array."
   ],
   "metadata": {}
  },
  {
   "cell_type": "code",
   "execution_count": 8,
   "source": [
    "import numpy as np\r\n",
    "a = np.array([[[1,2,3],[4,5,6],[7,8,9]],[[9,8,7],[6,5,4],[3,2,1]]])\r\n",
    "print(a)\r\n",
    "print(a.ndim)"
   ],
   "outputs": [
    {
     "output_type": "stream",
     "name": "stdout",
     "text": [
      "[[[1 2 3]\n",
      "  [4 5 6]\n",
      "  [7 8 9]]\n",
      "\n",
      " [[9 8 7]\n",
      "  [6 5 4]\n",
      "  [3 2 1]]]\n",
      "3\n"
     ]
    }
   ],
   "metadata": {}
  },
  {
   "cell_type": "code",
   "execution_count": 9,
   "source": [
    "# Common example to demonstrate dimensions\r\n",
    "import numpy as np\r\n",
    "a = np.array(45)\r\n",
    "b = np.array([1,2,3,4,5])\r\n",
    "c = np.array([[1,2,3],[4,5,6]])\r\n",
    "d = np.array([[1,2,3],[4,5,6],[7,8,9]])\r\n",
    "e = np.array([[[1,2,3],[4,5,6]],[[1,2,3],[4,5,6]]])\r\n",
    "# Pay very close attention to the number of square brackets.\r\n",
    "# One neat trick is the number of square brackets at the beginning is the dimensions of that array.\r\n",
    "print(a,'\\n')\r\n",
    "print(b,'\\n')\r\n",
    "print(c,'\\n')\r\n",
    "print(d,'\\n')\r\n",
    "print(e,'\\n')\r\n",
    "\r\n",
    "print(\"The dimension of\",'\\n',a,\"is --\",a.ndim)\r\n",
    "print(\"The dimension of\",'\\n',b,\"is --\",b.ndim)\r\n",
    "print(\"The dimension of\",'\\n',c,\"is --\",c.ndim)\r\n",
    "print(\"The dimension of\",'\\n',d,\"is --\",d.ndim)\r\n",
    "print(\"The dimension of\",'\\n',e,\"is --\",e.ndim)"
   ],
   "outputs": [
    {
     "output_type": "stream",
     "name": "stdout",
     "text": [
      "45 \n",
      "\n",
      "[1 2 3 4 5] \n",
      "\n",
      "[[1 2 3]\n",
      " [4 5 6]] \n",
      "\n",
      "[[1 2 3]\n",
      " [4 5 6]\n",
      " [7 8 9]] \n",
      "\n",
      "[[[1 2 3]\n",
      "  [4 5 6]]\n",
      "\n",
      " [[1 2 3]\n",
      "  [4 5 6]]] \n",
      "\n",
      "The dimension of \n",
      " 45 is -- 0\n",
      "The dimension of \n",
      " [1 2 3 4 5] is -- 1\n",
      "The dimension of \n",
      " [[1 2 3]\n",
      " [4 5 6]] is -- 2\n",
      "The dimension of \n",
      " [[1 2 3]\n",
      " [4 5 6]\n",
      " [7 8 9]] is -- 2\n",
      "The dimension of \n",
      " [[[1 2 3]\n",
      "  [4 5 6]]\n",
      "\n",
      " [[1 2 3]\n",
      "  [4 5 6]]] is -- 3\n"
     ]
    }
   ],
   "metadata": {}
  },
  {
   "cell_type": "code",
   "execution_count": 10,
   "source": [
    "# To make an array of desired dimensions\r\n",
    "a = np.array([1,2,3,4],ndmin=7)\r\n",
    "print(a)\r\n",
    "print(\"Number of dimensions: \",a.ndim)"
   ],
   "outputs": [
    {
     "output_type": "stream",
     "name": "stdout",
     "text": [
      "[[[[[[[1 2 3 4]]]]]]]\n",
      "Number of dimensions:  7\n"
     ]
    }
   ],
   "metadata": {}
  },
  {
   "cell_type": "markdown",
   "source": [
    "## Access Array Elements\n",
    "Array indexing is the same as accessing an array element.\n",
    "\n",
    "You can access an array element by referring to its index number."
   ],
   "metadata": {}
  },
  {
   "cell_type": "code",
   "execution_count": 11,
   "source": [
    "import numpy as np\r\n",
    "a = np.array([1,2,3,4])\r\n",
    "print(a[0]) # Remember! first element has 0 index in python"
   ],
   "outputs": [
    {
     "output_type": "stream",
     "name": "stdout",
     "text": [
      "1\n"
     ]
    }
   ],
   "metadata": {}
  },
  {
   "cell_type": "code",
   "execution_count": 12,
   "source": [
    "'''To access elements from 2-D arrays we can use comma separated integers representing \r\n",
    "the dimension and the index of the element.'''\r\n",
    "\r\n",
    "a = np.array([[1,2,3,4,5],[6,7,8,9,10]]) \r\n",
    "#[1,2,3,4,5] = 0th dimension, [6,7,8,9,10] = 1st dimension\r\n",
    "\r\n",
    "print(a[0,1]) # first index = 0 ->selects 1st array, second index = 1 ->selects second element of first array"
   ],
   "outputs": [
    {
     "output_type": "stream",
     "name": "stdout",
     "text": [
      "2\n"
     ]
    }
   ],
   "metadata": {}
  },
  {
   "cell_type": "code",
   "execution_count": 13,
   "source": [
    "print(a[1,3]) #syntax - a[dimension,element]"
   ],
   "outputs": [
    {
     "output_type": "stream",
     "name": "stdout",
     "text": [
      "9\n"
     ]
    }
   ],
   "metadata": {}
  },
  {
   "cell_type": "code",
   "execution_count": 14,
   "source": [
    "a = np.array([[[1,2,3],[4,5,6]],[[7,8,9],[10,11,12]]])\r\n",
    "\r\n",
    "print(a[0,1,1]) \r\n",
    "'''\r\n",
    "first index = 0 -> Selects [[1,2,3],[4,5,6]]\r\n",
    "second index = 1 -> Selects [4,5,6]\r\n",
    "third index = 1 -> Selects 5\r\n",
    "'''\r\n",
    "print(\"Dimensions of a: \",a.ndim)"
   ],
   "outputs": [
    {
     "output_type": "stream",
     "name": "stdout",
     "text": [
      "5\n",
      "Dimensions of a:  3\n"
     ]
    }
   ],
   "metadata": {}
  },
  {
   "cell_type": "code",
   "execution_count": 15,
   "source": [
    "a.shape\r\n"
   ],
   "outputs": [
    {
     "output_type": "execute_result",
     "data": {
      "text/plain": [
       "(2, 2, 3)"
      ]
     },
     "metadata": {},
     "execution_count": 15
    }
   ],
   "metadata": {}
  },
  {
   "cell_type": "markdown",
   "source": [
    "a has 2 elements `[[1,2,3],[4,5,6]]` & `[[7,8,9],[10,11,12]]`  \n",
    "of which each has 2 elements `[1,2,3]` & `[4,5,6]` of 1st element; `[7,8,9]` & `[10,11,12]` of 2nd element  \n",
    "of which each has 3 elements `1,2,3` .... and so on you get the point  \n",
    "`a.shape` returns (2,2,3) which is the shape of an array  "
   ],
   "metadata": {}
  },
  {
   "cell_type": "markdown",
   "source": [
    "## Slicing Arrays\n",
    "Syntax [start_inclusive:end_exclusive]\n",
    "\n",
    "also\n",
    "\n",
    "[start:end:step]\n",
    "\n",
    "Leaving start or end index blank will mean start from beginning and go till end respectively"
   ],
   "metadata": {}
  },
  {
   "cell_type": "code",
   "execution_count": 16,
   "source": [
    "a = np.array([1,2,3,4,5,6,7,8,9])\r\n",
    "print(a[1:5]) # From 1st index to 4th index"
   ],
   "outputs": [
    {
     "output_type": "stream",
     "name": "stdout",
     "text": [
      "[2 3 4 5]\n"
     ]
    }
   ],
   "metadata": {}
  },
  {
   "cell_type": "code",
   "execution_count": 17,
   "source": [
    "a[:5] # From beginning to 4th index"
   ],
   "outputs": [
    {
     "output_type": "execute_result",
     "data": {
      "text/plain": [
       "array([1, 2, 3, 4, 5])"
      ]
     },
     "metadata": {},
     "execution_count": 17
    }
   ],
   "metadata": {}
  },
  {
   "cell_type": "code",
   "execution_count": 18,
   "source": [
    "a[5:]"
   ],
   "outputs": [
    {
     "output_type": "execute_result",
     "data": {
      "text/plain": [
       "array([6, 7, 8, 9])"
      ]
     },
     "metadata": {},
     "execution_count": 18
    }
   ],
   "metadata": {}
  },
  {
   "cell_type": "code",
   "execution_count": 19,
   "source": [
    "a[2:6:2] # from index 2 to 5 in steps of 2"
   ],
   "outputs": [
    {
     "output_type": "execute_result",
     "data": {
      "text/plain": [
       "array([3, 5])"
      ]
     },
     "metadata": {},
     "execution_count": 19
    }
   ],
   "metadata": {}
  },
  {
   "cell_type": "code",
   "execution_count": 20,
   "source": [
    "b = np.array([1,2,3,4,5,6,7])\r\n",
    "c = np.array_split(b,3) # array_split(array,no. of splits)\r\n",
    "print(c)"
   ],
   "outputs": [
    {
     "output_type": "stream",
     "name": "stdout",
     "text": [
      "[array([1, 2, 3]), array([4, 5]), array([6, 7])]\n"
     ]
    }
   ],
   "metadata": {}
  },
  {
   "cell_type": "markdown",
   "source": [
    "## Random\n",
    "NumPy has a function `random` which creates an array of given shape and populate it with random samples from a uniform distribution over `[0,1)` [Documentation](https://numpy.org/doc/stable/reference/random/generated/numpy.random.rand.html)"
   ],
   "metadata": {}
  },
  {
   "cell_type": "code",
   "execution_count": 21,
   "source": [
    "# import random from numpy so that we don't have to write np.random.rand()\r\n",
    "from numpy import random \r\n",
    "x = random.rand() #returns a random float between 0 and 1\r\n",
    "x"
   ],
   "outputs": [
    {
     "output_type": "execute_result",
     "data": {
      "text/plain": [
       "0.2717787729661104"
      ]
     },
     "metadata": {},
     "execution_count": 21
    }
   ],
   "metadata": {}
  },
  {
   "cell_type": "markdown",
   "source": [
    "`random.randint(low, high=None, size=None, dtype=int)`  \n",
    "Return random integers from low (inclusive) to high (exclusive).  \n",
    "\n",
    "Return random integers from the “discrete uniform” distribution of the specified dtype in the “half-open” interval [low, high). If high is None (the default), then results are from [0, low).  \n",
    "[Documentation](https://numpy.org/doc/stable/reference/random/generated/numpy.random.randint.html#numpy-random-randint)"
   ],
   "metadata": {}
  },
  {
   "cell_type": "code",
   "execution_count": 22,
   "source": [
    "x = random.randint(100, size=(5)) #gives an array of 5 random integers between 0 and 100\r\n",
    "x"
   ],
   "outputs": [
    {
     "output_type": "execute_result",
     "data": {
      "text/plain": [
       "array([52, 59, 99, 15, 51])"
      ]
     },
     "metadata": {},
     "execution_count": 22
    }
   ],
   "metadata": {}
  },
  {
   "cell_type": "code",
   "execution_count": 23,
   "source": [
    "x = random.randint(100, size=(3,3)) # gives a 3 x 3 array\r\n",
    "x"
   ],
   "outputs": [
    {
     "output_type": "execute_result",
     "data": {
      "text/plain": [
       "array([[95, 14,  5],\n",
       "       [96,  9, 39],\n",
       "       [78, 98,  6]])"
      ]
     },
     "metadata": {},
     "execution_count": 23
    }
   ],
   "metadata": {}
  },
  {
   "cell_type": "code",
   "execution_count": 24,
   "source": [
    "x = random.choice([3,5,7,9]) # chooses a random value from given array\r\n",
    "x"
   ],
   "outputs": [
    {
     "output_type": "execute_result",
     "data": {
      "text/plain": [
       "3"
      ]
     },
     "metadata": {},
     "execution_count": 24
    }
   ],
   "metadata": {}
  },
  {
   "cell_type": "code",
   "execution_count": 25,
   "source": [
    "x = random.choice([3,5,7,9],size=(3,3)) # creates a 3 x 3 array by choosing values randomly from given array\r\n",
    "x"
   ],
   "outputs": [
    {
     "output_type": "execute_result",
     "data": {
      "text/plain": [
       "array([[3, 3, 9],\n",
       "       [5, 7, 5],\n",
       "       [5, 7, 3]])"
      ]
     },
     "metadata": {},
     "execution_count": 25
    }
   ],
   "metadata": {}
  },
  {
   "cell_type": "code",
   "execution_count": 26,
   "source": [
    "x = random.randint(100, size=(5))\r\n",
    "y = np.random.shuffle(x)\r\n",
    "print(x)\r\n",
    "print(y)"
   ],
   "outputs": [
    {
     "output_type": "stream",
     "name": "stdout",
     "text": [
      "[28 11 57 51 15]\n",
      "None\n"
     ]
    }
   ],
   "metadata": {}
  },
  {
   "cell_type": "code",
   "execution_count": 27,
   "source": [
    "x = random.randint(1000,size=(10)) # 10 random values between 0 and 1000\r\n",
    "print(x) \r\n",
    "print(np.var(x)) # Variance\r\n",
    "print(np.std(x)) # Standard Deviation\r\n",
    "print(np.average(x)) # Average"
   ],
   "outputs": [
    {
     "output_type": "stream",
     "name": "stdout",
     "text": [
      "[627  90 246 616 904 596  83 604 850 692]\n",
      "76921.56\n",
      "277.3473634271651\n",
      "530.8\n"
     ]
    }
   ],
   "metadata": {}
  },
  {
   "cell_type": "markdown",
   "source": [
    "`np.random.randn()` returns a sample(or samples) from the \"Standard Normal\" Distribution.  \n",
    "If positive int_like arguments are provided, `randn` generates an array of shape (d0,d1,...,dn), filled with random floats sampled from a univariate \"normal\" (Gaussian) distribution of mean 0 and variance 1. A single float randomly sampled from the distribution is returned if no argument is provided."
   ],
   "metadata": {}
  },
  {
   "cell_type": "code",
   "execution_count": 28,
   "source": [
    "x = np.random.randn(10)\r\n",
    "x"
   ],
   "outputs": [
    {
     "output_type": "execute_result",
     "data": {
      "text/plain": [
       "array([ 0.50725999, -0.4589325 ,  1.46524238, -0.70231732,  0.1165182 ,\n",
       "        2.10594258,  0.88979857,  1.09222801, -0.20718683, -1.22042282])"
      ]
     },
     "metadata": {},
     "execution_count": 28
    }
   ],
   "metadata": {}
  },
  {
   "cell_type": "markdown",
   "source": [
    "Modify a sequence in-place by shuffling its contents.\n",
    "\n",
    "This function only shuffles the array along the first axis of a multi-dimensional array. The order of sub-arrays is changed but their contents remains the same."
   ],
   "metadata": {}
  },
  {
   "cell_type": "code",
   "execution_count": 29,
   "source": [
    "x = np.array([1,2,3,4,5,6,7,8,9,10])\r\n",
    "random.shuffle(x) \r\n",
    "x "
   ],
   "outputs": [
    {
     "output_type": "execute_result",
     "data": {
      "text/plain": [
       "array([ 4,  3, 10,  7,  2,  1,  9,  5,  8,  6])"
      ]
     },
     "metadata": {},
     "execution_count": 29
    }
   ],
   "metadata": {}
  },
  {
   "cell_type": "markdown",
   "source": [
    "## Products"
   ],
   "metadata": {}
  },
  {
   "cell_type": "code",
   "execution_count": 30,
   "source": [
    "p1 = np.inner(2,2) # gives inner product\r\n",
    "\r\n",
    "v_a = 9 + 6j\r\n",
    "v_b = 5 + 2j\r\n",
    "p2 = np.inner(v_a,v_b) # inner product of 2 vectors\r\n",
    "print(p1) \r\n",
    "print(p2)"
   ],
   "outputs": [
    {
     "output_type": "stream",
     "name": "stdout",
     "text": [
      "4\n",
      "(33+48j)\n"
     ]
    }
   ],
   "metadata": {}
  },
  {
   "cell_type": "code",
   "execution_count": 31,
   "source": [
    "a1 = np.array([[2,6],[7,8]])\r\n",
    "a2 = np.array([[5,10],[-2,3]])\r\n",
    "p3 = np.inner(a1,a2)\r\n",
    "print(p3)"
   ],
   "outputs": [
    {
     "output_type": "stream",
     "name": "stdout",
     "text": [
      "[[ 70  14]\n",
      " [115  10]]\n"
     ]
    }
   ],
   "metadata": {}
  },
  {
   "cell_type": "code",
   "execution_count": 32,
   "source": [
    "# Cross Product\r\n",
    "p4 = np.cross(a1,a2)\r\n",
    "print(p4)"
   ],
   "outputs": [
    {
     "output_type": "stream",
     "name": "stdout",
     "text": [
      "[-10  37]\n"
     ]
    }
   ],
   "metadata": {}
  },
  {
   "cell_type": "code",
   "execution_count": 33,
   "source": [
    "# Dot Product\r\n",
    "p5 = np.dot(a1,a2)\r\n",
    "p5"
   ],
   "outputs": [
    {
     "output_type": "execute_result",
     "data": {
      "text/plain": [
       "array([[-2, 38],\n",
       "       [19, 94]])"
      ]
     },
     "metadata": {},
     "execution_count": 33
    }
   ],
   "metadata": {}
  },
  {
   "cell_type": "markdown",
   "source": [
    "If we just want the indices where a certain condition is satisfied, we can use `np.where( )`. This function is used to filter out data."
   ],
   "metadata": {}
  },
  {
   "cell_type": "code",
   "execution_count": 34,
   "source": [
    "x = np.array([0,1,2,3,4,5,6,7,8,9])\r\n",
    "indices = np.where(x<5)\r\n",
    "x[indices]"
   ],
   "outputs": [
    {
     "output_type": "execute_result",
     "data": {
      "text/plain": [
       "array([0, 1, 2, 3, 4])"
      ]
     },
     "metadata": {},
     "execution_count": 34
    }
   ],
   "metadata": {}
  },
  {
   "cell_type": "markdown",
   "source": [
    "**Functions like np.arange, np.linspace are very useful:**\n",
    "\n",
    "np.arange (read as 'a range') gives an array of numbers within a given range and stepsize\n",
    "\n",
    "np.linspace gives an array of linearly spaced numbers"
   ],
   "metadata": {}
  },
  {
   "cell_type": "code",
   "execution_count": 35,
   "source": [
    "np.arange(0,10,3) # syntax - (inclusive_start, exclusive_stop, stepsize)\r\n",
    "#This will give an array of values from 0 to 10 in steps of 3"
   ],
   "outputs": [
    {
     "output_type": "execute_result",
     "data": {
      "text/plain": [
       "array([0, 3, 6, 9])"
      ]
     },
     "metadata": {},
     "execution_count": 35
    }
   ],
   "metadata": {}
  },
  {
   "cell_type": "code",
   "execution_count": 36,
   "source": [
    "np.arange(-np.pi, np.pi, 1) "
   ],
   "outputs": [
    {
     "output_type": "execute_result",
     "data": {
      "text/plain": [
       "array([-3.14159265, -2.14159265, -1.14159265, -0.14159265,  0.85840735,\n",
       "        1.85840735,  2.85840735])"
      ]
     },
     "metadata": {},
     "execution_count": 36
    }
   ],
   "metadata": {}
  },
  {
   "cell_type": "code",
   "execution_count": 37,
   "source": [
    "np.linspace(-np.pi, np.pi, 7) # linearly spaced values - difference between 2 consecutive values not necessarily 1"
   ],
   "outputs": [
    {
     "output_type": "execute_result",
     "data": {
      "text/plain": [
       "array([-3.14159265, -2.0943951 , -1.04719755,  0.        ,  1.04719755,\n",
       "        2.0943951 ,  3.14159265])"
      ]
     },
     "metadata": {},
     "execution_count": 37
    }
   ],
   "metadata": {}
  },
  {
   "cell_type": "markdown",
   "source": [
    "**Notice** the difference between `np.arange()` function and `np.linspace()` function:\n",
    "\n",
    "`np.arange` function gives values which have same difference but doesn't include the last value, whereas `np.linspace` function first sets start and end value and divides the numbers linearly.\n",
    "\n",
    "This changes the output of both of these function significantly. \n",
    "\n",
    "In the syntax of `np.arange` function the **last value denotes the difference between each element**. But in `np.linspace` function the **last value denotes the number of elements desired in the given range**, the difference between each element is determined accoridingly by the system."
   ],
   "metadata": {}
  },
  {
   "cell_type": "code",
   "execution_count": 38,
   "source": [
    "np.linspace(0,np.pi,10) #syntax - (inclusive_start, INCLUSIVE_stop, Number of elements)"
   ],
   "outputs": [
    {
     "output_type": "execute_result",
     "data": {
      "text/plain": [
       "array([0.        , 0.34906585, 0.6981317 , 1.04719755, 1.3962634 ,\n",
       "       1.74532925, 2.0943951 , 2.44346095, 2.7925268 , 3.14159265])"
      ]
     },
     "metadata": {},
     "execution_count": 38
    }
   ],
   "metadata": {}
  },
  {
   "cell_type": "markdown",
   "source": [
    "## NumPy Logarithms\n",
    "NumPy has functions to perform log at base 2, e and 10\n",
    "- `log2()` - log to the base 2\n",
    "- `log10()` - log to the base 10\n",
    "- `log()` - natural log / base $\\mathcal{e}$"
   ],
   "metadata": {}
  },
  {
   "cell_type": "code",
   "execution_count": 39,
   "source": [
    "#log to the base 2\r\n",
    "x = np.arange(1,10)\r\n",
    "print(x)\r\n",
    "print(np.log2(x))"
   ],
   "outputs": [
    {
     "output_type": "stream",
     "name": "stdout",
     "text": [
      "[1 2 3 4 5 6 7 8 9]\n",
      "[0.         1.         1.5849625  2.         2.32192809 2.5849625\n",
      " 2.80735492 3.         3.169925  ]\n"
     ]
    }
   ],
   "metadata": {}
  },
  {
   "cell_type": "code",
   "execution_count": 40,
   "source": [
    "# log to the base 10\r\n",
    "print(np.log10(x))"
   ],
   "outputs": [
    {
     "output_type": "stream",
     "name": "stdout",
     "text": [
      "[0.         0.30103    0.47712125 0.60205999 0.69897    0.77815125\n",
      " 0.84509804 0.90308999 0.95424251]\n"
     ]
    }
   ],
   "metadata": {}
  },
  {
   "cell_type": "code",
   "execution_count": 41,
   "source": [
    "# log to the base e or natural log (ln)\r\n",
    "print(np.log(x))"
   ],
   "outputs": [
    {
     "output_type": "stream",
     "name": "stdout",
     "text": [
      "[0.         0.69314718 1.09861229 1.38629436 1.60943791 1.79175947\n",
      " 1.94591015 2.07944154 2.19722458]\n"
     ]
    }
   ],
   "metadata": {}
  },
  {
   "cell_type": "markdown",
   "source": [
    "## NumPy LCM and GCD\n",
    "NumPy has the functions `np.lcm` and `np.gcd`. \n",
    "\n",
    "We can also use this functions to find lcm and gcd of each element in an array using the $reduce( )$ method"
   ],
   "metadata": {}
  },
  {
   "cell_type": "code",
   "execution_count": 42,
   "source": [
    "x = 4\r\n",
    "y = 12\r\n",
    "lcm = np.lcm(x,y)\r\n",
    "lcm"
   ],
   "outputs": [
    {
     "output_type": "execute_result",
     "data": {
      "text/plain": [
       "12"
      ]
     },
     "metadata": {},
     "execution_count": 42
    }
   ],
   "metadata": {}
  },
  {
   "cell_type": "code",
   "execution_count": 43,
   "source": [
    "gcd = np.gcd(x,y)\r\n",
    "gcd"
   ],
   "outputs": [
    {
     "output_type": "execute_result",
     "data": {
      "text/plain": [
       "4"
      ]
     },
     "metadata": {},
     "execution_count": 43
    }
   ],
   "metadata": {}
  },
  {
   "cell_type": "code",
   "execution_count": 44,
   "source": [
    "x = np.arange(2,10)\r\n",
    "y = np.lcm.reduce(x) # use reduce() when the element is an array\r\n",
    "y"
   ],
   "outputs": [
    {
     "output_type": "execute_result",
     "data": {
      "text/plain": [
       "2520"
      ]
     },
     "metadata": {},
     "execution_count": 44
    }
   ],
   "metadata": {}
  },
  {
   "cell_type": "code",
   "execution_count": 45,
   "source": [
    "x = np.array([4,44,40,20,22])\r\n",
    "np.gcd.reduce(x)"
   ],
   "outputs": [
    {
     "output_type": "execute_result",
     "data": {
      "text/plain": [
       "2"
      ]
     },
     "metadata": {},
     "execution_count": 45
    }
   ],
   "metadata": {}
  },
  {
   "cell_type": "code",
   "execution_count": 46,
   "source": [
    "x = np.random.randint(100,size=2)\r\n",
    "print(x)\r\n",
    "print(np.gcd.reduce(x))"
   ],
   "outputs": [
    {
     "output_type": "stream",
     "name": "stdout",
     "text": [
      "[81 33]\n",
      "3\n"
     ]
    }
   ],
   "metadata": {}
  },
  {
   "cell_type": "markdown",
   "source": [
    "## Convert Degrees into Radians and Radians to Degrees\n",
    "By default the values are in radians, but we can convert it into degrees and vice versa if required\n",
    "\n",
    "$$180^\\circ=\\pi\\;rad$$\n",
    "$$\\therefore 1\\;rad=\\Big(\\frac{180}{\\pi}\\Big)^\\circ$$"
   ],
   "metadata": {}
  },
  {
   "cell_type": "code",
   "execution_count": 47,
   "source": [
    "# Suppose we have array of values in degrees\r\n",
    "import numpy as np\r\n",
    "x = np.array([0,30,45,60,90,180,270,360])\r\n",
    "radian = np.deg2rad(x)\r\n",
    "print(radian)"
   ],
   "outputs": [
    {
     "output_type": "stream",
     "name": "stdout",
     "text": [
      "[0.         0.52359878 0.78539816 1.04719755 1.57079633 3.14159265\n",
      " 4.71238898 6.28318531]\n"
     ]
    }
   ],
   "metadata": {}
  },
  {
   "cell_type": "code",
   "execution_count": 48,
   "source": [
    "degree = np.rad2deg(radian)\r\n",
    "print(degree)"
   ],
   "outputs": [
    {
     "output_type": "stream",
     "name": "stdout",
     "text": [
      "[  0.  30.  45.  60.  90. 180. 270. 360.]\n"
     ]
    }
   ],
   "metadata": {}
  },
  {
   "cell_type": "code",
   "execution_count": 49,
   "source": [
    "y = np.array([np.pi/2, np.pi, 4*np.pi/3, 2*np.pi])\r\n",
    "y_degree = np.rad2deg(y)\r\n",
    "print(y_degree)"
   ],
   "outputs": [
    {
     "output_type": "stream",
     "name": "stdout",
     "text": [
      "[ 90. 180. 240. 360.]\n"
     ]
    }
   ],
   "metadata": {}
  },
  {
   "cell_type": "markdown",
   "source": [
    "NumPy also has the function to find angles i.e inverse trig values\n",
    "\n",
    "arcsin( ), arccos( ), arctan( )"
   ],
   "metadata": {}
  },
  {
   "cell_type": "code",
   "execution_count": 50,
   "source": [
    "x = np.arcsin(0.8)\r\n",
    "x_deg = np.rad2deg(x)\r\n",
    "print(x)\r\n",
    "print(round(x_deg,2)) # round(x_deg,2) rounds off the value of x_deg to 2 decimal places"
   ],
   "outputs": [
    {
     "output_type": "stream",
     "name": "stdout",
     "text": [
      "0.9272952180016123\n",
      "53.13\n"
     ]
    }
   ],
   "metadata": {}
  },
  {
   "cell_type": "code",
   "execution_count": null,
   "source": [],
   "outputs": [],
   "metadata": {}
  }
 ],
 "metadata": {
  "kernelspec": {
   "name": "python3",
   "display_name": "Python 3.9.6 64-bit (windows store)"
  },
  "language_info": {
   "codemirror_mode": {
    "name": "ipython",
    "version": 3
   },
   "file_extension": ".py",
   "mimetype": "text/x-python",
   "name": "python",
   "nbconvert_exporter": "python",
   "pygments_lexer": "ipython3",
   "version": "3.9.6"
  },
  "interpreter": {
   "hash": "f4da2e4dcbe768cc442fdfb9bae774ac8d17948510ac396126f8d91378e96f5b"
  }
 },
 "nbformat": 4,
 "nbformat_minor": 5
}