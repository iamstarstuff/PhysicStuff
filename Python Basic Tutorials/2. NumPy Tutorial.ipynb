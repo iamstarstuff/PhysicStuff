{
 "cells": [
  {
   "cell_type": "markdown",
   "id": "3ea4beec",
   "metadata": {},
   "source": [
    "# NumPy\n",
    "NumPy is the fundamental package for scientific computing in Python. It is a Python library that provides a multidimensional array object, various derived objects (such as masked arrays and matrices), and an assortment of routines for fast operations on arrays, including mathematical, logical, shape manipulation, sorting, selecting, I/O, discrete Fourier transforms, basic linear algebra, basic statistical operations, random simulation and much more."
   ]
  },
  {
   "cell_type": "markdown",
   "id": "e931258f",
   "metadata": {},
   "source": [
    "- NumPy is a python library, stands for Numerical Python\n",
    "- Used for working with arrays. It is very useful in Numerical calculations - matrices, linear algebra, etc\n",
    "- The array object in NumPy is called ndarray (n-dimensional array). Arrays are frequently used in data sciences, where speed and accuracy matters. It is similar to list but it is way faster than that.\n",
    "- Elements in NumPy array cannot be heterogeneous like in lists. The elements in a NumPy array are all required to be of the same data type, and thus will be the same size in memory.\n",
    "- NumPy arrays have a fixed size at creation, unlike Python lists (which can grow dynamically). Changing the size of an ndarray will create a new array and delete the original.\n",
    "- NumPy library was written partially in Python, but most of the parts that require fast computation are written in C or C++.\n",
    "- For detailed information you can go through the [official documentation](https://numpy.org/doc/stable/user/absolute_beginners.html#numpy-the-absolute-basics-for-beginners) \n",
    "- [Source code for NumPy](https://github.com/numpy/numpy)"
   ]
  },
  {
   "cell_type": "code",
   "execution_count": 1,
   "id": "04e1304e",
   "metadata": {},
   "outputs": [],
   "source": [
    "# To import the library use\n",
    "import numpy"
   ]
  },
  {
   "cell_type": "code",
   "execution_count": 2,
   "id": "770c89c5",
   "metadata": {},
   "outputs": [],
   "source": [
    "# add keyword numpy before using\n",
    "a = numpy.array([1,2,3,4,5]) # defines a as numpy object \n",
    "# array is enclosed in ([])"
   ]
  },
  {
   "cell_type": "markdown",
   "id": "e21fd7a1",
   "metadata": {},
   "source": [
    "NumPy is imported under the alias using the keyword \"as\" - import numpy as np  \n",
    "This shortens the keyword required in syntax, instead of numpy.array we can type np.array"
   ]
  },
  {
   "cell_type": "code",
   "execution_count": 3,
   "id": "fef05d89",
   "metadata": {},
   "outputs": [
    {
     "name": "stdout",
     "output_type": "stream",
     "text": [
      "[1 2 3 4 5]\n",
      "[1, 2, 3, 4, 5]\n",
      "<class 'numpy.ndarray'>\n",
      "<class 'list'>\n"
     ]
    }
   ],
   "source": [
    "import numpy as np\n",
    "a = np.array([1,2,3,4,5])\n",
    "b = [1,2,3,4,5]\n",
    "print(a)\n",
    "print(b)\n",
    "print(type(a)) # shows the type\n",
    "print(type(b))"
   ]
  },
  {
   "cell_type": "markdown",
   "id": "cdbea321",
   "metadata": {},
   "source": [
    "Notice the output of print(a), it is enclosed in square brackets like lists but not separated by commas like lists. Hence the output is a numpy array."
   ]
  },
  {
   "cell_type": "code",
   "execution_count": 4,
   "id": "c3d44079",
   "metadata": {},
   "outputs": [
    {
     "name": "stdout",
     "output_type": "stream",
     "text": [
      "[1 2 3 4 5]\n",
      "<class 'numpy.ndarray'>\n"
     ]
    }
   ],
   "source": [
    "#Use Tuple to create numpy array\n",
    "import numpy as np\n",
    "a = np.array((1,2,3,4,5))\n",
    "print(a)\n",
    "print(type(a))\n",
    "# To create an ndarray, we can pass a list, tuple or any array-like object into the array() method."
   ]
  },
  {
   "cell_type": "markdown",
   "id": "37fb7414",
   "metadata": {},
   "source": [
    "## Dimensions in Array\n",
    "A dimension in array is one level of array depth\n",
    "\n",
    "- nested arrays: are arrays that have arrays as elements.\n",
    "\n",
    "#### Check Number of Dimensions of array\n",
    "*ndim* attribute returns an integer that tells us how many dimensions an array has\n",
    "\n",
    "if a is defined as an array, to check the dimensions of a, the syntax is - a.ndim\n",
    "\n",
    "### 0-D Arrays\n",
    "- 0-D Arrays or scalars are elements in array, each value in array is 0-D array."
   ]
  },
  {
   "cell_type": "code",
   "execution_count": 5,
   "id": "2ff7c1e1",
   "metadata": {},
   "outputs": [
    {
     "name": "stdout",
     "output_type": "stream",
     "text": [
      "9\n",
      "0\n"
     ]
    }
   ],
   "source": [
    "import numpy as np\n",
    "a = np.array(9) # single element\n",
    "print(a)\n",
    "print(a.ndim) #prints the dimension of an array"
   ]
  },
  {
   "cell_type": "markdown",
   "id": "dfd77fe6",
   "metadata": {},
   "source": [
    "### 1-D Arrays\n",
    "An array that has 0D Arrays as its elements."
   ]
  },
  {
   "cell_type": "code",
   "execution_count": 6,
   "id": "c9c529f3",
   "metadata": {},
   "outputs": [
    {
     "name": "stdout",
     "output_type": "stream",
     "text": [
      "[1 2 3 4 5]\n",
      "1\n"
     ]
    }
   ],
   "source": [
    "a = np.array([1,2,3,4,5])\n",
    "print(a)\n",
    "print(a.ndim)"
   ]
  },
  {
   "cell_type": "markdown",
   "id": "17b8b297",
   "metadata": {},
   "source": [
    "### 2-D Arrays\n",
    "An array that has 1-D elements is called a 2D array\n",
    "\n",
    "Represents a matrix\n",
    "\n",
    "Note: NumPy also has a submodule dedicated for matrix operations called numpy.mat (go through [documentation](https://numpy.org/doc/stable/reference/generated/numpy.mat.html))"
   ]
  },
  {
   "cell_type": "code",
   "execution_count": 7,
   "id": "0f206a0e",
   "metadata": {},
   "outputs": [
    {
     "name": "stdout",
     "output_type": "stream",
     "text": [
      "[[1 2 3]\n",
      " [4 5 6]]\n",
      "2\n"
     ]
    }
   ],
   "source": [
    "import numpy as np\n",
    "a = np.array([[1,2,3],[4,5,6]])\n",
    "print(a)\n",
    "print(a.ndim)"
   ]
  },
  {
   "cell_type": "markdown",
   "id": "0814c197",
   "metadata": {},
   "source": [
    "### 3-D Arrays\n",
    "An array of 2D arrays is called a 3D array."
   ]
  },
  {
   "cell_type": "code",
   "execution_count": 8,
   "id": "ad5c7355",
   "metadata": {},
   "outputs": [
    {
     "name": "stdout",
     "output_type": "stream",
     "text": [
      "[[[1 2 3]\n",
      "  [4 5 6]\n",
      "  [7 8 9]]\n",
      "\n",
      " [[9 8 7]\n",
      "  [6 5 4]\n",
      "  [3 2 1]]]\n",
      "3\n"
     ]
    }
   ],
   "source": [
    "import numpy as np\n",
    "a = np.array([[[1,2,3],[4,5,6],[7,8,9]],[[9,8,7],[6,5,4],[3,2,1]]])\n",
    "print(a)\n",
    "print(a.ndim)"
   ]
  },
  {
   "cell_type": "code",
   "execution_count": 9,
   "id": "23f30619",
   "metadata": {},
   "outputs": [
    {
     "name": "stdout",
     "output_type": "stream",
     "text": [
      "45 \n",
      "\n",
      "[1 2 3 4 5] \n",
      "\n",
      "[[1 2 3]\n",
      " [4 5 6]] \n",
      "\n",
      "[[1 2 3]\n",
      " [4 5 6]\n",
      " [7 8 9]] \n",
      "\n",
      "[[[1 2 3]\n",
      "  [4 5 6]]\n",
      "\n",
      " [[1 2 3]\n",
      "  [4 5 6]]] \n",
      "\n",
      "The dimension of \n",
      " 45 is -- 0\n",
      "The dimension of \n",
      " [1 2 3 4 5] is -- 1\n",
      "The dimension of \n",
      " [[1 2 3]\n",
      " [4 5 6]] is -- 2\n",
      "The dimension of \n",
      " [[1 2 3]\n",
      " [4 5 6]\n",
      " [7 8 9]] is -- 2\n",
      "The dimension of \n",
      " [[[1 2 3]\n",
      "  [4 5 6]]\n",
      "\n",
      " [[1 2 3]\n",
      "  [4 5 6]]] is -- 3\n"
     ]
    }
   ],
   "source": [
    "# Common example to demonstrate dimensions\n",
    "import numpy as np\n",
    "a = np.array(45)\n",
    "b = np.array([1,2,3,4,5])\n",
    "c = np.array([[1,2,3],[4,5,6]])\n",
    "d = np.array([[1,2,3],[4,5,6],[7,8,9]])\n",
    "e = np.array([[[1,2,3],[4,5,6]],[[1,2,3],[4,5,6]]])\n",
    "# Pay very close attention to the number of square brackets.\n",
    "# One neat trick is the number of square brackets at the beginning is the dimensions of that array.\n",
    "print(a,'\\n')\n",
    "print(b,'\\n')\n",
    "print(c,'\\n')\n",
    "print(d,'\\n')\n",
    "print(e,'\\n')\n",
    "\n",
    "print(\"The dimension of\",'\\n',a,\"is --\",a.ndim)\n",
    "print(\"The dimension of\",'\\n',b,\"is --\",b.ndim)\n",
    "print(\"The dimension of\",'\\n',c,\"is --\",c.ndim)\n",
    "print(\"The dimension of\",'\\n',d,\"is --\",d.ndim)\n",
    "print(\"The dimension of\",'\\n',e,\"is --\",e.ndim)"
   ]
  },
  {
   "cell_type": "code",
   "execution_count": 10,
   "id": "ad98a841",
   "metadata": {},
   "outputs": [
    {
     "name": "stdout",
     "output_type": "stream",
     "text": [
      "[[[[[[[1 2 3 4]]]]]]]\n",
      "Number of dimensions:  7\n"
     ]
    }
   ],
   "source": [
    "# To make an array of desired dimensions\n",
    "a = np.array([1,2,3,4],ndmin=7)\n",
    "print(a)\n",
    "print(\"Number of dimensions: \",a.ndim)"
   ]
  },
  {
   "cell_type": "markdown",
   "id": "0774826c",
   "metadata": {},
   "source": [
    "## Access Array Elements\n",
    "Array indexing is the same as accessing an array element.\n",
    "\n",
    "You can access an array element by referring to its index number."
   ]
  },
  {
   "cell_type": "code",
   "execution_count": 11,
   "id": "ebf17ea1",
   "metadata": {},
   "outputs": [
    {
     "name": "stdout",
     "output_type": "stream",
     "text": [
      "1\n"
     ]
    }
   ],
   "source": [
    "import numpy as np\n",
    "a = np.array([1,2,3,4])\n",
    "print(a[0]) # Remember! first element has 0 index in python"
   ]
  },
  {
   "cell_type": "code",
   "execution_count": 12,
   "id": "5ba4867d",
   "metadata": {},
   "outputs": [
    {
     "name": "stdout",
     "output_type": "stream",
     "text": [
      "2\n"
     ]
    }
   ],
   "source": [
    "'''To access elements from 2-D arrays we can use comma separated integers representing \n",
    "the dimension and the index of the element.'''\n",
    "\n",
    "a = np.array([[1,2,3,4,5],[6,7,8,9,10]]) \n",
    "#[1,2,3,4,5] = 0th dimension, [6,7,8,9,10] = 1st dimension\n",
    "\n",
    "print(a[0,1]) # first index = 0 ->selects 1st array, second index = 1 ->selects second element of first array"
   ]
  },
  {
   "cell_type": "code",
   "execution_count": 13,
   "id": "999b7597",
   "metadata": {},
   "outputs": [
    {
     "name": "stdout",
     "output_type": "stream",
     "text": [
      "9\n"
     ]
    }
   ],
   "source": [
    "print(a[1,3]) #syntax - a[dimension,element]"
   ]
  },
  {
   "cell_type": "code",
   "execution_count": 14,
   "id": "89af9cc9",
   "metadata": {},
   "outputs": [
    {
     "name": "stdout",
     "output_type": "stream",
     "text": [
      "5\n",
      "Dimensions of a:  3\n"
     ]
    }
   ],
   "source": [
    "a = np.array([[[1,2,3],[4,5,6]],[[7,8,9],[10,11,12]]])\n",
    "\n",
    "print(a[0,1,1]) \n",
    "'''\n",
    "first index = 0 -> Selects [[1,2,3],[4,5,6]]\n",
    "second index = 1 -> Selects [4,5,6]\n",
    "third index = 1 -> Selects 5\n",
    "'''\n",
    "print(\"Dimensions of a: \",a.ndim)"
   ]
  },
  {
   "cell_type": "code",
   "execution_count": 15,
   "id": "0679840a",
   "metadata": {},
   "outputs": [
    {
     "data": {
      "text/plain": [
       "(2, 2, 3)"
      ]
     },
     "execution_count": 15,
     "metadata": {},
     "output_type": "execute_result"
    }
   ],
   "source": [
    "a.shape\n"
   ]
  },
  {
   "cell_type": "markdown",
   "id": "028b3669",
   "metadata": {},
   "source": [
    "a has 2 elements `[[1,2,3],[4,5,6]]` & `[[7,8,9],[10,11,12]]`  \n",
    "of which each has 2 elements `[1,2,3]` & `[4,5,6]` of 1st element; `[7,8,9]` & `[10,11,12]` of 2nd element  \n",
    "of which each has 3 elements `1,2,3` .... and so on you get the point  \n",
    "`a.shape` returns (2,2,3) which is the shape of an array  "
   ]
  },
  {
   "cell_type": "markdown",
   "id": "147da14d",
   "metadata": {},
   "source": [
    "## Slicing Arrays\n",
    "Syntax [start_inclusive:end_exclusive]\n",
    "\n",
    "also\n",
    "\n",
    "[start:end:step]\n",
    "\n",
    "Leaving start or end index blank will mean start from beginning and go till end respectively"
   ]
  },
  {
   "cell_type": "code",
   "execution_count": 16,
   "id": "f85f8839",
   "metadata": {},
   "outputs": [
    {
     "name": "stdout",
     "output_type": "stream",
     "text": [
      "[2 3 4 5]\n"
     ]
    }
   ],
   "source": [
    "a = np.array([1,2,3,4,5,6,7,8,9])\n",
    "print(a[1:5]) # From 1st index to 4th index"
   ]
  },
  {
   "cell_type": "code",
   "execution_count": 17,
   "id": "c2f21b1e",
   "metadata": {},
   "outputs": [
    {
     "data": {
      "text/plain": [
       "array([1, 2, 3, 4, 5])"
      ]
     },
     "execution_count": 17,
     "metadata": {},
     "output_type": "execute_result"
    }
   ],
   "source": [
    "a[:5] # From beginning to 4th index"
   ]
  },
  {
   "cell_type": "code",
   "execution_count": 18,
   "id": "5ba167ae",
   "metadata": {},
   "outputs": [
    {
     "data": {
      "text/plain": [
       "array([6, 7, 8, 9])"
      ]
     },
     "execution_count": 18,
     "metadata": {},
     "output_type": "execute_result"
    }
   ],
   "source": [
    "a[5:]"
   ]
  },
  {
   "cell_type": "code",
   "execution_count": 19,
   "id": "aec2b331",
   "metadata": {},
   "outputs": [
    {
     "data": {
      "text/plain": [
       "array([3, 5])"
      ]
     },
     "execution_count": 19,
     "metadata": {},
     "output_type": "execute_result"
    }
   ],
   "source": [
    "a[2:6:2] # from index 2 to 5 in steps of 2"
   ]
  },
  {
   "cell_type": "code",
   "execution_count": 20,
   "id": "95bd3ed9",
   "metadata": {},
   "outputs": [
    {
     "name": "stdout",
     "output_type": "stream",
     "text": [
      "[array([1, 2, 3]), array([4, 5]), array([6, 7])]\n"
     ]
    }
   ],
   "source": [
    "b = np.array([1,2,3,4,5,6,7])\n",
    "c = np.array_split(b,3) # array_split(array,no. of splits)\n",
    "print(c)"
   ]
  },
  {
   "cell_type": "markdown",
   "id": "21753000",
   "metadata": {},
   "source": [
    "## Random\n",
    "NumPy has a function `random` which creates an array of given shape and populate it with random samples from a uniform distribution over `[0,1)` [Documentation](https://numpy.org/doc/stable/reference/random/generated/numpy.random.rand.html)"
   ]
  },
  {
   "cell_type": "code",
   "execution_count": 21,
   "id": "a6f3c5f3",
   "metadata": {},
   "outputs": [
    {
     "data": {
      "text/plain": [
       "0.872575143209844"
      ]
     },
     "execution_count": 21,
     "metadata": {},
     "output_type": "execute_result"
    }
   ],
   "source": [
    "# import random from numpy so that we don't have to write np.random.rand()\n",
    "from numpy import random \n",
    "x = random.rand() #returns a random float between 0 and 1\n",
    "x"
   ]
  },
  {
   "cell_type": "markdown",
   "id": "cb450913",
   "metadata": {},
   "source": [
    "`random.randint(low, high=None, size=None, dtype=int)`  \n",
    "Return random integers from low (inclusive) to high (exclusive).  \n",
    "\n",
    "Return random integers from the “discrete uniform” distribution of the specified dtype in the “half-open” interval [low, high). If high is None (the default), then results are from [0, low).  \n",
    "[Documentation](https://numpy.org/doc/stable/reference/random/generated/numpy.random.randint.html#numpy-random-randint)"
   ]
  },
  {
   "cell_type": "code",
   "execution_count": 22,
   "id": "1965de0a",
   "metadata": {},
   "outputs": [
    {
     "data": {
      "text/plain": [
       "array([35, 71, 96, 22, 87])"
      ]
     },
     "execution_count": 22,
     "metadata": {},
     "output_type": "execute_result"
    }
   ],
   "source": [
    "x = random.randint(100, size=(5)) #gives an array of 5 random integers between 0 and 100\n",
    "x"
   ]
  },
  {
   "cell_type": "code",
   "execution_count": 23,
   "id": "65996601",
   "metadata": {},
   "outputs": [
    {
     "data": {
      "text/plain": [
       "array([[32, 24, 91],\n",
       "       [93, 93, 62],\n",
       "       [ 6, 48, 78]])"
      ]
     },
     "execution_count": 23,
     "metadata": {},
     "output_type": "execute_result"
    }
   ],
   "source": [
    "x = random.randint(100, size=(3,3)) # gives a 3 x 3 array\n",
    "x"
   ]
  },
  {
   "cell_type": "code",
   "execution_count": 24,
   "id": "1eedfcdc",
   "metadata": {},
   "outputs": [
    {
     "data": {
      "text/plain": [
       "3"
      ]
     },
     "execution_count": 24,
     "metadata": {},
     "output_type": "execute_result"
    }
   ],
   "source": [
    "x = random.choice([3,5,7,9]) # chooses a random value from given array\n",
    "x"
   ]
  },
  {
   "cell_type": "code",
   "execution_count": 25,
   "id": "402b5e08",
   "metadata": {},
   "outputs": [
    {
     "data": {
      "text/plain": [
       "array([[9, 5, 9],\n",
       "       [7, 3, 9],\n",
       "       [3, 9, 7]])"
      ]
     },
     "execution_count": 25,
     "metadata": {},
     "output_type": "execute_result"
    }
   ],
   "source": [
    "x = random.choice([3,5,7,9],size=(3,3)) # creates a 3 x 3 array by choosing values randomly from given array\n",
    "x"
   ]
  },
  {
   "cell_type": "code",
   "execution_count": 26,
   "id": "fbceea33",
   "metadata": {},
   "outputs": [
    {
     "name": "stdout",
     "output_type": "stream",
     "text": [
      "[42 95 47 59 94]\n",
      "None\n"
     ]
    }
   ],
   "source": [
    "x = random.randint(100, size=(5))\n",
    "y = np.random.shuffle(x)\n",
    "print(x)\n",
    "print(y)"
   ]
  },
  {
   "cell_type": "code",
   "execution_count": 27,
   "id": "0c53bbaa",
   "metadata": {},
   "outputs": [
    {
     "name": "stdout",
     "output_type": "stream",
     "text": [
      "[919 804  37  73 114 700 633 176 885 946]\n",
      "131524.01\n",
      "362.6623912125436\n",
      "528.7\n"
     ]
    }
   ],
   "source": [
    "x = random.randint(1000,size=(10)) # 10 random values between 0 and 1000\n",
    "print(x) \n",
    "print(np.var(x)) # Variance\n",
    "print(np.std(x)) # Standard Deviation\n",
    "print(np.average(x)) # Average"
   ]
  },
  {
   "cell_type": "markdown",
   "id": "bed225c1",
   "metadata": {},
   "source": [
    "`np.random.randn()` returns a sample(or samples) from the \"Standard Normal\" Distribution.  \n",
    "If positive int_like arguments are provided, `randn` generates an array of shape (d0,d1,...,dn), filled with random floats sampled from a univariate \"normal\" (Gaussian) distribution of mean 0 and variance 1. A single float randomly sampled from the distribution is returned if no argument is provided."
   ]
  },
  {
   "cell_type": "code",
   "execution_count": 28,
   "id": "01b84b01",
   "metadata": {},
   "outputs": [
    {
     "data": {
      "text/plain": [
       "array([ 0.72307843, -0.59882514,  0.1692838 ,  0.60466727,  1.35625227,\n",
       "        0.52099528, -0.78809752,  0.54377725, -0.92040102, -0.63293669])"
      ]
     },
     "execution_count": 28,
     "metadata": {},
     "output_type": "execute_result"
    }
   ],
   "source": [
    "x = np.random.randn(10)\n",
    "x"
   ]
  },
  {
   "cell_type": "markdown",
   "id": "ba7e60da",
   "metadata": {},
   "source": [
    "Modify a sequence in-place by shuffling its contents.\n",
    "\n",
    "This function only shuffles the array along the first axis of a multi-dimensional array. The order of sub-arrays is changed but their contents remains the same."
   ]
  },
  {
   "cell_type": "code",
   "execution_count": 29,
   "id": "00fd454e",
   "metadata": {},
   "outputs": [
    {
     "data": {
      "text/plain": [
       "array([ 3, 10,  9,  5,  8,  1,  4,  2,  6,  7])"
      ]
     },
     "execution_count": 29,
     "metadata": {},
     "output_type": "execute_result"
    }
   ],
   "source": [
    "x = np.array([1,2,3,4,5,6,7,8,9,10])\n",
    "random.shuffle(x) \n",
    "x "
   ]
  },
  {
   "cell_type": "markdown",
   "id": "e4fc10b2",
   "metadata": {},
   "source": [
    "## Products"
   ]
  },
  {
   "cell_type": "code",
   "execution_count": 30,
   "id": "f5dda852",
   "metadata": {},
   "outputs": [
    {
     "name": "stdout",
     "output_type": "stream",
     "text": [
      "4\n",
      "(33+48j)\n"
     ]
    }
   ],
   "source": [
    "p1 = np.inner(2,2) # gives inner product\n",
    "\n",
    "v_a = 9 + 6j\n",
    "v_b = 5 + 2j\n",
    "p2 = np.inner(v_a,v_b) # inner product of 2 vectors\n",
    "print(p1) \n",
    "print(p2)"
   ]
  },
  {
   "cell_type": "code",
   "execution_count": 31,
   "id": "8a546042",
   "metadata": {},
   "outputs": [
    {
     "name": "stdout",
     "output_type": "stream",
     "text": [
      "[[ 70  14]\n",
      " [115  10]]\n"
     ]
    }
   ],
   "source": [
    "a1 = np.array([[2,6],[7,8]])\n",
    "a2 = np.array([[5,10],[-2,3]])\n",
    "p3 = np.inner(a1,a2)\n",
    "print(p3)"
   ]
  },
  {
   "cell_type": "code",
   "execution_count": 34,
   "id": "d750ee25",
   "metadata": {},
   "outputs": [
    {
     "data": {
      "text/plain": [
       "array([[ 10,  60],\n",
       "       [-14,  24]])"
      ]
     },
     "execution_count": 34,
     "metadata": {},
     "output_type": "execute_result"
    }
   ],
   "source": [
    "a1*a2"
   ]
  },
  {
   "cell_type": "code",
   "execution_count": 32,
   "id": "50b9c2af",
   "metadata": {},
   "outputs": [
    {
     "name": "stdout",
     "output_type": "stream",
     "text": [
      "[-10  37]\n"
     ]
    }
   ],
   "source": [
    "# Cross Product\n",
    "p4 = np.cross(a1,a2)\n",
    "print(p4)"
   ]
  },
  {
   "cell_type": "code",
   "execution_count": 33,
   "id": "a3a9df0e",
   "metadata": {},
   "outputs": [
    {
     "data": {
      "text/plain": [
       "array([[-2, 38],\n",
       "       [19, 94]])"
      ]
     },
     "execution_count": 33,
     "metadata": {},
     "output_type": "execute_result"
    }
   ],
   "source": [
    "# Dot Product\n",
    "p5 = np.dot(a1,a2)\n",
    "p5"
   ]
  },
  {
   "cell_type": "markdown",
   "id": "f8aa6051",
   "metadata": {},
   "source": [
    "If we just want the indices where a certain condition is satisfied, we can use `np.where( )`. This function is used to filter out data."
   ]
  },
  {
   "cell_type": "code",
   "execution_count": 34,
   "id": "55878080",
   "metadata": {},
   "outputs": [
    {
     "data": {
      "text/plain": [
       "array([0, 1, 2, 3, 4])"
      ]
     },
     "execution_count": 34,
     "metadata": {},
     "output_type": "execute_result"
    }
   ],
   "source": [
    "x = np.array([0,1,2,3,4,5,6,7,8,9])\n",
    "indices = np.where(x<5)\n",
    "x[indices]"
   ]
  },
  {
   "cell_type": "markdown",
   "id": "4d1899bd",
   "metadata": {},
   "source": [
    "**Functions like np.arange, np.linspace are very useful:**\n",
    "\n",
    "np.arange (read as 'a range') gives an array of numbers within a given range and stepsize\n",
    "\n",
    "np.linspace gives an array of linearly spaced numbers"
   ]
  },
  {
   "cell_type": "code",
   "execution_count": 35,
   "id": "a76381e2",
   "metadata": {},
   "outputs": [
    {
     "data": {
      "text/plain": [
       "array([0, 3, 6, 9])"
      ]
     },
     "execution_count": 35,
     "metadata": {},
     "output_type": "execute_result"
    }
   ],
   "source": [
    "np.arange(0,10,3) # syntax - (inclusive_start, exclusive_stop, stepsize)\n",
    "#This will give an array of values from 0 to 10 in steps of 3"
   ]
  },
  {
   "cell_type": "code",
   "execution_count": 36,
   "id": "918b8070",
   "metadata": {},
   "outputs": [
    {
     "data": {
      "text/plain": [
       "array([-3.14159265, -2.14159265, -1.14159265, -0.14159265,  0.85840735,\n",
       "        1.85840735,  2.85840735])"
      ]
     },
     "execution_count": 36,
     "metadata": {},
     "output_type": "execute_result"
    }
   ],
   "source": [
    "np.arange(-np.pi, np.pi, 1) "
   ]
  },
  {
   "cell_type": "code",
   "execution_count": 37,
   "id": "1e40fed2",
   "metadata": {},
   "outputs": [
    {
     "data": {
      "text/plain": [
       "array([-3.14159265, -2.0943951 , -1.04719755,  0.        ,  1.04719755,\n",
       "        2.0943951 ,  3.14159265])"
      ]
     },
     "execution_count": 37,
     "metadata": {},
     "output_type": "execute_result"
    }
   ],
   "source": [
    "np.linspace(-np.pi, np.pi, 7) # linearly spaced values - difference between 2 consecutive values not necessarily 1"
   ]
  },
  {
   "cell_type": "markdown",
   "id": "ed0316c8",
   "metadata": {},
   "source": [
    "**Notice** the difference between `np.arange()` function and `np.linspace()` function:\n",
    "\n",
    "`np.arange` function gives values which have same difference but doesn't include the last value, whereas `np.linspace` function first sets start and end value and divides the numbers linearly.\n",
    "\n",
    "This changes the output of both of these function significantly. \n",
    "\n",
    "In the syntax of `np.arange` function the **last value denotes the difference between each element**. But in `np.linspace` function the **last value denotes the number of elements desired in the given range**, the difference between each element is determined accoridingly by the system."
   ]
  },
  {
   "cell_type": "code",
   "execution_count": 38,
   "id": "25e9c893",
   "metadata": {},
   "outputs": [
    {
     "data": {
      "text/plain": [
       "array([0.        , 0.34906585, 0.6981317 , 1.04719755, 1.3962634 ,\n",
       "       1.74532925, 2.0943951 , 2.44346095, 2.7925268 , 3.14159265])"
      ]
     },
     "execution_count": 38,
     "metadata": {},
     "output_type": "execute_result"
    }
   ],
   "source": [
    "np.linspace(0,np.pi,10) #syntax - (inclusive_start, INCLUSIVE_stop, Number of elements)"
   ]
  },
  {
   "cell_type": "markdown",
   "id": "3a0e5415",
   "metadata": {},
   "source": [
    "## NumPy Logarithms\n",
    "NumPy has functions to perform log at base 2, e and 10\n",
    "- `log2()` - log to the base 2\n",
    "- `log10()` - log to the base 10\n",
    "- `log()` - natural log / base $\\mathcal{e}$"
   ]
  },
  {
   "cell_type": "code",
   "execution_count": 39,
   "id": "9113c4a0",
   "metadata": {},
   "outputs": [
    {
     "name": "stdout",
     "output_type": "stream",
     "text": [
      "[1 2 3 4 5 6 7 8 9]\n",
      "[0.         1.         1.5849625  2.         2.32192809 2.5849625\n",
      " 2.80735492 3.         3.169925  ]\n"
     ]
    }
   ],
   "source": [
    "#log to the base 2\n",
    "x = np.arange(1,10)\n",
    "print(x)\n",
    "print(np.log2(x))"
   ]
  },
  {
   "cell_type": "code",
   "execution_count": 40,
   "id": "2e99aa90",
   "metadata": {},
   "outputs": [
    {
     "name": "stdout",
     "output_type": "stream",
     "text": [
      "[0.         0.30103    0.47712125 0.60205999 0.69897    0.77815125\n",
      " 0.84509804 0.90308999 0.95424251]\n"
     ]
    }
   ],
   "source": [
    "# log to the base 10\n",
    "print(np.log10(x))"
   ]
  },
  {
   "cell_type": "code",
   "execution_count": 41,
   "id": "90381031",
   "metadata": {},
   "outputs": [
    {
     "name": "stdout",
     "output_type": "stream",
     "text": [
      "[0.         0.69314718 1.09861229 1.38629436 1.60943791 1.79175947\n",
      " 1.94591015 2.07944154 2.19722458]\n"
     ]
    }
   ],
   "source": [
    "# log to the base e or natural log (ln)\n",
    "print(np.log(x))"
   ]
  },
  {
   "cell_type": "markdown",
   "id": "cfc3e0d6",
   "metadata": {},
   "source": [
    "## NumPy LCM and GCD\n",
    "NumPy has the functions `np.lcm` and `np.gcd`. \n",
    "\n",
    "We can also use this functions to find lcm and gcd of each element in an array using the $reduce( )$ method"
   ]
  },
  {
   "cell_type": "code",
   "execution_count": 42,
   "id": "69ac339d",
   "metadata": {},
   "outputs": [
    {
     "data": {
      "text/plain": [
       "12"
      ]
     },
     "execution_count": 42,
     "metadata": {},
     "output_type": "execute_result"
    }
   ],
   "source": [
    "x = 4\n",
    "y = 12\n",
    "lcm = np.lcm(x,y)\n",
    "lcm"
   ]
  },
  {
   "cell_type": "code",
   "execution_count": 43,
   "id": "755580c0",
   "metadata": {},
   "outputs": [
    {
     "data": {
      "text/plain": [
       "4"
      ]
     },
     "execution_count": 43,
     "metadata": {},
     "output_type": "execute_result"
    }
   ],
   "source": [
    "gcd = np.gcd(x,y)\n",
    "gcd"
   ]
  },
  {
   "cell_type": "code",
   "execution_count": 44,
   "id": "ecd1d9d6",
   "metadata": {},
   "outputs": [
    {
     "data": {
      "text/plain": [
       "2520"
      ]
     },
     "execution_count": 44,
     "metadata": {},
     "output_type": "execute_result"
    }
   ],
   "source": [
    "x = np.arange(2,10)\n",
    "y = np.lcm.reduce(x) # use reduce() when the element is an array\n",
    "y"
   ]
  },
  {
   "cell_type": "code",
   "execution_count": 45,
   "id": "d457fd1e",
   "metadata": {},
   "outputs": [
    {
     "data": {
      "text/plain": [
       "2"
      ]
     },
     "execution_count": 45,
     "metadata": {},
     "output_type": "execute_result"
    }
   ],
   "source": [
    "x = np.array([4,44,40,20,22])\n",
    "np.gcd.reduce(x)"
   ]
  },
  {
   "cell_type": "code",
   "execution_count": 46,
   "id": "77a0e148",
   "metadata": {},
   "outputs": [
    {
     "name": "stdout",
     "output_type": "stream",
     "text": [
      "[81 33]\n",
      "3\n"
     ]
    }
   ],
   "source": [
    "x = np.random.randint(100,size=2)\n",
    "print(x)\n",
    "print(np.gcd.reduce(x))"
   ]
  },
  {
   "cell_type": "markdown",
   "id": "664b2b6a",
   "metadata": {},
   "source": [
    "## Convert Degrees into Radians and Radians to Degrees\n",
    "By default the values are in radians, but we can convert it into degrees and vice versa if required\n",
    "\n",
    "$$180^\\circ=\\pi\\;rad$$\n",
    "$$\\therefore 1\\;rad=\\Big(\\frac{180}{\\pi}\\Big)^\\circ$$"
   ]
  },
  {
   "cell_type": "code",
   "execution_count": 47,
   "id": "0b8cc9d5",
   "metadata": {},
   "outputs": [
    {
     "name": "stdout",
     "output_type": "stream",
     "text": [
      "[0.         0.52359878 0.78539816 1.04719755 1.57079633 3.14159265\n",
      " 4.71238898 6.28318531]\n"
     ]
    }
   ],
   "source": [
    "# Suppose we have array of values in degrees\n",
    "import numpy as np\n",
    "x = np.array([0,30,45,60,90,180,270,360])\n",
    "radian = np.deg2rad(x)\n",
    "print(radian)"
   ]
  },
  {
   "cell_type": "code",
   "execution_count": 48,
   "id": "75613375",
   "metadata": {},
   "outputs": [
    {
     "name": "stdout",
     "output_type": "stream",
     "text": [
      "[  0.  30.  45.  60.  90. 180. 270. 360.]\n"
     ]
    }
   ],
   "source": [
    "degree = np.rad2deg(radian)\n",
    "print(degree)"
   ]
  },
  {
   "cell_type": "code",
   "execution_count": 49,
   "id": "bce0b430",
   "metadata": {},
   "outputs": [
    {
     "name": "stdout",
     "output_type": "stream",
     "text": [
      "[ 90. 180. 240. 360.]\n"
     ]
    }
   ],
   "source": [
    "y = np.array([np.pi/2, np.pi, 4*np.pi/3, 2*np.pi])\n",
    "y_degree = np.rad2deg(y)\n",
    "print(y_degree)"
   ]
  },
  {
   "cell_type": "markdown",
   "id": "63e30940",
   "metadata": {},
   "source": [
    "NumPy also has the function to find angles i.e inverse trig values\n",
    "\n",
    "arcsin( ), arccos( ), arctan( )"
   ]
  },
  {
   "cell_type": "code",
   "execution_count": 50,
   "id": "f3507a14",
   "metadata": {},
   "outputs": [
    {
     "name": "stdout",
     "output_type": "stream",
     "text": [
      "0.9272952180016123\n",
      "53.13\n"
     ]
    }
   ],
   "source": [
    "x = np.arcsin(0.8)\n",
    "x_deg = np.rad2deg(x)\n",
    "print(x)\n",
    "print(round(x_deg,2)) # round(x_deg,2) rounds off the value of x_deg to 2 decimal places"
   ]
  },
  {
   "cell_type": "code",
   "execution_count": null,
   "id": "86778680",
   "metadata": {},
   "outputs": [],
   "source": []
  }
 ],
 "metadata": {
  "kernelspec": {
   "display_name": "Python 3 (ipykernel)",
   "language": "python",
   "name": "python3"
  },
  "language_info": {
   "codemirror_mode": {
    "name": "ipython",
    "version": 3
   },
   "file_extension": ".py",
   "mimetype": "text/x-python",
   "name": "python",
   "nbconvert_exporter": "python",
   "pygments_lexer": "ipython3",
   "version": "3.11.0"
  },
  "vscode": {
   "interpreter": {
    "hash": "f5a7444b33555a8894399122e34043b1ff94ad8e184864b9b967c92feb11494a"
   }
  }
 },
 "nbformat": 4,
 "nbformat_minor": 5
}
