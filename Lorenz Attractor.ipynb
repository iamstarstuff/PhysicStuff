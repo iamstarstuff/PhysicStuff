{
 "cells": [
  {
   "cell_type": "markdown",
   "id": "780a0ba4",
   "metadata": {},
   "source": [
    "# Lorenz Attractor \n",
    "Lorenz attractor in X-Y, X-Z and Y-Z plane."
   ]
  },
  {
   "cell_type": "code",
   "execution_count": null,
   "id": "bfc15209",
   "metadata": {
    "scrolled": true
   },
   "outputs": [],
   "source": [
    "import numpy as np\n",
    "import matplotlib.pyplot as plt\n",
    "\n",
    "\n",
    "x = -12\n",
    "y = -7\n",
    "z = 35\n",
    "\n",
    "xt = []\n",
    "yt = []\n",
    "zt = []\n",
    "dt = 0.001\n",
    "sigma = 10.0\n",
    "R = 28.0\n",
    "b = -8.0/3.0\n",
    "\n",
    "\n",
    "for t in np.arange(0,300,dt):\n",
    "    dxdt = sigma * (-x + y)\n",
    "    dydt = R*x - x*z - y\n",
    "    dzdt = b*z + x*y\n",
    "    x = x + dxdt*dt\n",
    "    y = y + dydt*dt\n",
    "    z = z + dzdt*dt\n",
    "    xt.append(x)\n",
    "    yt.append(y)\n",
    "    zt.append(z)\n",
    "\n",
    "plt.style.use('dark_background')    \n",
    "fig, ax = plt.subplots(1,3,figsize=(24,8),dpi=1000,constrained_layout=True)\n",
    "\n",
    "ax[0].plot(xt,yt,'g',lw=0.08)\n",
    "ax[1].plot(xt,zt,'g',lw=0.08)\n",
    "ax[2].plot(yt,zt,'g',lw=0.08)\n",
    "for i in range(3):\n",
    "    ax[i].set_xticks([])\n",
    "    ax[i].set_yticks([])\n",
    "#plt.savefig(\"Lorenz_subplot.png\")"
   ]
  },
  {
   "cell_type": "markdown",
   "id": "1ea71133",
   "metadata": {},
   "source": [
    "# Lorenz Attractor in 3D"
   ]
  },
  {
   "cell_type": "code",
   "execution_count": null,
   "id": "aa7c8199",
   "metadata": {},
   "outputs": [],
   "source": [
    "import numpy as np\n",
    "import matplotlib.pyplot as plt\n",
    "# %matplotlib  Use this to open plot using backend: Qt5Agg so that you can zoom and pan around\n",
    "# Use %matplotlib inline to see plot within Jupyter / Kernel.\n",
    "\n",
    "\n",
    "x = -12\n",
    "y = -7\n",
    "z = 35\n",
    "\n",
    "xt = []\n",
    "yt = []\n",
    "zt = []\n",
    "dt = 0.001\n",
    "sigma = 10.0\n",
    "R = 28.0\n",
    "b = -8.0/3.0\n",
    "\n",
    "\n",
    "for t in np.arange(0,300,dt):\n",
    "    dxdt = sigma * (-x + y)\n",
    "    dydt = R*x - x*z - y\n",
    "    dzdt = b*z + x*y\n",
    "    x = x + dxdt*dt\n",
    "    y = y + dydt*dt\n",
    "    z = z + dzdt*dt\n",
    "    xt.append(x)\n",
    "    yt.append(y)\n",
    "    zt.append(z)\n",
    "    \n",
    "plt.style.use('dark_background')    \n",
    "ax = plt.figure(figsize=(10,10),dpi=1000).add_subplot(projection='3d')  # 3d projection.\n",
    "ax.plot(xt, yt, zt,'g',lw=0.05)\n",
    "ax.grid(False)\n",
    "# Setting panes transparent to enhance plot\n",
    "ax.xaxis.set_pane_color((1.0, 1.0, 1.0, 0.0))\n",
    "ax.yaxis.set_pane_color((1.0, 1.0, 1.0, 0.0))\n",
    "ax.zaxis.set_pane_color((1.0, 1.0, 1.0, 0.0))\n",
    "ax.set_axis_off()"
   ]
  }
 ],
 "metadata": {
  "kernelspec": {
   "display_name": "Python 3",
   "language": "python",
   "name": "python3"
  },
  "language_info": {
   "codemirror_mode": {
    "name": "ipython",
    "version": 3
   },
   "file_extension": ".py",
   "mimetype": "text/x-python",
   "name": "python",
   "nbconvert_exporter": "python",
   "pygments_lexer": "ipython3",
   "version": "3.7.10"
  }
 },
 "nbformat": 4,
 "nbformat_minor": 5
}
