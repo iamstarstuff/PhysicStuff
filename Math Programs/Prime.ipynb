{
 "cells": [
  {
   "cell_type": "markdown",
   "source": [
    "# Prime"
   ],
   "metadata": {}
  },
  {
   "cell_type": "code",
   "execution_count": 1,
   "source": [
    "import numpy as np\r\n",
    "\r\n",
    "\r\n",
    "# Checking if the number is prime.\r\n",
    "\r\n",
    "def checkprime(n):\r\n",
    "    if n == 1:\r\n",
    "        print(\"1 is neither prime nor composite.\")\r\n",
    "    elif n == 2:\r\n",
    "        print(\"2 is a prime number.\")\r\n",
    "    elif n >= 3:\r\n",
    "        for i in range(2,n):\r\n",
    "            if (n%i)==0:\r\n",
    "                print(f\"{n} is not a prime number.\")\r\n",
    "                break\r\n",
    "        else:\r\n",
    "            print(f\"{n} is a prime number.\")\r\n",
    "    \r\n",
    "\r\n",
    "    \r\n",
    "# Finding out primes in a range and no. of primes.\r\n",
    "        \r\n",
    "def prime(l,u):\r\n",
    "    p = []\r\n",
    "    for i in range(l,u+1):\r\n",
    "        if i == 1:\r\n",
    "            continue\r\n",
    "        for j in range(2,i):\r\n",
    "            if (i%j)==0:\r\n",
    "                break\r\n",
    "        else:\r\n",
    "            p.append(i)\r\n",
    "    print(p)\r\n",
    "    print(f\"\\nThere are {len(p)} prime numbers between {l} and {u}.\")\r\n",
    "\r\n",
    "\r\n",
    "\r\n",
    "# nth prime number\r\n",
    "    \r\n",
    "def nth_prime(n):\r\n",
    "    p = [2]  # first prime number\r\n",
    "    num = 3  # start from 3\r\n",
    "    while len(p) <= n:  # to calculate primes upto required count\r\n",
    "        for i in p:\r\n",
    "            if num%i==0:\r\n",
    "                break\r\n",
    "        else:\r\n",
    "            p.append(num)\r\n",
    "        num+=2  # skip even numbers\r\n",
    "    print(f\"The {n}th prime number is {p[-2]}.\")  # as python as 0 indexing returning second last element. \r\n",
    "\r\n",
    "# nth_prime(10) will return 11th prime number if we return the last element because of 0 indexing.\r\n",
    "# counting starts from zero.\r\n",
    "        "
   ],
   "outputs": [],
   "metadata": {}
  },
  {
   "cell_type": "code",
   "execution_count": 2,
   "source": [
    "prime(1,150)"
   ],
   "outputs": [
    {
     "output_type": "stream",
     "name": "stdout",
     "text": [
      "[2, 3, 5, 7, 11, 13, 17, 19, 23, 29, 31, 37, 41, 43, 47, 53, 59, 61, 67, 71, 73, 79, 83, 89, 97, 101, 103, 107, 109, 113, 127, 131, 137, 139, 149]\n",
      "\n",
      "There are 35 prime numbers between 1 and 150.\n"
     ]
    }
   ],
   "metadata": {}
  },
  {
   "cell_type": "code",
   "execution_count": 3,
   "source": [
    "prime(596,1000)"
   ],
   "outputs": [
    {
     "output_type": "stream",
     "name": "stdout",
     "text": [
      "[599, 601, 607, 613, 617, 619, 631, 641, 643, 647, 653, 659, 661, 673, 677, 683, 691, 701, 709, 719, 727, 733, 739, 743, 751, 757, 761, 769, 773, 787, 797, 809, 811, 821, 823, 827, 829, 839, 853, 857, 859, 863, 877, 881, 883, 887, 907, 911, 919, 929, 937, 941, 947, 953, 967, 971, 977, 983, 991, 997]\n",
      "\n",
      "There are 60 prime numbers between 596 and 1000.\n"
     ]
    }
   ],
   "metadata": {
    "scrolled": true
   }
  },
  {
   "cell_type": "code",
   "execution_count": 4,
   "source": [
    "checkprime(1229)"
   ],
   "outputs": [
    {
     "output_type": "stream",
     "name": "stdout",
     "text": [
      "1229 is a prime number.\n"
     ]
    }
   ],
   "metadata": {}
  },
  {
   "cell_type": "code",
   "execution_count": 5,
   "source": [
    "checkprime(1)"
   ],
   "outputs": [
    {
     "output_type": "stream",
     "name": "stdout",
     "text": [
      "1 is neither prime nor composite.\n"
     ]
    }
   ],
   "metadata": {}
  },
  {
   "cell_type": "code",
   "execution_count": 6,
   "source": [
    "checkprime(2)"
   ],
   "outputs": [
    {
     "output_type": "stream",
     "name": "stdout",
     "text": [
      "2 is a prime number.\n"
     ]
    }
   ],
   "metadata": {}
  },
  {
   "cell_type": "code",
   "execution_count": 7,
   "source": [
    "checkprime(11)"
   ],
   "outputs": [
    {
     "output_type": "stream",
     "name": "stdout",
     "text": [
      "11 is a prime number.\n"
     ]
    }
   ],
   "metadata": {}
  },
  {
   "cell_type": "code",
   "execution_count": 8,
   "source": [
    "checkprime(997)"
   ],
   "outputs": [
    {
     "output_type": "stream",
     "name": "stdout",
     "text": [
      "997 is a prime number.\n"
     ]
    }
   ],
   "metadata": {}
  },
  {
   "cell_type": "code",
   "execution_count": 9,
   "source": [
    "checkprime(998)"
   ],
   "outputs": [
    {
     "output_type": "stream",
     "name": "stdout",
     "text": [
      "998 is not a prime number.\n"
     ]
    }
   ],
   "metadata": {
    "scrolled": true
   }
  },
  {
   "cell_type": "code",
   "execution_count": 10,
   "source": [
    "nth_prime(20)"
   ],
   "outputs": [
    {
     "output_type": "stream",
     "name": "stdout",
     "text": [
      "The 20th prime number is 71.\n"
     ]
    }
   ],
   "metadata": {}
  },
  {
   "cell_type": "code",
   "execution_count": 11,
   "source": [
    "nth_prime(1437)"
   ],
   "outputs": [
    {
     "output_type": "stream",
     "name": "stdout",
     "text": [
      "The 1437th prime number is 11981.\n"
     ]
    }
   ],
   "metadata": {}
  }
 ],
 "metadata": {
  "kernelspec": {
   "name": "python3",
   "display_name": "Python 3.9.6 64-bit (windows store)"
  },
  "language_info": {
   "name": "python",
   "version": "3.9.7",
   "mimetype": "text/x-python",
   "codemirror_mode": {
    "name": "ipython",
    "version": 3
   },
   "pygments_lexer": "ipython3",
   "nbconvert_exporter": "python",
   "file_extension": ".py"
  },
  "interpreter": {
   "hash": "f4da2e4dcbe768cc442fdfb9bae774ac8d17948510ac396126f8d91378e96f5b"
  }
 },
 "nbformat": 4,
 "nbformat_minor": 5
}