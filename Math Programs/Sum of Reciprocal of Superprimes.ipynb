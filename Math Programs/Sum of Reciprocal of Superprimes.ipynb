{
 "cells": [
  {
   "cell_type": "markdown",
   "metadata": {},
   "source": [
    "# Sum of recriprocals of primeth prime / superprimes\n",
    "By reading about [superprimes](http://oeis.org/A006450) a bit [I came to know that the series converges](https://math.stackexchange.com/q/1150859), so I thought to modify my existing superprimes code to find the sum of reciprocals and see what the convergence value is.  \n",
    "\n",
    "Above $10^6$ the code takes very long to work but by checking the sum by increasing the number of superprimes it's noticeable that it converges to around 1. **Interesting!**   \n",
    "\n",
    "In the above linked stackexchange question one of the answer says that the sum upto $10^{11}$ primes is 1.0005."
   ]
  },
  {
   "cell_type": "code",
   "execution_count": 8,
   "metadata": {},
   "outputs": [],
   "source": [
    "def prime(l,u):\n",
    "    p = []\n",
    "    for i in range(l,u+1):\n",
    "        if i==1:\n",
    "            continue\n",
    "        for j in range(2,i):\n",
    "            if (i%j)==0:\n",
    "                break\n",
    "        else:\n",
    "            p.append(i)\n",
    "    return p\n",
    "\n",
    "def superprime(n):\n",
    "    p = [2]\n",
    "    sp = []\n",
    "    num = 3\n",
    "    while len(p) <= n-1:\n",
    "        for i in p:\n",
    "            if num%i==0:\n",
    "                break\n",
    "        else:\n",
    "            p.append(num)\n",
    "        num+=2\n",
    "    primeindex = prime(1,n)\n",
    "    for i in primeindex:\n",
    "        sp.append(p[i-1])\n",
    "    return sp\n",
    "\n",
    "# Sum of Reciprocals of Prime indexed Primes \n",
    "# Or in other words Sum of Reciprocals of Superprimes\n",
    "\n",
    "def srpp(n):\n",
    "    sp = superprime(n)\n",
    "    spi = 0\n",
    "    for i in range(len(sp)):\n",
    "        spi += 1/sp[i]\n",
    "    #print(sp)\n",
    "    #print(spi)\n",
    "    return spi"
   ]
  },
  {
   "cell_type": "code",
   "execution_count": 9,
   "metadata": {},
   "outputs": [
    {
     "name": "stdout",
     "output_type": "stream",
     "text": [
      "CPU times: user 522 µs, sys: 16 µs, total: 538 µs\n",
      "Wall time: 545 µs\n"
     ]
    },
    {
     "data": {
      "text/plain": [
       "0.851435910520348"
      ]
     },
     "execution_count": 9,
     "metadata": {},
     "output_type": "execute_result"
    }
   ],
   "source": [
    "%%time\n",
    "srpp(100)"
   ]
  },
  {
   "cell_type": "code",
   "execution_count": 10,
   "metadata": {},
   "outputs": [
    {
     "name": "stdout",
     "output_type": "stream",
     "text": [
      "CPU times: user 49.4 ms, sys: 3.27 ms, total: 52.7 ms\n",
      "Wall time: 51.4 ms\n"
     ]
    },
    {
     "data": {
      "text/plain": [
       "0.9127254428617586"
      ]
     },
     "execution_count": 10,
     "metadata": {},
     "output_type": "execute_result"
    }
   ],
   "source": [
    "%%time\n",
    "srpp(1000)"
   ]
  },
  {
   "cell_type": "code",
   "execution_count": 11,
   "metadata": {},
   "outputs": [
    {
     "name": "stdout",
     "output_type": "stream",
     "text": [
      "CPU times: user 4.28 s, sys: 39.8 ms, total: 4.32 s\n",
      "Wall time: 4.41 s\n"
     ]
    },
    {
     "data": {
      "text/plain": [
       "0.9441083019028"
      ]
     },
     "execution_count": 11,
     "metadata": {},
     "output_type": "execute_result"
    }
   ],
   "source": [
    "%%time\n",
    "srpp(10000)"
   ]
  },
  {
   "cell_type": "code",
   "execution_count": 12,
   "metadata": {},
   "outputs": [
    {
     "name": "stdout",
     "output_type": "stream",
     "text": [
      "CPU times: user 6min 54s, sys: 935 ms, total: 6min 55s\n",
      "Wall time: 33min 39s\n"
     ]
    },
    {
     "data": {
      "text/plain": [
       "0.9631818389040514"
      ]
     },
     "execution_count": 12,
     "metadata": {},
     "output_type": "execute_result"
    }
   ],
   "source": [
    "%%time\n",
    "srpp(100000)"
   ]
  }
 ],
 "metadata": {
  "kernelspec": {
   "display_name": "Python 3.10.4 ('codeastro')",
   "language": "python",
   "name": "python3"
  },
  "language_info": {
   "codemirror_mode": {
    "name": "ipython",
    "version": 3
   },
   "file_extension": ".py",
   "mimetype": "text/x-python",
   "name": "python",
   "nbconvert_exporter": "python",
   "pygments_lexer": "ipython3",
   "version": "3.10.4"
  },
  "orig_nbformat": 4,
  "vscode": {
   "interpreter": {
    "hash": "7515a693c01f52b638d4b3064b0c43038e4c3279d18f32370a431825169c7029"
   }
  }
 },
 "nbformat": 4,
 "nbformat_minor": 2
}
