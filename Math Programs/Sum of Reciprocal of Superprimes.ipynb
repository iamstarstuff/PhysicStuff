{
 "metadata": {
  "language_info": {
   "codemirror_mode": {
    "name": "ipython",
    "version": 3
   },
   "file_extension": ".py",
   "mimetype": "text/x-python",
   "name": "python",
   "nbconvert_exporter": "python",
   "pygments_lexer": "ipython3",
   "version": "3.9.5"
  },
  "orig_nbformat": 4,
  "kernelspec": {
   "name": "python3",
   "display_name": "Python 3.9.5 64-bit"
  },
  "interpreter": {
   "hash": "7812ea015bdcee6f23a998adcdd2ef97c151c0c241b7b7070987d9313e41299d"
  }
 },
 "nbformat": 4,
 "nbformat_minor": 2,
 "cells": [
  {
   "source": [
    "# Sum of recriprocals of primeth prime / superprimes\n",
    "By reading about [superprimes](http://oeis.org/A006450) a bit [I came to know that the series converges](https://math.stackexchange.com/q/1150859), so I thought to modify my existing superprimes code to find the sum of reciprocals and see what the convergence value is.  \n",
    "\n",
    "Above $10^6$ the code takes very long to work but by checking the sum by increasing the number of superprimes it's noticeable that it converges to around 1. **Interesting!**   \n",
    "\n",
    "In the above linked stackexchange question one of the answer says that the sum upto $10^{11}$ primes is 1.0005."
   ],
   "cell_type": "markdown",
   "metadata": {}
  },
  {
   "cell_type": "code",
   "execution_count": 1,
   "metadata": {},
   "outputs": [],
   "source": [
    "def prime(l,u):\n",
    "    p = []\n",
    "    for i in range(l,u+1):\n",
    "        if i==1:\n",
    "            continue\n",
    "        for j in range(2,i):\n",
    "            if (i%j)==0:\n",
    "                break\n",
    "        else:\n",
    "            p.append(i)\n",
    "    return p\n",
    "\n",
    "def superprime(n):\n",
    "    p = [2]\n",
    "    sp = []\n",
    "    num = 3\n",
    "    while len(p) <= n-1:\n",
    "        for i in p:\n",
    "            if num%i==0:\n",
    "                break\n",
    "        else:\n",
    "            p.append(num)\n",
    "        num+=2\n",
    "    primeindex = prime(1,n)\n",
    "    for i in primeindex:\n",
    "        sp.append(p[i-1])\n",
    "    return sp\n",
    "\n",
    "# Sum of Reciprocals of Prime indexed Primes \n",
    "# Or in other words Sum of Reciprocals of Superprimes\n",
    "\n",
    "def srpp(n):\n",
    "    sp = superprime(n)\n",
    "    spi = []\n",
    "    for i in range(len(sp)):\n",
    "        spi.append(sp[i]**-1)\n",
    "    #print(sp)\n",
    "    #print(spi)\n",
    "    print(sum(spi))"
   ]
  },
  {
   "cell_type": "code",
   "execution_count": 2,
   "metadata": {},
   "outputs": [
    {
     "output_type": "stream",
     "name": "stdout",
     "text": [
      "0.851435910520348\n"
     ]
    }
   ],
   "source": [
    "srpp(100)"
   ]
  },
  {
   "cell_type": "code",
   "execution_count": 3,
   "metadata": {},
   "outputs": [
    {
     "output_type": "stream",
     "name": "stdout",
     "text": [
      "0.9127254428617586\n"
     ]
    }
   ],
   "source": [
    "srpp(1000)"
   ]
  },
  {
   "cell_type": "code",
   "execution_count": 4,
   "metadata": {},
   "outputs": [
    {
     "output_type": "stream",
     "name": "stdout",
     "text": [
      "0.9441083019028\n"
     ]
    }
   ],
   "source": [
    "srpp(10000)"
   ]
  },
  {
   "cell_type": "code",
   "execution_count": 5,
   "metadata": {},
   "outputs": [
    {
     "output_type": "stream",
     "name": "stdout",
     "text": [
      "0.9631818389040514\n"
     ]
    }
   ],
   "source": [
    "srpp(100000)"
   ]
  }
 ]
}