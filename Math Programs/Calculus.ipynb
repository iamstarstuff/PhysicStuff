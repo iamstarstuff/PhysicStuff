{
 "cells": [
  {
   "cell_type": "markdown",
   "id": "91d6114f",
   "metadata": {},
   "source": [
    "### Problem \n",
    "\n",
    "The sine series expansion is given as:  \n",
    "$$\\sin(x)=x-\\dfrac{x^3}{3!}+\\dfrac{x^5}{5!}-\\dfrac{x^7}{7!}+\\dfrac{x^9}{9!}-\\;.\\;.\\;.$$  \n",
    "You get closer and closer to actual value as you compute more and more terms.  \n",
    "- Write a function `factorial(n)` to quickly get factorials. \n",
    "- Using the factorial function, write a function `sin(x,n)` which takes 2 arguments $x$ in degrees and $n$ the number of terms to compute and return approximate value of sine. `This is to demonstrate using function inside another function`\n",
    "- Further print the output of your function for $n$ in range 1 to 10. Notice how correct value is approached.\n"
   ]
  },
  {
   "cell_type": "code",
   "execution_count": 3,
   "id": "f4be8561",
   "metadata": {},
   "outputs": [],
   "source": [
    "import numpy as np"
   ]
  },
  {
   "cell_type": "code",
   "execution_count": 1,
   "id": "09ca9733",
   "metadata": {},
   "outputs": [],
   "source": [
    "def factorial(n):\n",
    "    f = 1\n",
    "    for i in range(1,n+1):\n",
    "        f = f*i\n",
    "    return f"
   ]
  },
  {
   "cell_type": "code",
   "execution_count": 2,
   "id": "428f3eac",
   "metadata": {},
   "outputs": [],
   "source": [
    "def sin(x,n):\n",
    "    result = 0\n",
    "    for i in range(n):\n",
    "        sign = (-1)**i\n",
    "        result += ((np.deg2rad(x)**(2*i+1))/factorial(2*i+1))*sign\n",
    "    return result"
   ]
  },
  {
   "cell_type": "code",
   "execution_count": 5,
   "id": "a8dfd81e",
   "metadata": {},
   "outputs": [
    {
     "data": {
      "text/plain": [
       "0.7071067811865475"
      ]
     },
     "execution_count": 5,
     "metadata": {},
     "output_type": "execute_result"
    }
   ],
   "source": [
    "sin(45,10)"
   ]
  },
  {
   "cell_type": "markdown",
   "id": "f6e1242c",
   "metadata": {},
   "source": [
    "# Numerical Differentiation\n",
    "<br >\n",
    "\n",
    "In numerical analysis, [finite differences](https://en.wikipedia.org/wiki/Finite_difference#Forward,_backward,_and_central_differences) are widely used for approximating derivatives, and the term \"finite difference\" is often used as an abbreviation of \"finite difference approximation of derivatives\".  \n",
    "\n",
    "The derivative of function $f(x)$ at $x=a$ is,  \n",
    "<br >\n",
    "<br >\n",
    " \n",
    "\n",
    "$$f'(a) = \\lim\\limits_{h \\to 0}\\dfrac{f(a+h)-f(a)}{h}$$  \n",
    "\n",
    "<br >\n",
    "<br >\n",
    "\n",
    "---\n",
    "<br >\n",
    "\n",
    "There are [3 main difference](https://en.wikipedia.org/wiki/Finite_difference#:~:text=Three%20basic%20types%20are%20commonly%20considered%3A%20forward%2C%20backward%2C%20and%20central%20finite%20differences.) formulas for numerical approximation: \n",
    "- Forward difference\n",
    "- Backward difference\n",
    "- Central difference  \n",
    "\n",
    "<br >\n",
    "We'll use the forward difference and you can try the other ones by yourself\n",
    "\n"
   ]
  },
  {
   "cell_type": "code",
   "execution_count": 12,
   "id": "aaa1f1c2",
   "metadata": {},
   "outputs": [],
   "source": [
    "import numpy as np\n",
    "import matplotlib.pyplot as plt"
   ]
  },
  {
   "cell_type": "code",
   "execution_count": 64,
   "id": "f4fa2528",
   "metadata": {},
   "outputs": [],
   "source": [
    "def derivative(f,a,h):\n",
    "    return (f(a+h)-f(a))/h"
   ]
  },
  {
   "cell_type": "code",
   "execution_count": 65,
   "id": "bf3e8e58",
   "metadata": {},
   "outputs": [
    {
     "data": {
      "text/plain": [
       "1.000050001667141"
      ]
     },
     "execution_count": 65,
     "metadata": {},
     "output_type": "execute_result"
    }
   ],
   "source": [
    "# Testing function on e^x\n",
    "derivative(np.exp,0,0.0001)"
   ]
  },
  {
   "cell_type": "code",
   "execution_count": 66,
   "id": "58326d10",
   "metadata": {},
   "outputs": [
    {
     "data": {
      "text/plain": [
       "-0.049958347219742905"
      ]
     },
     "execution_count": 66,
     "metadata": {},
     "output_type": "execute_result"
    }
   ],
   "source": [
    "derivative(np.cos,0,0.1)"
   ]
  },
  {
   "cell_type": "code",
   "execution_count": 67,
   "id": "1029a748",
   "metadata": {},
   "outputs": [
    {
     "data": {
      "text/plain": [
       "0.4987541511038973"
      ]
     },
     "execution_count": 67,
     "metadata": {},
     "output_type": "execute_result"
    }
   ],
   "source": [
    "derivative(np.log,2,0.01)"
   ]
  },
  {
   "cell_type": "code",
   "execution_count": 71,
   "id": "ecd798ba",
   "metadata": {},
   "outputs": [
    {
     "data": {
      "text/plain": [
       "-1.0385994145123423"
      ]
     },
     "execution_count": 71,
     "metadata": {},
     "output_type": "execute_result"
    }
   ],
   "source": [
    "derivative(lambda x: ((4*x**2 + 2*x + 1)/(x + 2*np.exp(x)))**x,3,0.0001)"
   ]
  },
  {
   "cell_type": "markdown",
   "id": "5f60986f",
   "metadata": {},
   "source": [
    "# Numerical Integration\n",
    "\n",
    "## Trapezoidal Rule\n",
    "\n",
    "It is defined as,  \n",
    "\n",
    "$$\\int_{a}^{b}f(x)\\,dx\\,\\approx \\sum_{k=1}^{N}\\dfrac{f(x_{k-1})+f(x_k)}{2}\\Delta x_k$$\n",
    "\n",
    "When the partition has a regular spacing, as is often the case, that is, when all the $\\Delta x_k$ have the same value $\\Delta x$, the formula can be simplified for calculation efficiency by factoring $\\Delta x$ out:  \n",
    "\n",
    "$$\\int_{a}^{b}f(x)\\,dx\\,\\approx \\dfrac{\\Delta x}{2}(f(x_0)+2f(x_1)+2f(x_2)+2f(x_3)+\\dots+2f(x_{N-1})+f(x_N))$$"
   ]
  },
  {
   "cell_type": "code",
   "execution_count": 3,
   "id": "d9b051b1",
   "metadata": {},
   "outputs": [],
   "source": [
    "import numpy as np"
   ]
  },
  {
   "cell_type": "code",
   "execution_count": 43,
   "id": "a7463b21",
   "metadata": {},
   "outputs": [],
   "source": [
    "def trapezoid(f,a,b,N):\n",
    "    x = np.linspace(a,b,N+1)\n",
    "    y = f(x)\n",
    "    dx = (b-a)/N\n",
    "    index = [0,-1]\n",
    "    z = np.delete(y,index)\n",
    "    r = (dx/2)*(y[0]+2*np.sum(z)+y[-1])\n",
    "    return r"
   ]
  },
  {
   "cell_type": "code",
   "execution_count": 44,
   "id": "7e64668f",
   "metadata": {},
   "outputs": [
    {
     "data": {
      "text/plain": [
       "0.9999997943832332"
      ]
     },
     "execution_count": 44,
     "metadata": {},
     "output_type": "execute_result"
    }
   ],
   "source": [
    "trapezoid(np.sin,0,np.pi/2,1000)"
   ]
  },
  {
   "cell_type": "code",
   "execution_count": 55,
   "id": "ab9a1ec9",
   "metadata": {},
   "outputs": [
    {
     "data": {
      "text/plain": [
       "113.09721578750094"
      ]
     },
     "execution_count": 55,
     "metadata": {},
     "output_type": "execute_result"
    }
   ],
   "source": [
    "trapezoid(lambda x : 2*(6**2-x**2)**0.5,-6,6,10000)"
   ]
  },
  {
   "cell_type": "code",
   "execution_count": 56,
   "id": "08b46fb9",
   "metadata": {},
   "outputs": [
    {
     "data": {
      "text/plain": [
       "113.09733552923255"
      ]
     },
     "execution_count": 56,
     "metadata": {},
     "output_type": "execute_result"
    }
   ],
   "source": [
    "np.pi*6**2"
   ]
  },
  {
   "cell_type": "code",
   "execution_count": 63,
   "id": "5de223c5",
   "metadata": {},
   "outputs": [
    {
     "data": {
      "text/plain": [
       "0.9595722966106585"
      ]
     },
     "execution_count": 63,
     "metadata": {},
     "output_type": "execute_result"
    }
   ],
   "source": [
    "def func(x):\n",
    "    return x*np.exp(-x)\n",
    "trapezoid(func,0,5,10000)"
   ]
  },
  {
   "cell_type": "markdown",
   "id": "4010f2db",
   "metadata": {},
   "source": [
    "## Simpson's Rule\n",
    "  \n",
    "$$\\int_{a}^{b}f(x)dx\\approx\\dfrac{h}{3}\\Bigg(f_0+f_n+\\Big(4\\times\\sum_{i=1,3,5...}^{n-1}f_i\\Big)+\\Big(2\\times\\sum_{i=2,4,6...}^{n-2}f_i\\Big)\\Bigg)$$  \n",
    "where, $n$ is the number of intervals you're dividing  \n",
    "$h=\\dfrac{b-a}{n}$ is the width of your interval."
   ]
  },
  {
   "cell_type": "code",
   "execution_count": 17,
   "id": "9babaff9",
   "metadata": {},
   "outputs": [],
   "source": [
    "def simpson(f,a,b,n):\n",
    "    h = (b-a)/n\n",
    "    x = []\n",
    "    yx = []\n",
    "    i = 0\n",
    "    while i<=n:\n",
    "        x.append(a+i*h)\n",
    "        yx.append(f(x[i]))\n",
    "        i+=1\n",
    "    \n",
    "    I = 0\n",
    "    j = 0\n",
    "    while j<=n:\n",
    "        if j == 0 or j == n:\n",
    "            I += yx[j]\n",
    "        elif j%2 != 0:\n",
    "            I += 4*yx[j]\n",
    "        else:\n",
    "            I += 2*yx[j]\n",
    "        j += 1\n",
    "    I = (h/3)*I\n",
    "    #print(yx)\n",
    "    return I"
   ]
  },
  {
   "cell_type": "code",
   "execution_count": 5,
   "id": "2ed9af78",
   "metadata": {},
   "outputs": [
    {
     "data": {
      "text/plain": [
       "0.9994989372315642"
      ]
     },
     "execution_count": 5,
     "metadata": {},
     "output_type": "execute_result"
    }
   ],
   "source": [
    "simpson(lambda x:x*np.exp(-x),0,10,100)"
   ]
  },
  {
   "cell_type": "code",
   "execution_count": 12,
   "id": "28b12abd",
   "metadata": {},
   "outputs": [
    {
     "data": {
      "text/plain": [
       "119.99999999999935"
      ]
     },
     "execution_count": 12,
     "metadata": {},
     "output_type": "execute_result"
    }
   ],
   "source": [
    "simpson(lambda x:x**5*np.exp(-x),0,100,10000)"
   ]
  },
  {
   "cell_type": "markdown",
   "id": "8b64c928",
   "metadata": {},
   "source": [
    "# Gamma Function\n",
    "\n",
    "The gamma function is defined for all complex numbers except the non-positive integers. For any positive integer $n$,\n",
    "$$\\Gamma(n)=(n-1)!$$  \n",
    "Derived by Daniel Bernoulli, for complex numbers with **`positive real part`**, the gamma function is defined via a convergent improper integral:\n",
    "$$\\Gamma(n) = \\int\\limits_{0}^{\\infty}x^{n-1}e^{-x}dx,\\;\\;\\;\\;\\;\\;\\;\\;\\;\\;\\;\\;\\;\\mathcal{R}(n)>0$$\n",
    "Some forms to remember are:    \n",
    "<br >\n",
    "$\\Gamma(1)=1$  \n",
    "<br >\n",
    "$\\Gamma(n+1)=n\\cdot\\Gamma(n)=n!$  \n",
    "<br >\n",
    " \n",
    "## Simpson's Rule\n",
    "\n",
    "\n",
    "$$\\int_{a}^{b}f(x)dx\\approx\\dfrac{h}{3}\\Bigg(f_0+\\Big(4\\times\\sum_{i=1,3,5...}^{n-1}f_i\\Big)+\\Big(2\\times\\sum_{i=2,4,6...}^{n-2}f_i\\Big)+f_n\\Bigg)$$  \n",
    "where, $n$ is the number of intervals you're dividing your function into   \n",
    "$h=\\dfrac{b-a}{n}$ is the width of your interval.\n",
    "\n",
    "---\n",
    "\n",
    "### Problem \n",
    "\n",
    "- Write a function named `simpson(f,a,b,n)` where `f` is the function (integrand) `a` and `b` are lower and upper limits respectively and `n` is the number of intervals.  \n",
    "    Define the integrand as a separate function and use it in simpson function **`or`** write a lambda function as the argument in simpson function.  \n",
    "    \n",
    "\n",
    "- **`Calculate`**\n",
    "    - Value of factorial of a fraction $\\left(\\frac{1}{3}\\right)!$\n",
    "    - Value of $\\left(2\\cdot\\Gamma\\left(\\frac{3}{2}\\right)\\right)^2$\n",
    "<br >\n",
    "\n",
    "`**Note**` : Take upper limit 100 or 1000 instead of $\\infty$ while calculating gamma function."
   ]
  },
  {
   "cell_type": "code",
   "execution_count": 1,
   "id": "2ea23837",
   "metadata": {},
   "outputs": [],
   "source": [
    "import numpy as np\n",
    "\n",
    "def simpson(f,a,b,n):\n",
    "    h = (b-a)/n\n",
    "    x = []\n",
    "    yx = []\n",
    "    i = 0\n",
    "    while i<=n:\n",
    "        x.append(a+i*h)\n",
    "        yx.append(f(x[i]))\n",
    "        i+=1\n",
    "    \n",
    "    I = 0\n",
    "    j = 0\n",
    "    while j<=n:\n",
    "        if j == 0 or j == n:\n",
    "            I += yx[j]\n",
    "        elif j%2 != 0:\n",
    "            I += 4*yx[j]\n",
    "        else:\n",
    "            I += 2*yx[j]\n",
    "        j += 1\n",
    "    I = (h/3)*I\n",
    "    #print(yx)\n",
    "    return I\n",
    "\n",
    "def gamma(z):\n",
    "    return simpson(lambda x : x**(z-1)*np.exp(-x),0,1000,100000)"
   ]
  },
  {
   "cell_type": "code",
   "execution_count": 3,
   "id": "a1dc45a4",
   "metadata": {},
   "outputs": [
    {
     "data": {
      "text/plain": [
       "0.8926844042039226"
      ]
     },
     "execution_count": 3,
     "metadata": {},
     "output_type": "execute_result"
    }
   ],
   "source": [
    "# (1/3)! \n",
    "gamma(4/3)"
   ]
  },
  {
   "cell_type": "markdown",
   "id": "5f5e445e",
   "metadata": {},
   "source": [
    "$\\Gamma\\left(\\frac{3}{2}\\right)=\\frac{1}{2}\\sqrt{\\pi}$  \n",
    "$\\therefore\\pi=\\left(2\\cdot\\Gamma\\left(\\frac{3}{2}\\right)\\right)^2$"
   ]
  },
  {
   "cell_type": "code",
   "execution_count": 4,
   "id": "dc89afc2",
   "metadata": {},
   "outputs": [
    {
     "data": {
      "text/plain": [
       "3.14101609084524"
      ]
     },
     "execution_count": 4,
     "metadata": {},
     "output_type": "execute_result"
    }
   ],
   "source": [
    "(2*gamma(3/2))**2"
   ]
  },
  {
   "cell_type": "markdown",
   "id": "f6f4cfd8",
   "metadata": {},
   "source": [
    "# Reimann Zeta\n",
    "\n",
    "The [Riemann zeta](https://en.wikipedia.org/wiki/Riemann_zeta_function) function has applications in physics, probability theory and applied statistics.  \n",
    "\n",
    "- $\\zeta\\left(\\frac{3}{2}\\right)$ is employed in calculating the [critical temperature for a Bose-Einstein condensate](https://en.wikipedia.org/wiki/Bose%E2%80%93Einstein_condensate#Critical_temperature) in a box with periodic boundary conditions, and for spin wave physics in magnetic systems.  \n",
    "\n",
    "\n",
    "- $\\zeta(4)$ appears when integrating Planck's Law to derive the [Stefan-Boltzmann Law](https://en.wikipedia.org/wiki/Stefan%E2%80%93Boltzmann_law#:~:text=The%20value%20of%20the%20integral,for%20a%20perfect%20blackbody%20surface%3A) in physics.\n",
    "\n",
    "The function can be writte as converging summation or integral:  \n",
    "$$\\zeta(s) = \\sum\\limits_{n=1}^{\\infty}\\dfrac{1}{n^s}=\\dfrac{1}{\\Gamma(s)}\\int\\limits_{0}^{\\infty}\\dfrac{x^{s-1}}{e^x-1}dx$$  \n",
    "where  \n",
    "$$\\Gamma(s)=\\int\\limits_{0}^{\\infty}x^{s-1}e^{-x}dx$$  \n",
    "\n",
    "---\n",
    "\n",
    "### Problem \n",
    "\n",
    "Write a function named `reimannzeta(s)`, use the simpson function and gamma functions written in the previous problem to calculate the zeta function. **Note** While writing the simpson function inside zeta function put lower limit as 0.0001, as putting 0 will give `ZeroDivisionError`. And put the upper limit 100 or 1000 like you did for gamma function.  \n",
    "\n",
    "Find out the values for \n",
    "- $\\zeta(3/2)$   \n",
    "<br >  \n",
    "\n",
    "- $\\zeta(2)$  \n",
    "<br >  \n",
    "\n",
    "- $\\zeta(3)$  \n",
    "<br >  \n",
    "\n",
    "- $\\zeta(4)$"
   ]
  },
  {
   "cell_type": "code",
   "execution_count": 5,
   "id": "4f6bac11",
   "metadata": {},
   "outputs": [],
   "source": [
    "def riemannzeta(s):\n",
    "    return (1/gamma(s))*simpson(lambda x: x**(s-1)/(np.exp(x)-1),0.000062,100,100000)\n",
    "\n",
    "# Lower value was choosen after trial and error to get as accurate result as possible"
   ]
  },
  {
   "cell_type": "code",
   "execution_count": 6,
   "id": "1e919d45",
   "metadata": {},
   "outputs": [
    {
     "data": {
      "text/plain": [
       "2.612377957384106"
      ]
     },
     "execution_count": 6,
     "metadata": {},
     "output_type": "execute_result"
    }
   ],
   "source": [
    "riemannzeta(3/2)"
   ]
  },
  {
   "cell_type": "code",
   "execution_count": 7,
   "id": "c0256af1",
   "metadata": {},
   "outputs": [
    {
     "data": {
      "text/plain": [
       "1.6448720680832587"
      ]
     },
     "execution_count": 7,
     "metadata": {},
     "output_type": "execute_result"
    }
   ],
   "source": [
    "riemannzeta(2)"
   ]
  },
  {
   "cell_type": "code",
   "execution_count": 8,
   "id": "64596083",
   "metadata": {},
   "outputs": [
    {
     "data": {
      "text/plain": [
       "1.202056901998226"
      ]
     },
     "execution_count": 8,
     "metadata": {},
     "output_type": "execute_result"
    }
   ],
   "source": [
    "riemannzeta(3)"
   ]
  },
  {
   "cell_type": "code",
   "execution_count": 9,
   "id": "b6a03dcc",
   "metadata": {},
   "outputs": [
    {
     "data": {
      "text/plain": [
       "1.0823232337711812"
      ]
     },
     "execution_count": 9,
     "metadata": {},
     "output_type": "execute_result"
    }
   ],
   "source": [
    "riemannzeta(4)"
   ]
  },
  {
   "cell_type": "markdown",
   "id": "80ac04f7",
   "metadata": {},
   "source": [
    "# Error Function  \n",
    "\n",
    "In mathematics, the [error function](https://en.wikipedia.org/wiki/Error_function) also called as Gauss error function is denoted by **`erf`**.  \n",
    "In statistics, for non-negative values of $x$, the error function has the following interpretation: for a random variable $Y$ that is normally distributed with mean 0 and standard deviation $\\frac{1}{\\sqrt{2}}$, **erf x** is the probability that $Y$ falls in range $[-x,x]$.   \n",
    "The function is defined as:  \n",
    "$$\\text{erf}\\,z=\\dfrac{2}{\\sqrt{\\pi}}\\int\\limits_{0}^{z}e^{-x^2}dx$$\n",
    "The complementary error function is denoted by **erfc**.  \n",
    "<br >\n",
    "\n",
    "$$\\text{erfc}\\,x = 1 - \\text{erf}\\,x$$  \n",
    "<br >\n",
    "\n",
    "This is useful in determining the bit error rate of digital communication system. The [bit error rate (BER)](https://en.wikipedia.org/wiki/Bit_error_rate) is the number of bit error per unit time.  \n",
    "\n",
    "---\n",
    "\n",
    "### Problem \n",
    "\n",
    "Write a function named `erf(z)`, using the simpson function from above problem, calcute erf for different values of your choice. [Verify your results by referring to this table](https://en.wikipedia.org/wiki/Error_function#Table_of_values)\n",
    "<br >\n",
    "\n",
    "Your output should look something like this:  "
   ]
  },
  {
   "cell_type": "code",
   "execution_count": 10,
   "id": "ae95e324",
   "metadata": {},
   "outputs": [],
   "source": [
    "def erf(z):\n",
    "    return (2/np.sqrt(np.pi))*simpson(lambda x : np.exp(-(x**2)),0,z,10000)"
   ]
  },
  {
   "cell_type": "code",
   "execution_count": 11,
   "id": "fe5fa63c",
   "metadata": {},
   "outputs": [
    {
     "data": {
      "text/plain": [
       "0.2227025892104785"
      ]
     },
     "execution_count": 11,
     "metadata": {},
     "output_type": "execute_result"
    }
   ],
   "source": [
    "erf(0.2)"
   ]
  },
  {
   "cell_type": "code",
   "execution_count": 12,
   "id": "64af6df3",
   "metadata": {},
   "outputs": [
    {
     "data": {
      "text/plain": [
       "0.995322265018955"
      ]
     },
     "execution_count": 12,
     "metadata": {},
     "output_type": "execute_result"
    }
   ],
   "source": [
    "erf(2)"
   ]
  },
  {
   "cell_type": "code",
   "execution_count": 13,
   "id": "2b366d78",
   "metadata": {},
   "outputs": [
    {
     "data": {
      "text/plain": [
       "0.9999779095030026"
      ]
     },
     "execution_count": 13,
     "metadata": {},
     "output_type": "execute_result"
    }
   ],
   "source": [
    "erf(3)"
   ]
  },
  {
   "cell_type": "markdown",
   "id": "5a2af87f",
   "metadata": {},
   "source": [
    "# Work\n",
    "\n",
    "If a force $F(x)$ is applied on a object and it moves from point a to b then the work done is given by,  \n",
    "$$W = \\int\\limits_{a}^{b}F(x)dx$$  \n",
    "\n",
    "Also, $F(x) = k.x$  \n",
    "\n",
    "### Problem \n",
    "\n",
    "A spring of length 20 cm is stretched to 30 cm by applying 40 N of force. How much work is done in stretching the spring further from 30 cm to 50 cm?"
   ]
  },
  {
   "cell_type": "code",
   "execution_count": 14,
   "id": "62ca7467",
   "metadata": {},
   "outputs": [],
   "source": [
    "def work(f,a,b,n):\n",
    "    return simpson(f,a,b,n)"
   ]
  },
  {
   "cell_type": "markdown",
   "id": "bf99b03e",
   "metadata": {},
   "source": [
    "displacement = 30 - 20 = 10 cm = 0.1 m. \n",
    "\n",
    "40 = k x 0.1  \n",
    "\n",
    "k = 400  \n",
    "\n",
    "F(x) = 400x"
   ]
  },
  {
   "cell_type": "code",
   "execution_count": 15,
   "id": "84873814",
   "metadata": {},
   "outputs": [
    {
     "name": "stdout",
     "output_type": "stream",
     "text": [
      "32.0 J of work done.\n"
     ]
    }
   ],
   "source": [
    "print(f\"{round(work(lambda x: 400*x,0.3,0.5,100),2)} J of work done.\")"
   ]
  },
  {
   "cell_type": "markdown",
   "id": "a48237f6",
   "metadata": {},
   "source": [
    "### Problem\n",
    "\n",
    "Consider the flower petal $r(\\theta)=1+\\frac{3}{4}\\sin(3\\theta)\\;\\;\\;\\text{for}\\;\\;\\;0\\leq\\theta\\leq2\\pi$  \n",
    "\n",
    "1. Make a plot of the flower\n",
    "2. Compute area using the formula $\\mathcal{A}=\\int\\limits_{0}^{2\\pi}\\frac{1}{2}r^2d\\theta$  \n",
    "3. Compute the arclength using the formula $\\mathcal{L}=\\int\\limits_{0}^{2\\pi}\\sqrt{r^2+\\left(\\frac{dr}{d\\theta}\\right)^2}\\;d\\theta$"
   ]
  },
  {
   "cell_type": "code",
   "execution_count": 3,
   "id": "56df58d8",
   "metadata": {},
   "outputs": [],
   "source": [
    "import numpy as np\n",
    "import matplotlib.pyplot as plt"
   ]
  },
  {
   "cell_type": "code",
   "execution_count": 15,
   "id": "d94c41b6",
   "metadata": {},
   "outputs": [
    {
     "data": {
      "text/plain": [
       "[<matplotlib.lines.Line2D at 0x7fbf128e2f10>]"
      ]
     },
     "execution_count": 15,
     "metadata": {},
     "output_type": "execute_result"
    },
    {
     "data": {
      "image/png": "[encoded data removed]",
      "text/plain": [
       "<Figure size 432x288 with 1 Axes>"
      ]
     },
     "metadata": {
      "needs_background": "light"
     },
     "output_type": "display_data"
    }
   ],
   "source": [
    "t = np.linspace(0,2*np.pi,1000)\n",
    "r = 1 + (3/4)*np.sin(3*t)\n",
    "\n",
    "x = r*np.cos(t)\n",
    "y = r*np.sin(t)\n",
    "\n",
    "plt.plot(x,y)"
   ]
  },
  {
   "cell_type": "code",
   "execution_count": 16,
   "id": "3925125b",
   "metadata": {},
   "outputs": [
    {
     "data": {
      "text/plain": [
       "4.028310324802908"
      ]
     },
     "execution_count": 16,
     "metadata": {},
     "output_type": "execute_result"
    }
   ],
   "source": [
    "# Area\n",
    "A = 1/2 * sum(r**2) * (t[1]-t[0])\n",
    "A"
   ]
  },
  {
   "cell_type": "code",
   "execution_count": 21,
   "id": "01bef586",
   "metadata": {},
   "outputs": [
    {
     "data": {
      "text/plain": [
       "11.64002156901387"
      ]
     },
     "execution_count": 21,
     "metadata": {},
     "output_type": "execute_result"
    }
   ],
   "source": [
    "# Arc length\n",
    "sum(np.sqrt(r**2 + np.gradient(r,t)**2))*(t[1]-t[0])"
   ]
  }
 ],
 "metadata": {
  "kernelspec": {
   "display_name": "Python 3",
   "language": "python",
   "name": "python3"
  },
  "language_info": {
   "codemirror_mode": {
    "name": "ipython",
    "version": 3
   },
   "file_extension": ".py",
   "mimetype": "text/x-python",
   "name": "python",
   "nbconvert_exporter": "python",
   "pygments_lexer": "ipython3",
   "version": "3.8.8"
  }
 },
 "nbformat": 4,
 "nbformat_minor": 5
}
