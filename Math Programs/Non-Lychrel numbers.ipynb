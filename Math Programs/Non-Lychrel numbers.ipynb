{
 "cells": [
  {
   "cell_type": "markdown",
   "metadata": {},
   "source": [
    "# Lychrel number\n",
    "A [Lychrel number](https://en.wikipedia.org/wiki/Lychrel_number#cite_note-4) is a natural number that cannot form a palindrome through iterative process of repeatedly reversing its digits and adding the resulting numbers. This process is sometimes called the 196 algorithm, after the most famous number associated with the process."
   ]
  },
  {
   "cell_type": "markdown",
   "metadata": {},
   "source": [
    "# Non-Lychrel numbers\n",
    "They are the ones which end up forming a palindrome.  \n",
    "\n",
    "## Reverse numbers and sum till you get Palindrome\n",
    "\n",
    "A function which takes any integer as an argument, reverses the order of digits adds it and reiterates this process till a palindrome is obtained.\n",
    "\n",
    "```\n",
    "For eg: Take the number 174, reverse is 471 and then add them  \n",
    "174+471=645  \n",
    "Now take 645 and repeat  \n",
    "645+546=1191  \n",
    "1191+1911=3102  \n",
    "3102+2013=5115  \n",
    "After 4 interations we get 5115\n",
    "```\n",
    "5115 is a palindrome "
   ]
  },
  {
   "cell_type": "code",
   "execution_count": 1,
   "metadata": {},
   "outputs": [],
   "source": [
    "def reversed(num):\n",
    "    num = str(num)\n",
    "    num_list = list(num)\n",
    "    num_list.reverse()\n",
    "    num_rev = \"\".join(num_list)\n",
    "    return int(num_rev)\n",
    "\n",
    "def check_palindrome(num):\n",
    "    return (reversed(num)==num)\n",
    "\n",
    "def reverse_add(num):\n",
    "    #f = open('Palindrome.txt','a')\n",
    "    print(f\"For seed value of {num}\")\n",
    "    result = 0\n",
    "    count = 0\n",
    "    \n",
    "    while check_palindrome(num)==False:\n",
    "        result = reversed(num)\n",
    "        print(f\"{num}+{result}={num+result}\")\n",
    "        num = num+result\n",
    "        \n",
    "        count+=1\n",
    "        \n",
    "        if num>1e90:\n",
    "            print(\"Palindrome doesn't exist\")\n",
    "            break\n",
    "        else:\n",
    "            continue\n",
    "        \n",
    "    #print(f\"After {count} interations we get {num}\\n\\n\\n\",file=f)\n",
    "    print(f\"After {count} interations we get {num}\")"
   ]
  },
  {
   "cell_type": "code",
   "execution_count": 2,
   "metadata": {},
   "outputs": [
    {
     "name": "stdout",
     "output_type": "stream",
     "text": [
      "For seed value of 174\n",
      "174+471=645\n",
      "645+546=1191\n",
      "1191+1911=3102\n",
      "3102+2013=5115\n",
      "After 4 interations we get 5115\n"
     ]
    }
   ],
   "source": [
    "reverse_add(174)"
   ]
  },
  {
   "cell_type": "code",
   "execution_count": 3,
   "metadata": {
    "scrolled": true
   },
   "outputs": [
    {
     "name": "stdout",
     "output_type": "stream",
     "text": [
      "For seed value of 89\n",
      "89+98=187\n",
      "187+781=968\n",
      "968+869=1837\n",
      "1837+7381=9218\n",
      "9218+8129=17347\n",
      "17347+74371=91718\n",
      "91718+81719=173437\n",
      "173437+734371=907808\n",
      "907808+808709=1716517\n",
      "1716517+7156171=8872688\n",
      "8872688+8862788=17735476\n",
      "17735476+67453771=85189247\n",
      "85189247+74298158=159487405\n",
      "159487405+504784951=664272356\n",
      "664272356+653272466=1317544822\n",
      "1317544822+2284457131=3602001953\n",
      "3602001953+3591002063=7193004016\n",
      "7193004016+6104003917=13297007933\n",
      "13297007933+33970079231=47267087164\n",
      "47267087164+46178076274=93445163438\n",
      "93445163438+83436154439=176881317877\n",
      "176881317877+778713188671=955594506548\n",
      "955594506548+845605495559=1801200002107\n",
      "1801200002107+7012000021081=8813200023188\n",
      "After 24 interations we get 8813200023188\n"
     ]
    }
   ],
   "source": [
    "reverse_add(89)"
   ]
  },
  {
   "cell_type": "code",
   "execution_count": 1,
   "metadata": {},
   "outputs": [],
   "source": [
    "# Code to not print steps of addition\n",
    "# Just seed number, no.of iterations and palindrome\n",
    "def reversed(num):\n",
    "    num = str(num)\n",
    "    num_list = list(num)\n",
    "    num_list.reverse()\n",
    "    num_rev = \"\".join(num_list)\n",
    "    return int(num_rev)\n",
    "\n",
    "def check_palindrome(num):\n",
    "    return (reversed(num)==num)\n",
    "\n",
    "def reverse_add(num):\n",
    "    #f = open('Palindrome.txt','a')\n",
    "    print(f\"For seed value of {num}\")\n",
    "    result = 0\n",
    "    count = 0\n",
    "    \n",
    "    while check_palindrome(num)==False:\n",
    "        result = reversed(num)\n",
    "        #print(f\"{num}+{result}={num+result}\")\n",
    "        num = num+result\n",
    "        \n",
    "        count+=1\n",
    "        \n",
    "        if num>1e120:\n",
    "            print(\"Palindrome doesn't exist\")\n",
    "            break\n",
    "        else:\n",
    "            continue\n",
    "    length_of_pal = len(str(num))   \n",
    "    #print(f\"After {count} iterations we get {num}\\n\\n\\n\",file=f)\n",
    "    print(f\"After {count} iterations we get {num} which is a {length_of_pal} digit palindrome.\")"
   ]
  },
  {
   "cell_type": "code",
   "execution_count": 2,
   "metadata": {},
   "outputs": [
    {
     "name": "stdout",
     "output_type": "stream",
     "text": [
      "For seed value of 174\n",
      "After 4 iterations we get 5115 which is a 4 digit palindrome.\n"
     ]
    }
   ],
   "source": [
    "reverse_add(174)"
   ]
  },
  {
   "cell_type": "code",
   "execution_count": 3,
   "metadata": {},
   "outputs": [
    {
     "name": "stdout",
     "output_type": "stream",
     "text": [
      "For seed value of 89\n",
      "After 24 iterations we get 8813200023188 which is a 13 digit palindrome.\n"
     ]
    }
   ],
   "source": [
    "reverse_add(89)"
   ]
  },
  {
   "cell_type": "code",
   "execution_count": 4,
   "metadata": {},
   "outputs": [
    {
     "name": "stdout",
     "output_type": "stream",
     "text": [
      "For seed value of 10911\n",
      "After 55 iterations we get 4668731596684224866951378664 which is a 28 digit palindrome.\n"
     ]
    }
   ],
   "source": [
    "reverse_add(10911)"
   ]
  },
  {
   "cell_type": "code",
   "execution_count": 5,
   "metadata": {},
   "outputs": [
    {
     "name": "stdout",
     "output_type": "stream",
     "text": [
      "For seed value of 9008299\n",
      "After 96 iterations we get 555458774083726674580862268085476627380477854555 which is a 48 digit palindrome.\n"
     ]
    }
   ],
   "source": [
    "reverse_add(9008299)"
   ]
  },
  {
   "cell_type": "markdown",
   "metadata": {},
   "source": [
    "### [Numbers which require 261 steps to reach palindrome](https://oeis.org/A281506)"
   ]
  },
  {
   "cell_type": "code",
   "execution_count": 6,
   "metadata": {},
   "outputs": [
    {
     "name": "stdout",
     "output_type": "stream",
     "text": [
      "For seed value of 1186060307891929990\n",
      "After 261 iterations we get 44562665878976437622437848976653870388884783662598425855963436955852489526638748888307835667984873422673467987856626544 which is a 119 digit palindrome.\n"
     ]
    }
   ],
   "source": [
    "reverse_add(1186060307891929990)"
   ]
  },
  {
   "cell_type": "code",
   "execution_count": 8,
   "metadata": {},
   "outputs": [
    {
     "data": {
      "text/plain": [
       "True"
      ]
     },
     "execution_count": 8,
     "metadata": {},
     "output_type": "execute_result"
    }
   ],
   "source": [
    "# Check if the above number is a palindrome\n",
    "check_palindrome(44562665878976437622437848976653870388884783662598425855963436955852489526638748888307835667984873422673467987856626544)"
   ]
  },
  {
   "cell_type": "markdown",
   "metadata": {},
   "source": [
    "### Some numbers will need many iterations and the output can get very long or some numbers will be Lychrel and the output will get extremely long so I have put limit to the max value. Printing all the summations will give a long output, so below is the code to save it to text file instead of printing."
   ]
  },
  {
   "cell_type": "code",
   "execution_count": 4,
   "metadata": {},
   "outputs": [],
   "source": [
    "def reverse_add(num):\n",
    "    f = open('Palindrome.txt','a')\n",
    "    print(f\"For seed value of {num}\",file=f)\n",
    "    result = 0\n",
    "    count = 0\n",
    "    \n",
    "    while check_palindrome(num)==False:\n",
    "        result = reversed(num)\n",
    "        print(f\"{num}+{result}={num+result}\",file=f)\n",
    "        num = num+result\n",
    "        \n",
    "        count+=1\n",
    "        \n",
    "        if num>1e90:\n",
    "            print(\"Palindrome doesn't exist\",file=f)\n",
    "            break\n",
    "        else:\n",
    "            continue\n",
    "        \n",
    "    print(f\"After {count} interations we get {num}\\n\\n\\n\",file=f)\n",
    "    #print(f\"After {count} interations we get {num}\")"
   ]
  },
  {
   "cell_type": "code",
   "execution_count": 5,
   "metadata": {},
   "outputs": [],
   "source": [
    "for i in range(100,600):\n",
    "    reverse_add(i)"
   ]
  }
 ],
 "metadata": {
  "interpreter": {
   "hash": "f4da2e4dcbe768cc442fdfb9bae774ac8d17948510ac396126f8d91378e96f5b"
  },
  "kernelspec": {
   "display_name": "Python 3",
   "language": "python",
   "name": "python3"
  },
  "language_info": {
   "codemirror_mode": {
    "name": "ipython",
    "version": 3
   },
   "file_extension": ".py",
   "mimetype": "text/x-python",
   "name": "python",
   "nbconvert_exporter": "python",
   "pygments_lexer": "ipython3",
   "version": "3.8.8"
  }
 },
 "nbformat": 4,
 "nbformat_minor": 2
}
