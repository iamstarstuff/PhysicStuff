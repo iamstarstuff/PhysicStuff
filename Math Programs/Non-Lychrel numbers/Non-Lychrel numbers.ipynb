{
 "cells": [
  {
   "cell_type": "markdown",
   "metadata": {},
   "source": [
    "# Lychrel number\n",
    "A [Lychrel number](https://en.wikipedia.org/wiki/Lychrel_number#cite_note-4) is a natural number that cannot form a palindrome through iterative process of repeatedly reversing its digits and adding the resulting numbers. This process is sometimes called the 196 algorithm, after the most famous number associated with the process."
   ]
  },
  {
   "cell_type": "markdown",
   "metadata": {},
   "source": [
    "# Non-Lychrel numbers\n",
    "They are the ones which end up forming a palindrome.  \n",
    "\n",
    "## Reverse numbers and sum till you get Palindrome\n",
    "\n",
    "A function which takes any integer as an argument, reverses the order of digits adds it and reiterates this process till a palindrome is obtained.\n",
    "\n",
    "```\n",
    "For eg: Take the number 174, reverse is 471 and then add them  \n",
    "174+471=645  \n",
    "Now take 645 and repeat  \n",
    "645+546=1191  \n",
    "1191+1911=3102  \n",
    "3102+2013=5115  \n",
    "After 4 interations we get 5115\n",
    "```\n",
    "5115 is a palindrome "
   ]
  },
  {
   "cell_type": "code",
   "execution_count": 8,
   "metadata": {},
   "outputs": [],
   "source": [
    "def reversed(num):\n",
    "    num = str(num)\n",
    "    num_list = list(num)\n",
    "    num_list.reverse()\n",
    "    num_rev = \"\".join(num_list)\n",
    "    return int(num_rev)\n",
    "\n",
    "def check_palindrome(num):\n",
    "    return (reversed(num)==num)\n",
    "\n",
    "def reverse_add(num):\n",
    "    #f = open('Palindrome.txt','a')\n",
    "    print(f\"For seed value of {num}\")\n",
    "    result = 0\n",
    "    count = 0\n",
    "    \n",
    "    while check_palindrome(num)==False:\n",
    "        result = reversed(num)\n",
    "        print(f\"{num}+{result}={num+result}\")\n",
    "        num = num+result\n",
    "        \n",
    "        count+=1\n",
    "        \n",
    "        if num>1e90:\n",
    "            print(\"Palindrome doesn't exist\")\n",
    "            break\n",
    "        else:\n",
    "            continue\n",
    "        \n",
    "    ##print(f\"After {count} interations we get {num}\\n\\n\\n\",file=f)\n",
    "    print(f\"After {count} interations we get {num}\")"
   ]
  },
  {
   "cell_type": "code",
   "execution_count": 9,
   "metadata": {},
   "outputs": [
    {
     "name": "stdout",
     "output_type": "stream",
     "text": [
      "For seed value of 174\n",
      "174+471=645\n",
      "645+546=1191\n",
      "1191+1911=3102\n",
      "3102+2013=5115\n",
      "After 4 interations we get 5115\n"
     ]
    }
   ],
   "source": [
    "reverse_add(174)"
   ]
  },
  {
   "cell_type": "code",
   "execution_count": 10,
   "metadata": {
    "scrolled": true
   },
   "outputs": [
    {
     "name": "stdout",
     "output_type": "stream",
     "text": [
      "For seed value of 89\n",
      "89+98=187\n",
      "187+781=968\n",
      "968+869=1837\n",
      "1837+7381=9218\n",
      "9218+8129=17347\n",
      "17347+74371=91718\n",
      "91718+81719=173437\n",
      "173437+734371=907808\n",
      "907808+808709=1716517\n",
      "1716517+7156171=8872688\n",
      "8872688+8862788=17735476\n",
      "17735476+67453771=85189247\n",
      "85189247+74298158=159487405\n",
      "159487405+504784951=664272356\n",
      "664272356+653272466=1317544822\n",
      "1317544822+2284457131=3602001953\n",
      "3602001953+3591002063=7193004016\n",
      "7193004016+6104003917=13297007933\n",
      "13297007933+33970079231=47267087164\n",
      "47267087164+46178076274=93445163438\n",
      "93445163438+83436154439=176881317877\n",
      "176881317877+778713188671=955594506548\n",
      "955594506548+845605495559=1801200002107\n",
      "1801200002107+7012000021081=8813200023188\n",
      "After 24 interations we get 8813200023188\n"
     ]
    }
   ],
   "source": [
    "reverse_add(89)"
   ]
  },
  {
   "cell_type": "code",
   "execution_count": 54,
   "metadata": {},
   "outputs": [],
   "source": [
    "# Code to not print steps of addition\n",
    "# Just seed number, no.of iterations and palindrome\n",
    "def reversed(num):\n",
    "    num = str(num)\n",
    "    num_list = list(num)\n",
    "    num_list.reverse()\n",
    "    num_rev = \"\".join(num_list)\n",
    "    return int(num_rev)\n",
    "\n",
    "def check_palindrome(num):\n",
    "    return (reversed(num)==num)\n",
    "\n",
    "def reverse_add(num):\n",
    "    #f = open('Palindrome.txt','a')\n",
    "    print(f\"For seed value of {num}\")\n",
    "    result = 0\n",
    "    count = 0\n",
    "    \n",
    "    while check_palindrome(num)==False:\n",
    "        result = reversed(num)\n",
    "        #print(f\"{num}+{result}={num+result}\")\n",
    "        num = num+result\n",
    "        \n",
    "        count+=1\n",
    "        \n",
    "        if len(str(num))>2000:\n",
    "            print(\"Palindrome doesn't exist\")\n",
    "            break\n",
    "        else:\n",
    "            continue\n",
    "    length_of_pal = len(str(num))   \n",
    "    #print(f\"After {count} iterations we get {num}\\n\\n\\n\",file=f)\n",
    "    if check_palindrome(num)==True:\n",
    "        print(f\"After {count} iterations we get {num} which is a {length_of_pal} digit palindrome.\")\n",
    "    else:\n",
    "        print(f\"After {count} iterations we get {num} which is a {length_of_pal} digit number but still not a palindrome.\")\n"
   ]
  },
  {
   "cell_type": "code",
   "execution_count": 36,
   "metadata": {},
   "outputs": [
    {
     "name": "stdout",
     "output_type": "stream",
     "text": [
      "For seed value of 174\n",
      "After 4 iterations we get 5115 which is a 4 digit palindrome.\n"
     ]
    }
   ],
   "source": [
    "reverse_add(174)"
   ]
  },
  {
   "cell_type": "code",
   "execution_count": 37,
   "metadata": {},
   "outputs": [
    {
     "name": "stdout",
     "output_type": "stream",
     "text": [
      "For seed value of 89\n",
      "After 24 iterations we get 8813200023188 which is a 13 digit palindrome.\n"
     ]
    }
   ],
   "source": [
    "reverse_add(89)"
   ]
  },
  {
   "cell_type": "code",
   "execution_count": 38,
   "metadata": {},
   "outputs": [
    {
     "name": "stdout",
     "output_type": "stream",
     "text": [
      "For seed value of 10911\n",
      "After 55 iterations we get 4668731596684224866951378664 which is a 28 digit palindrome.\n"
     ]
    }
   ],
   "source": [
    "reverse_add(10911)"
   ]
  },
  {
   "cell_type": "code",
   "execution_count": 39,
   "metadata": {},
   "outputs": [
    {
     "name": "stdout",
     "output_type": "stream",
     "text": [
      "For seed value of 9008299\n",
      "After 96 iterations we get 555458774083726674580862268085476627380477854555 which is a 48 digit palindrome.\n"
     ]
    }
   ],
   "source": [
    "reverse_add(9008299)"
   ]
  },
  {
   "cell_type": "code",
   "execution_count": 51,
   "metadata": {},
   "outputs": [
    {
     "name": "stdout",
     "output_type": "stream",
     "text": [
      "For seed value of 9928009\n",
      "After 96 iterations we get 555458774083726674580862268085476627380477854555 which is a 48 digit palindrome.\n"
     ]
    }
   ],
   "source": [
    "reverse_add(9928009)"
   ]
  },
  {
   "cell_type": "code",
   "execution_count": 55,
   "metadata": {},
   "outputs": [
    {
     "name": "stdout",
     "output_type": "stream",
     "text": [
      "For seed value of 196\n",
      "Palindrome doesn't exist\n",
      "After 4782 iterations we get 132999341269292197025689345567100339675144675080011619435550637864125624245051828440078045432690726771046339963332689321505793391259994522185267698692265452697603802156606462873662284686505616897260210613730890771267118286463759232830753346872836622531504546766865256618966671347577462415077693385913911167788637402605416029642507473166809919642111837440086903716206414672487993668045888949600628105973833182372888643699899352515719765973514086700866228393930440936651122693175426262508824134288992288992083403610155958395567564956600351776183179963297312185583612419726999549482004254067146357158125535660027438155279296264993807366012579830584347122008411637999936635955989933836677394352147462202592095615613424393449618550676849780240198477057227562622806987099929307537128887125131115382841943082406585991487942063550225948790998578390436928809946998650182910167614112880250885223757723465168315647778853183133008103116544911224083967553379930246536241354972745991604818676534503657902724590828887881809543711085530542577592839629845718045314164663203007335576947942121855551121170044137134997773561297046531885633258794308812141675211818204690064000881973419287489910785843304545915088409067570329024013928451102152178893173569292999078970723725581186077479193308784977595572684440432531541660020619126474235348387553932998956063553999983512470022175338603897530967271729947260387344193372006663452195185354276035339918504500071701430647567120379336008029267715299565957477559374955210639348920087230087244231891526162467139523104664003404039382265811658041647955702750435300889644688817328144738949181610605977864976640078417651360271640868004483712214691891866038461514702962351521473677885120931058429667051426487584316666081764156867754649424512663738754445693922205637468281275118798913731600107270961649567748226647726469675119741678525555230778686267033538996309329860502388732336004353028752809623345087993482816153142662145982615552401521998146744158692211066663298761970119306124300032 which is a 2001 digit number but still not a palindrome.\n"
     ]
    }
   ],
   "source": [
    "reverse_add(196)"
   ]
  },
  {
   "cell_type": "markdown",
   "metadata": {},
   "source": [
    "### [Numbers which require 261 steps to reach palindrome](https://oeis.org/A281506)"
   ]
  },
  {
   "cell_type": "code",
   "execution_count": 16,
   "metadata": {},
   "outputs": [
    {
     "name": "stdout",
     "output_type": "stream",
     "text": [
      "For seed value of 1186060307891929990\n",
      "After 261 iterations we get 44562665878976437622437848976653870388884783662598425855963436955852489526638748888307835667984873422673467987856626544 which is a 119 digit palindrome.\n"
     ]
    }
   ],
   "source": [
    "reverse_add(1186060307891929990)"
   ]
  },
  {
   "cell_type": "code",
   "execution_count": 17,
   "metadata": {},
   "outputs": [
    {
     "data": {
      "text/plain": [
       "True"
      ]
     },
     "execution_count": 17,
     "metadata": {},
     "output_type": "execute_result"
    }
   ],
   "source": [
    "# Check if the above number is a palindrome\n",
    "check_palindrome(44562665878976437622437848976653870388884783662598425855963436955852489526638748888307835667984873422673467987856626544)"
   ]
  },
  {
   "cell_type": "markdown",
   "metadata": {},
   "source": [
    "### Some numbers will need many iterations and the output can get very long or some numbers will be Lychrel and the output will get extremely long so I have put limit to the max value. Printing all the summations will give a long output, so below is the code to save it to text file instead of printing."
   ]
  },
  {
   "cell_type": "code",
   "execution_count": 63,
   "metadata": {},
   "outputs": [],
   "source": [
    "def reverse_add(num):\n",
    "    f = open('Palindrome.txt','a')\n",
    "    print(f\"For seed value of {num}\",file=f)\n",
    "    result = 0\n",
    "    count = 0\n",
    "    \n",
    "    while check_palindrome(num)==False:\n",
    "        result = reversed(num)\n",
    "        #print(f\"{num}+{result}={num+result}\",file=f)\n",
    "        num = num+result\n",
    "        \n",
    "        count+=1\n",
    "        \n",
    "        # Putting upper limit on the number to save my laptop\n",
    "        if len(str(num))>5000:\n",
    "            print(\"Palindrome doesn't exist\",file=f)\n",
    "            break\n",
    "        else:\n",
    "            continue\n",
    "    length_of_pal = len(str(num))\n",
    "    if check_palindrome(num)==True:\n",
    "        print(f\"After {count} iterations we get {num} which is a {length_of_pal} digit palindrome.\\n\\n\\n\",file=f)\n",
    "    else:\n",
    "        print(f\"After {count} iterations we get {num} which is a {length_of_pal} digit number but still not a palindrome.\\n\\n\\n\",file=f)\n",
    "    #print(f\"After {count} interations we get {num}\")"
   ]
  },
  {
   "cell_type": "code",
   "execution_count": 65,
   "metadata": {},
   "outputs": [
    {
     "name": "stdout",
     "output_type": "stream",
     "text": [
      "Done\n"
     ]
    }
   ],
   "source": [
    "# Saving all the results in text file\n",
    "for i in range(400,500):\n",
    "    reverse_add(i)\n",
    "print(\"Done\")"
   ]
  }
 ],
 "metadata": {
  "interpreter": {
   "hash": "aee8b7b246df8f9039afb4144a1f6fd8d2ca17a180786b69acc140d282b71a49"
  },
  "kernelspec": {
   "display_name": "Python 3.9.12 64-bit",
   "language": "python",
   "name": "python3"
  },
  "language_info": {
   "codemirror_mode": {
    "name": "ipython",
    "version": 3
   },
   "file_extension": ".py",
   "mimetype": "text/x-python",
   "name": "python",
   "nbconvert_exporter": "python",
   "pygments_lexer": "ipython3",
   "version": "3.9.12"
  }
 },
 "nbformat": 4,
 "nbformat_minor": 2
}
