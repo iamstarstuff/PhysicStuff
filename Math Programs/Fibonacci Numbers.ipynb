{
 "cells": [
  {
   "cell_type": "markdown",
   "source": [
    "# Fibonacci Numbers"
   ],
   "metadata": {}
  },
  {
   "cell_type": "code",
   "execution_count": 1,
   "source": [
    "# Function which returns a list of Fibonacci series upto n\r\n",
    "\r\n",
    "def fib(n):\r\n",
    "    \r\n",
    "  result = [] # Create an empty list in which we will put the numbers of Fibonacci series\r\n",
    "\r\n",
    "  a,b = 0,1 # short cut to assign 0 to a and 1 to b\r\n",
    "    \r\n",
    "  while a < n:\r\n",
    "    result.append(a) \r\n",
    "    dummy = a # dummy variable to add with previous number\r\n",
    "    a = b\r\n",
    "    b = dummy+b\r\n",
    "    \r\n",
    "  return result  # not a part of while loop \r\n",
    "# Pay attention to the indentations."
   ],
   "outputs": [],
   "metadata": {}
  },
  {
   "cell_type": "code",
   "execution_count": 2,
   "source": [
    "fib(100)"
   ],
   "outputs": [
    {
     "output_type": "execute_result",
     "data": {
      "text/plain": [
       "[0, 1, 1, 2, 3, 5, 8, 13, 21, 34, 55, 89]"
      ]
     },
     "metadata": {},
     "execution_count": 2
    }
   ],
   "metadata": {}
  },
  {
   "cell_type": "code",
   "execution_count": 3,
   "source": [
    "fib(1000)"
   ],
   "outputs": [
    {
     "output_type": "execute_result",
     "data": {
      "text/plain": [
       "[0, 1, 1, 2, 3, 5, 8, 13, 21, 34, 55, 89, 144, 233, 377, 610, 987]"
      ]
     },
     "metadata": {},
     "execution_count": 3
    }
   ],
   "metadata": {}
  },
  {
   "cell_type": "code",
   "execution_count": 4,
   "source": [
    "# Function to find the nth Fibonacci number.\r\n",
    "\r\n",
    "def nfib(m):\r\n",
    "    a = 0  # first 2 numbers\r\n",
    "    b = 1\r\n",
    "    if m == 0:\r\n",
    "        return a\r\n",
    "    elif m == 1:\r\n",
    "        return b\r\n",
    "    else:\r\n",
    "        for i in range(2,m):\r\n",
    "            dummy = a\r\n",
    "            a = b\r\n",
    "            b = dummy + b\r\n",
    "        return b"
   ],
   "outputs": [],
   "metadata": {}
  },
  {
   "cell_type": "code",
   "execution_count": 5,
   "source": [
    "nfib(15)"
   ],
   "outputs": [
    {
     "output_type": "execute_result",
     "data": {
      "text/plain": [
       "377"
      ]
     },
     "metadata": {},
     "execution_count": 5
    }
   ],
   "metadata": {}
  }
 ],
 "metadata": {
  "kernelspec": {
   "name": "python3",
   "display_name": "Python 3.9.6 64-bit (windows store)"
  },
  "language_info": {
   "codemirror_mode": {
    "name": "ipython",
    "version": 3
   },
   "file_extension": ".py",
   "mimetype": "text/x-python",
   "name": "python",
   "nbconvert_exporter": "python",
   "pygments_lexer": "ipython3",
   "version": "3.9.6"
  },
  "interpreter": {
   "hash": "f4da2e4dcbe768cc442fdfb9bae774ac8d17948510ac396126f8d91378e96f5b"
  }
 },
 "nbformat": 4,
 "nbformat_minor": 5
}