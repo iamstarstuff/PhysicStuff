{
 "cells": [
  {
   "cell_type": "markdown",
   "id": "733d8399",
   "metadata": {},
   "source": [
    "# Fibonacci Numbers"
   ]
  },
  {
   "cell_type": "code",
   "execution_count": 1,
   "id": "ba2fef13",
   "metadata": {},
   "outputs": [],
   "source": [
    "# Function which returns a list of Fibonacci series upto n\n",
    "\n",
    "def fib(n):\n",
    "    \n",
    "  result = [] # Create an empty list in which we will put the numbers of Fibonacci series\n",
    "\n",
    "  a,b = 0,1 # short cut to assign 0 to a and 1 to b\n",
    "    \n",
    "  while a < n:\n",
    "    result.append(a) \n",
    "    dummy = a # dummy variable to add with previous number\n",
    "    a = b\n",
    "    b = dummy+b\n",
    "    \n",
    "  return result  # not a part of while loop \n",
    "# Pay attention to the indentations."
   ]
  },
  {
   "cell_type": "code",
   "execution_count": 2,
   "id": "4267edbc",
   "metadata": {},
   "outputs": [
    {
     "data": {
      "text/plain": [
       "[0, 1, 1, 2, 3, 5, 8, 13, 21, 34, 55, 89]"
      ]
     },
     "execution_count": 2,
     "metadata": {},
     "output_type": "execute_result"
    }
   ],
   "source": [
    "fib(100)"
   ]
  },
  {
   "cell_type": "code",
   "execution_count": 3,
   "id": "346b0194",
   "metadata": {},
   "outputs": [
    {
     "data": {
      "text/plain": [
       "[0, 1, 1, 2, 3, 5, 8, 13, 21, 34, 55, 89, 144, 233, 377, 610, 987]"
      ]
     },
     "execution_count": 3,
     "metadata": {},
     "output_type": "execute_result"
    }
   ],
   "source": [
    "fib(1000)"
   ]
  },
  {
   "cell_type": "code",
   "execution_count": 4,
   "id": "0da8285d",
   "metadata": {},
   "outputs": [],
   "source": [
    "# Function to find the nth Fibonacci number.\n",
    "\n",
    "def nfib(m):\n",
    "    a = 0  # first 2 numbers\n",
    "    b = 1\n",
    "    if m == 0:\n",
    "        return a\n",
    "    elif m == 1:\n",
    "        return b\n",
    "    else:\n",
    "        for i in range(2,m):\n",
    "            dummy = a\n",
    "            a = b\n",
    "            b = dummy + b\n",
    "        return b"
   ]
  },
  {
   "cell_type": "code",
   "execution_count": 5,
   "id": "d5e9b380",
   "metadata": {},
   "outputs": [
    {
     "data": {
      "text/plain": [
       "377"
      ]
     },
     "execution_count": 5,
     "metadata": {},
     "output_type": "execute_result"
    }
   ],
   "source": [
    "nfib(15)"
   ]
  }
 ],
 "metadata": {
  "kernelspec": {
   "display_name": "Python 3",
   "language": "python",
   "name": "python3"
  },
  "language_info": {
   "codemirror_mode": {
    "name": "ipython",
    "version": 3
   },
   "file_extension": ".py",
   "mimetype": "text/x-python",
   "name": "python",
   "nbconvert_exporter": "python",
   "pygments_lexer": "ipython3",
   "version": "3.9.5"
  }
 },
 "nbformat": 4,
 "nbformat_minor": 5
}
