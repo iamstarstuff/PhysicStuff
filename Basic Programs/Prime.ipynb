{
 "cells": [
  {
   "cell_type": "markdown",
   "id": "5e72fd46",
   "metadata": {},
   "source": [
    "# Prime"
   ]
  },
  {
   "cell_type": "code",
   "execution_count": 1,
   "id": "7d01572b",
   "metadata": {},
   "outputs": [],
   "source": [
    "import numpy as np\n",
    "\n",
    "\n",
    "# Checking if the number is prime.\n",
    "\n",
    "def checkprime(n):\n",
    "    if n == 1:\n",
    "        print(\"1 is neither prime nor composite.\")\n",
    "    elif n == 2:\n",
    "        print(\"2 is a prime number.\")\n",
    "    elif n >= 3:\n",
    "        for i in range(2,n):\n",
    "            if (n%i)==0:\n",
    "                print(f\"{n} is not a prime number.\")\n",
    "                break\n",
    "        else:\n",
    "            print(f\"{n} is a prime number.\")\n",
    "    \n",
    "\n",
    "# Finding out primes in a range and no. of primes.\n",
    "        \n",
    "def prime(l,u):\n",
    "    p = []\n",
    "    for i in range(l,u+1):\n",
    "        if i == 1:\n",
    "            continue\n",
    "        for j in range(2,i):\n",
    "            if (i%j)==0:\n",
    "                break\n",
    "        else:\n",
    "            p.append(i)\n",
    "    print(p)\n",
    "    print(f\"\\nThere are {len(p)} prime numbers between {l} and {u}\")"
   ]
  },
  {
   "cell_type": "code",
   "execution_count": 2,
   "id": "5d5f25d3",
   "metadata": {},
   "outputs": [
    {
     "name": "stdout",
     "output_type": "stream",
     "text": [
      "[11, 13, 17, 19, 23, 29, 31, 37, 41, 43, 47, 53, 59, 61, 67, 71, 73, 79, 83, 89, 97, 101, 103, 107, 109, 113, 127, 131, 137, 139, 149]\n",
      "\n",
      "There are 31 prime numbers between 8 and 150\n"
     ]
    }
   ],
   "source": [
    "prime(8,150)"
   ]
  },
  {
   "cell_type": "code",
   "execution_count": 3,
   "id": "db6609f6",
   "metadata": {
    "scrolled": true
   },
   "outputs": [
    {
     "name": "stdout",
     "output_type": "stream",
     "text": [
      "[599, 601, 607, 613, 617, 619, 631, 641, 643, 647, 653, 659, 661, 673, 677, 683, 691, 701, 709, 719, 727, 733, 739, 743, 751, 757, 761, 769, 773, 787, 797, 809, 811, 821, 823, 827, 829, 839, 853, 857, 859, 863, 877, 881, 883, 887, 907, 911, 919, 929, 937, 941, 947, 953, 967, 971, 977, 983, 991, 997]\n",
      "\n",
      "There are 60 prime numbers between 596 and 1000\n"
     ]
    }
   ],
   "source": [
    "prime(596,1000)"
   ]
  },
  {
   "cell_type": "code",
   "execution_count": 4,
   "id": "1f87bc11",
   "metadata": {},
   "outputs": [
    {
     "name": "stdout",
     "output_type": "stream",
     "text": [
      "1229 is a prime number.\n"
     ]
    }
   ],
   "source": [
    "checkprime(1229)"
   ]
  },
  {
   "cell_type": "code",
   "execution_count": 5,
   "id": "e0d56cbc",
   "metadata": {},
   "outputs": [
    {
     "name": "stdout",
     "output_type": "stream",
     "text": [
      "1 is neither prime nor composite.\n"
     ]
    }
   ],
   "source": [
    "checkprime(1)"
   ]
  },
  {
   "cell_type": "code",
   "execution_count": 6,
   "id": "f2c7fd23",
   "metadata": {},
   "outputs": [
    {
     "name": "stdout",
     "output_type": "stream",
     "text": [
      "2 is a prime number.\n"
     ]
    }
   ],
   "source": [
    "checkprime(2)"
   ]
  },
  {
   "cell_type": "code",
   "execution_count": 7,
   "id": "832f1556",
   "metadata": {},
   "outputs": [
    {
     "name": "stdout",
     "output_type": "stream",
     "text": [
      "11 is a prime number.\n"
     ]
    }
   ],
   "source": [
    "checkprime(11)"
   ]
  },
  {
   "cell_type": "code",
   "execution_count": 8,
   "id": "13ae7158",
   "metadata": {},
   "outputs": [
    {
     "name": "stdout",
     "output_type": "stream",
     "text": [
      "661 is a prime number.\n"
     ]
    }
   ],
   "source": [
    "checkprime(661)"
   ]
  },
  {
   "cell_type": "code",
   "execution_count": 9,
   "id": "71183bab",
   "metadata": {},
   "outputs": [
    {
     "name": "stdout",
     "output_type": "stream",
     "text": [
      "997 is a prime number.\n"
     ]
    }
   ],
   "source": [
    "checkprime(997)"
   ]
  },
  {
   "cell_type": "code",
   "execution_count": 10,
   "id": "62f8cb75",
   "metadata": {},
   "outputs": [
    {
     "name": "stdout",
     "output_type": "stream",
     "text": [
      "998 is not a prime number.\n"
     ]
    }
   ],
   "source": [
    "checkprime(998)"
   ]
  }
 ],
 "metadata": {
  "kernelspec": {
   "display_name": "Python 3",
   "language": "python",
   "name": "python3"
  },
  "language_info": {
   "codemirror_mode": {
    "name": "ipython",
    "version": 3
   },
   "file_extension": ".py",
   "mimetype": "text/x-python",
   "name": "python",
   "nbconvert_exporter": "python",
   "pygments_lexer": "ipython3",
   "version": "3.9.5"
  }
 },
 "nbformat": 4,
 "nbformat_minor": 5
}
