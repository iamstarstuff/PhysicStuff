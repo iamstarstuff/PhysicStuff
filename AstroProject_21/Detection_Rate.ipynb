{
  "nbformat": 4,
  "nbformat_minor": 0,
  "metadata": {
    "colab": {
      "name": "Detection Rate.ipynb",
      "provenance": [],
      "collapsed_sections": []
    },
    "kernelspec": {
      "name": "python3",
      "display_name": "Python 3.9.6 64-bit ('WindowsApps')"
    },
    "language_info": {
      "codemirror_mode": {
        "name": "ipython",
        "version": 3
      },
      "file_extension": ".py",
      "mimetype": "text/x-python",
      "name": "python",
      "nbconvert_exporter": "python",
      "pygments_lexer": "ipython3",
      "version": "3.9.6"
    },
    "interpreter": {
      "hash": "24328842c78199e0a653a7a6e77d57e558e0970d5b42a1fd1363e1589ad9dda1"
    }
  },
  "cells": [
    {
      "cell_type": "markdown",
      "metadata": {
        "id": "h7oTV3rlyPla"
      },
      "source": [
        "# Detection Rate Calculation\n",
        "\n",
        "$\\mathcal{L}$ : Luminosity  \n",
        "$\\mathcal{r}$ : Distance  \n",
        "What is the flux you'll get at earth?  \n",
        "$$\\mathcal{F} = \\dfrac{\\mathcal{L}}{4\\pi \\mathcal{r}^2}$$  \n",
        "$$\\therefore \\mathcal{r} = \\sqrt{\\dfrac{\\mathcal{L}}{4\\pi \\mathcal{F}}}$$ - is the distance upto which we can observe the event of given luminosity and  limiting flux.  \n",
        "Suppose there are $\\mathcal{N}$ sources in the volume of radius $\\mathcal{r}$, then $${\\mathcal{S}} = \\dfrac{\\mathcal{N}}{\\dfrac{4\\pi}{3}\\Big(\\dfrac{\\mathcal{L}}{4\\pi \\mathcal{F}}\\Big)^{\\frac{3}{2}}}$$  where ${\\mathcal{S}}$  is the source density.  \n",
        "$$\\therefore \\mathcal{S} = 3\\sqrt{4\\pi}\\;\\mathcal{N}\\;\\Big(\\dfrac{\\mathcal{L}}{\\mathcal{F}}\\Big)^{-\\frac{3}{2}}$$\n",
        "\n",
        "$$\\mathcal{N}=\\dfrac{\\mathcal{S}}{3\\sqrt{4\\pi}}\\Big(\\dfrac{\\mathcal{L}}{\\mathcal{F}}\\Big)^{\\frac{3}{2}}$$  \n",
        "\n",
        "$$\\mathcal{N}\\propto\\mathcal{L}^{-\\alpha}$$  \n",
        "\n",
        "Assuming density of objects is constant  \n",
        "$\\mathcal{N}$ will be the sum objects having Luminosities in a range $\\mathcal{L}_{lower}$ to $\\mathcal{L}_{upper}$ \n",
        "\n",
        "\n",
        "Power of $\\mathcal{L}$ typically negative as there are fewer bright sources\n"
      ]
    },
    {
      "cell_type": "markdown",
      "metadata": {
        "id": "g2G0gNRHZQeo"
      },
      "source": [
        "\n",
        "Detection rate is given by product of survey's FOV $\\Omega$ and the source density on sky above the instrument's detection threshold  \n",
        "\n",
        "$$\\mathcal{D}_{rate}=\\Omega\\times\\mathcal{S}$$  \n",
        "\n",
        "Detection threshold $F_{lim}=500\\,Jy\\;ms$  \n",
        "\n",
        "Req. FOV :- $\\Omega=14000\\;sq.deg = 4.26\\;steradian$\n",
        "\n",
        "Volumetric Rate $\\mathcal{R}$ = d_rate $\\div$ volume\n"
      ]
    },
    {
      "cell_type": "code",
      "metadata": {
        "id": "t1sL5spmjoqL"
      },
      "source": [
        "import numpy as np\n",
        "import astropy.units as u \n",
        "import astropy.constants as const \n",
        "\n",
        "\n",
        "\n",
        "def distance(f_lim,L):  # L in Watts -- kg.m^2.s^-3\n",
        "  f_lim = f_lim*(u.Jansky*u.millisecond)\n",
        "  r = ((L*u.Watt)/(4*np.pi*f_lim))**0.5 # r in meters\n",
        "  #rgpc = r.to(u.Gpc)\n",
        "  return r                 #returns distance in Gpc?\n",
        "\n",
        "# rm = r in meters\n",
        "# rgpc = r in Gpc\n",
        "\n",
        "def source_den(N,rgpc):\n",
        "  rm = rgpc*3.086e25\n",
        "  S = N/(((4*np.pi)/3)*rm**3)\n",
        "  return S\n",
        "\n",
        "def num_sources(S,rgpc):  # if source density is known\n",
        "  rm = rgpc*3.086e25\n",
        "  N = S*((4*np.pi)/3)*rm**3\n",
        "  return N\n",
        "\n",
        "def rate(fov,S):  # fov in steradians\n",
        "  d_rate = fov*S\n",
        "  return d_rate\n",
        "\n",
        "def vol_rate(d_rate,r):\n",
        "  r = r*u.Gpc\n",
        "  vol_rate = d_rate/(((4*np.pi)/3)*r**3)\n",
        "  return vol_rate\n",
        "\n"
      ],
      "execution_count": 63,
      "outputs": []
    },
    {
      "cell_type": "code",
      "metadata": {
        "colab": {
          "base_uri": "https://localhost:8080/"
        },
        "id": "wNR0aq3MmK-7",
        "outputId": "55b96919-6550-469a-af89-56dc7f821e72"
      },
      "source": [
        "d = distance(500,5.65e54)\n",
        "d"
      ],
      "execution_count": 64,
      "outputs": [
        {
          "output_type": "execute_result",
          "data": {
            "text/plain": [
              "<Quantity 2.99870877e+25 W(1/2) / (Jy(1/2) ms(1/2))>"
            ],
            "text/latex": "$2.9987088 \\times 10^{25} \\; \\mathrm{\\frac{W^{1/2}}{Jy^{1/2}\\,ms^{1/2}}}$"
          },
          "metadata": {},
          "execution_count": 64
        }
      ]
    },
    {
      "cell_type": "code",
      "execution_count": 65,
      "metadata": {},
      "outputs": [
        {
          "output_type": "execute_result",
          "data": {
            "text/plain": [
              "<Quantity 9.48274975e+39 m / s>"
            ],
            "text/latex": "$9.4827498 \\times 10^{39} \\; \\mathrm{\\frac{m}{s}}$"
          },
          "metadata": {},
          "execution_count": 65
        }
      ],
      "source": [
        "d.decompose()"
      ]
    },
    {
      "source": [
        "Determine why d is having units of speed?   \n",
        "$$\\dfrac{W^{1/2}}{Jy^{1/2}ms^{1/2}}=\\dfrac{\\left({\\frac{kg.m^2}{s^3}}\\right)^{\\frac{1}{2}}}{\\left({\\frac{kg}{s^2}}\\right)^{\\frac{1}{2}}.(s)^{\\frac{-3}{2}}}=\\dfrac{m}{s}$$"
      ],
      "cell_type": "markdown",
      "metadata": {}
    },
    {
      "cell_type": "code",
      "execution_count": 68,
      "metadata": {},
      "outputs": [
        {
          "output_type": "execute_result",
          "data": {
            "text/plain": [
              "  Primary name | Unit definition     | Aliases       \n",
              "[\n",
              "  AB           | 3.63078e-23 kg / s2 | ABflux         ,\n",
              "  Jy           | 1e-26 kg / s2       | Jansky, jansky ,\n",
              "]"
            ],
            "text/html": "<table style=\"width:50%\"><tr><th>Primary name</th><th>Unit definition</th><th>Aliases</th></tr><tr><td>AB</td><td>3.63078e-23 kg / s2</td><td>ABflux</td></tr><tr><td>Jy</td><td>1e-26 kg / s2</td><td>Jansky, jansky</td></tr></table>"
          },
          "metadata": {},
          "execution_count": 68
        }
      ],
      "source": [
        "u.Jansky.find_equivalent_units()"
      ]
    },
    {
      "cell_type": "markdown",
      "metadata": {
        "id": "ZfxQ0djFoAb1"
      },
      "source": [
        "## Schechter Function:\n",
        "**Schechter Function** provides a parametric description of the space density of galaxies as a function of their luminosities.  \n",
        "\n",
        "Number of objects per unit comoving volume per unit luminosity.\n",
        "$$\\dfrac{dn}{dL}=\\phi(L)=\\Big(\\dfrac{\\phi^\\ast}{L^\\ast}\\Big)\\;\\Big(\\dfrac{L}{L^\\ast}\\Big)^\\alpha\\;\\;e^{(-L/L^\\ast)}$$\n",
        "$\\phi^\\ast$ is the normalization density.  \n",
        "$L^\\ast$ is the characteristic Luminosity.  \n",
        "$\\alpha$ is the power law slope at low luminosity. "
      ]
    },
    {
      "cell_type": "markdown",
      "metadata": {
        "id": "XU6xsrcQDVWL"
      },
      "source": [
        "**Schechter Function** also can be written in the form:  \n",
        "$$n(L)dL=\\phi^\\ast\\Big(\\dfrac{L}{L^\\ast}\\Big)^\\alpha\\;e^{(-L/L^\\ast)}\\;\\dfrac{dL}{L^\\ast}$$  \n",
        "One measurement from field galaxies is  \n",
        "$\\alpha = -1.25$, $\\phi^\\ast=1.2\\times10^{-2}h^3Mpc^{-3}$"
      ]
    },
    {
      "cell_type": "code",
      "metadata": {
        "id": "3IJ_usVxDVWM"
      },
      "source": [
        "import numpy as np \n",
        "import astropy.units as u \n",
        "from astropy import constants as const  \n",
        "\n",
        "alpha = -1.25\n",
        "phi_star = 1.2e-2*((const.h**3)/(u.Mpc)**(3))\n",
        "L = []  # List of Luminosities maybe fill with data from some survey\n",
        "\n",
        "def schechter(L,L_star):\n",
        "    dL = L_star - L\n",
        "    return phi_star*(L/L_star)**alpha*np.exp(-L/L_star)*dL/L_star\n",
        "\n",
        "n = []  # empty list to store number of sources at a given luminosity\n",
        "for i in L:\n",
        "    n.append(schechter(i,L_star))\n",
        "    i += 1\n",
        "    \n",
        "# sum of n gives total number of sources between L and L*\n",
        "source_density = sum(n)    \n",
        "\n",
        "\n",
        "fov = 4.2646439*u.sr\n",
        "\n",
        "det_rate = source_density*fov"
      ],
      "execution_count": 33,
      "outputs": []
    },
    {
      "cell_type": "code",
      "execution_count": null,
      "metadata": {},
      "outputs": [],
      "source": []
    },
    {
      "cell_type": "code",
      "execution_count": null,
      "metadata": {},
      "outputs": [],
      "source": []
    },
    {
      "cell_type": "code",
      "execution_count": null,
      "metadata": {},
      "outputs": [],
      "source": []
    },
    {
      "cell_type": "code",
      "metadata": {
        "id": "EEkxT1JBXXir"
      },
      "source": [
        "# initial attempt commented out\n",
        "'''import numpy as np\n",
        "# fov is in steradian and f_lim in Jy ms\n",
        "def frbrate(fov,f_lim):\n",
        "  frb_data = np.loadtxt('Filename.csv', delimiter=' ') # Put survey data filename and delimiter\n",
        "  indices = np.where(frb_data[:,1]>f_lim) # Selects events above detection threshold (here assuming the second column has fluence values)\n",
        "  threshold = frb_data[indices] # events above threshold\n",
        "  d_rate = fov*len(threshold) # all sky rate above threshold?\n",
        "  #vol_rate = d_rate/volume ?\n",
        "  print(f\"Detection rate above {f_lim} Jyms is {d_rate} and Local Volumetric rate is {vol_rate}\")'''"
      ],
      "execution_count": null,
      "outputs": []
    },
    {
      "cell_type": "markdown",
      "metadata": {
        "id": "MqcL7VRVKvYQ"
      },
      "source": [
        "Local volumetric rate of NS-NS merger by LIGO/VIRGO\n",
        "\n",
        " $$\\mathcal{R}\\approx 320^{+490}_{-240}\\;Gpc^{-3}yr^{-1}$$  \n",
        " \n",
        "Daily all sky rate is $\\sim10^3$ with fluence $F_{lim}$ of few $Jy\\,ms$  \n"
      ]
    },
    {
      "cell_type": "code",
      "metadata": {
        "id": "Rewt4D9xKiR5"
      },
      "source": [],
      "execution_count": null,
      "outputs": []
    }
  ]
}