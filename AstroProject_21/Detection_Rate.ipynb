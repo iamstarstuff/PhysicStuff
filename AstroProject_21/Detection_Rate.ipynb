{
  "nbformat": 4,
  "nbformat_minor": 0,
  "metadata": {
    "colab": {
      "name": "Detection Rate.ipynb",
      "provenance": [],
      "collapsed_sections": []
    },
    "kernelspec": {
      "display_name": "Python 3",
      "language": "python",
      "name": "python3"
    },
    "language_info": {
      "codemirror_mode": {
        "name": "ipython",
        "version": 3
      },
      "file_extension": ".py",
      "mimetype": "text/x-python",
      "name": "python",
      "nbconvert_exporter": "python",
      "pygments_lexer": "ipython3",
      "version": "3.7.1"
    }
  },
  "cells": [
    {
      "cell_type": "markdown",
      "metadata": {
        "id": "h7oTV3rlyPla"
      },
      "source": [
        "# Detection Rate Calculation\n",
        "\n",
        "$\\mathcal{L}$ : Luminosity  \n",
        "$\\mathcal{r}$ : Distance  \n",
        "What is the flux you'll get at earth?  \n",
        "$$\\mathcal{F} = \\dfrac{\\mathcal{L}}{4\\pi \\mathcal{r}^2}$$  \n",
        "$$\\therefore \\mathcal{r} = \\sqrt{\\dfrac{\\mathcal{L}}{4\\pi \\mathcal{F}}}$$ - is the distance upto which we can observe the event of given luminosity and  limiting flux.  \n",
        "Suppose there are $\\mathcal{N}$ sources in the volume of radius $\\mathcal{r}$, then $${\\mathcal{S}} = \\dfrac{\\mathcal{N}}{\\dfrac{4\\pi}{3}\\Big(\\dfrac{\\mathcal{L}}{4\\pi \\mathcal{F}}\\Big)^{\\frac{3}{2}}}$$  where ${\\mathcal{S}}$  is the source density.  \n",
        "$$\\therefore \\mathcal{S} = 3\\sqrt{4\\pi}\\;\\mathcal{N}\\;\\Big(\\dfrac{\\mathcal{L}}{\\mathcal{F}}\\Big)^{-\\frac{3}{2}}$$\n",
        "\n",
        "$$\\mathcal{N}=\\dfrac{\\mathcal{S}}{3\\sqrt{4\\pi}}\\Big(\\dfrac{\\mathcal{L}}{\\mathcal{F}}\\Big)^{\\frac{3}{2}}$$  \n",
        "\n",
        "$$\\mathcal{N}\\propto\\mathcal{L}^{-\\alpha}$$  \n",
        "\n",
        "Assuming density of objects is constant  \n",
        "$\\mathcal{N}$ will be the sum objects having Luminosities in a range $\\mathcal{L}_{lower}$ to $\\mathcal{L}_{upper}$ \n",
        "\n",
        "\n",
        "Power of $\\mathcal{L}$ typically negative as there are fewer bright sources\n"
      ]
    },
    {
      "cell_type": "markdown",
      "metadata": {
        "id": "g2G0gNRHZQeo"
      },
      "source": [
        "\n",
        "Detection rate is given by product of survey's FOV $\\Omega$ and the source density on sky above the instrument's detection threshold  \n",
        "\n",
        "$$\\mathcal{D}_{rate}=\\Omega\\times\\mathcal{S}$$  \n",
        "\n",
        "Detection threshold $F_{lim}=500\\,Jy\\;ms$  \n",
        "\n",
        "Req. FOV :- $\\Omega=14000\\;sq.deg = 4.26\\;steradian$\n",
        "\n",
        "Volumetric Rate $\\mathcal{R}$ = d_rate $\\div$ volume\n"
      ]
    },
    {
      "cell_type": "code",
      "metadata": {
        "id": "t1sL5spmjoqL"
      },
      "source": [
        "import numpy as np\n",
        "\n",
        "f_lim = 500 #Jyms\n",
        "\n",
        "def distance(f_lim,L):  # L in Watts -- kg.m^2.s^-3\n",
        "  rm = ((L)/(4*np.pi*f_lim))**0.5 # r in meters\n",
        "  rgpc = rm/3.086e25\n",
        "  return rgpc                 #returns distance in Gpc\n",
        "\n",
        "# rm = r in meters\n",
        "# rgpc = r in Gpc\n",
        "\n",
        "def source_den(N,rgpc):\n",
        "  rm = rgpc*3.086e25\n",
        "  S = N/(((4*np.pi)/3)*rm**3)\n",
        "  return S\n",
        "\n",
        "def num_sources(S,rgpc):  # if source density is known\n",
        "  rm = rgpc*3.086e25\n",
        "  N = S*((4*np.pi)/3)*rm**3\n",
        "  return N\n",
        "\n",
        "def rate(fov,S):  # fov in steradians\n",
        "  d_rate = fov*S\n",
        "  return d_rate\n",
        "\n",
        "def vol_rate(d_rate,rgpc):\n",
        "  rm = rgpc*3.086e25\n",
        "  vol_rate = d_rate/(((4*np.pi)/3)*rm**3)\n",
        "  return vol_rate\n",
        "\n"
      ],
      "execution_count": null,
      "outputs": []
    },
    {
      "cell_type": "code",
      "metadata": {
        "colab": {
          "base_uri": "https://localhost:8080/"
        },
        "id": "wNR0aq3MmK-7",
        "outputId": "55b96919-6550-469a-af89-56dc7f821e72"
      },
      "source": [
        "distance(500,5.65e54)"
      ],
      "execution_count": null,
      "outputs": [
        {
          "output_type": "execute_result",
          "data": {
            "text/plain": [
              "0.971713794416508"
            ]
          },
          "metadata": {
            "tags": []
          },
          "execution_count": 4
        }
      ]
    },
    {
      "cell_type": "markdown",
      "metadata": {
        "id": "ZfxQ0djFoAb1"
      },
      "source": [
        "## Schechter Function:\n",
        "**Schechter Function** provides a parametric description of the space density of galaxies as a function of their luminosities.  \n",
        "\n",
        "Number of objects per unit comoving volume per unit luminosity.\n",
        "$$\\dfrac{dn}{dL}=\\phi(L)=\\Big(\\dfrac{\\phi^\\ast}{L^\\ast}\\Big)\\;\\Big(\\dfrac{L}{L^\\ast}\\Big)^\\alpha\\;\\;e^{(-L/L^\\ast)}$$\n",
        "$\\phi^\\ast$ is the normalization density.  \n",
        "$L^\\ast$ is the characteristic Luminosity.  \n",
        "$\\alpha$ is the power law slope at low luminosity. "
      ]
    },
    {
      "cell_type": "markdown",
      "metadata": {
        "id": "XU6xsrcQDVWL"
      },
      "source": [
        "**Schechter Function** also can be written in the form:  \n",
        "$$n(L)dL=\\phi^\\ast\\Big(\\dfrac{L}{L^\\ast}\\Big)^\\alpha\\;e^{(-L/L^\\ast)}\\;\\dfrac{dL}{L^\\ast}$$  \n",
        "One measurement from field galaxies is  \n",
        "$\\alpha = -1.25$, $\\phi^\\ast=1.2\\times10^{-2}h^3Mpc^{-3}$"
      ]
    },
    {
      "cell_type": "code",
      "metadata": {
        "id": "3IJ_usVxDVWM"
      },
      "source": [
        "alpha = -1.25\n",
        "phi_star = 1.2e-2 #h^3 Mpc^-3\n",
        "L = []  # List of Luminosities maybe fill with data from some survey\n",
        "dL =     # interval probably L_star - L\n",
        "\n",
        "def schechter(L,L_star):\n",
        "    return phi_star*(L/L_star)**alpha*np.exp(-L/L_star)*dL/L_star\n",
        "\n",
        "n = []  # list to store number of sources at 1 luminosity\n",
        "for i in L:\n",
        "    n.append(schechter(i,L_star))\n",
        "    i += 1\n",
        "    \n",
        "# sum of n gives number of sources between L and L*\n",
        "source_density = sum(n)    "
      ],
      "execution_count": null,
      "outputs": []
    },
    {
      "cell_type": "code",
      "metadata": {
        "id": "EEkxT1JBXXir"
      },
      "source": [
        "'''import numpy as np\n",
        "# fov is in steradian and f_lim in Jy ms\n",
        "def frbrate(fov,f_lim):\n",
        "  frb_data = np.loadtxt('Filename.csv', delimiter=' ') # Put survey data filename and delimiter\n",
        "  indices = np.where(frb_data[:,1]>f_lim) # Selects events above detection threshold (here assuming the second column has fluence values)\n",
        "  threshold = frb_data[indices] # events above threshold\n",
        "  d_rate = fov*len(threshold) # all sky rate above threshold?\n",
        "  #vol_rate = d_rate/volume ?\n",
        "  print(f\"Detection rate above {f_lim} Jyms is {d_rate} and Local Volumetric rate is {vol_rate}\")'''"
      ],
      "execution_count": null,
      "outputs": []
    },
    {
      "cell_type": "markdown",
      "metadata": {
        "id": "MqcL7VRVKvYQ"
      },
      "source": [
        "Local volumetric rate of NS-NS merger by LIGO/VIRGO\n",
        "\n",
        " $$\\mathcal{R}\\approx 320^{+490}_{-240}\\;Gpc^{-3}yr^{-1}$$  \n",
        " \n",
        "Daily all sky rate is $\\sim10^3$ with fluence $F_{lim}$ of few $Jy\\,ms$  \n"
      ]
    },
    {
      "cell_type": "code",
      "metadata": {
        "id": "Rewt4D9xKiR5"
      },
      "source": [
        ""
      ],
      "execution_count": null,
      "outputs": []
    }
  ]
}