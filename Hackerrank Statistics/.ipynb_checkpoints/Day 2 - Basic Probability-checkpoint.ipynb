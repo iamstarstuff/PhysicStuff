{
 "cells": [
  {
   "cell_type": "markdown",
   "metadata": {},
   "source": [
    "# Basic Probability\n",
    "\n",
    "## Event, Sample Space, and Probability\n",
    "In probability theory, an experiment is any procedure that can be infinitely repeated and has a well-defined set of possible outcomes, known as the sample space, $S$. We define an event to be a set of outcomes of an experiment (also known as subset of $S$) to which a probability (numerical value) is assigned.  \n",
    "\n",
    "The probability of the occurence of an event $A$, is:  \n",
    "$\\begin{equation}\n",
    "    P(A) = \\dfrac{\\text{Number of favourable outcomes}}{\\text{Total number of outcomes}}\n",
    "    \\tag{1}\n",
    "\\end{equation}$\n",
    "\n",
    "Here are the first two fundamental rules of probability:  \n",
    "1. Any probability, $P(A)$, is a number between 0 and 1 (i.e., $0 \\leq P(A) \\leq 1$).\n",
    "2. The probability of the sample space, $S$, is $1$ (i.e., $P(S)=1$).  \n",
    "\n",
    "So how do we bridge the gap between the value of $P(A)$ and the sample space?  \n",
    "Quite simply, since we know that $P(A)$ is the probability that event $A$ will occur, then we define $P(A^{\\prime})$ to be the probability that event $A$ will not occur (the complement of $P(A)$). If our sample space is composed of the probabilities of $A$'s occurence and non-occurence, we can say that $P(A)+P(A^{\\prime})=1$, or the sum of all possible outcomes of $A$ in the sample space is equal to $1$. This is the third fundamental rule of probability:  \n",
    "\n",
    "3. $P(A^{\\prime})=1-P(A)$\n",
    "\n",
    "## Compound Events, Mutually Exclusive Events, and Collectively Exhaustive Events\n",
    "Let's consider $2$ events: $A$ and $B$. A compound event is a combination of $2$ or more simple events. If $A$ and $B$ are simple events then $A \\cup B$ deonotes the occurence of either $A$ or $B$. Similarly, $A \\cap B$ denotes the occurence of $A$ and $B$ together.  \n",
    "\n",
    "$A$ and $B$ are said to be mutually exclusive or disjoint if they have no events in common (i.e., $A \\cap B = \\varnothing \\text{ and }P(A \\cap B)=0$).  \n",
    "The probability of any $2$ or more events occurring is the union ($\\cup$) of events. Because disjoint probabilities have no common events, the probability of the union of disjoint events is the sum of the events' individual probabilities. $A$ and $B$ are said to be collectively exhaustive if their union covers all events in the sample space (i.e., $A \\cup B = S \\text{ and } P(A \\cup B)=1$). This brings us to our next fundamental rule of probability: If $2$ events, $A$ and $B$, are disjoint, then the probability of either event is the sum of the probabilities of the $2$ events i.e., \n",
    "$\\begin {equation}\n",
    "    P(A\\;or\\;B)=P(A)+P(B)\n",
    "    \\tag{2}\n",
    "\\end{equation}$  \n",
    "If the outcome of the first event ($A$) has no impact on the second event ($B$), then they are considered to be independent (eg., tossing a fair coin). This brings us to the next fundamental rule of probability: the multiplication rule. It states that if two events, $A$ and $B$, are independent, then the probability of both events is the  product of the probabilities of each event i.e.,\n",
    "\n",
    "$\\begin{equation}\n",
    "    P(A\\;and\\;B)=P(A) \\times P(B)\n",
    "    \\tag{3}\n",
    "\\end{equation}$"
   ]
  },
  {
   "cell_type": "markdown",
   "metadata": {},
   "source": []
  }
 ],
 "metadata": {
  "interpreter": {
   "hash": "f4da2e4dcbe768cc442fdfb9bae774ac8d17948510ac396126f8d91378e96f5b"
  },
  "kernelspec": {
   "display_name": "Python 3",
   "language": "python",
   "name": "python3"
  },
  "language_info": {
   "codemirror_mode": {
    "name": "ipython",
    "version": 3
   },
   "file_extension": ".py",
   "mimetype": "text/x-python",
   "name": "python",
   "nbconvert_exporter": "python",
   "pygments_lexer": "ipython3",
   "version": "3.7.10"
  }
 },
 "nbformat": 4,
 "nbformat_minor": 2
}
