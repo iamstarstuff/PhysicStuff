{
 "metadata": {
  "language_info": {
   "codemirror_mode": {
    "name": "ipython",
    "version": 3
   },
   "file_extension": ".py",
   "mimetype": "text/x-python",
   "name": "python",
   "nbconvert_exporter": "python",
   "pygments_lexer": "ipython3",
   "version": "3.9.6"
  },
  "orig_nbformat": 4,
  "kernelspec": {
   "name": "python3",
   "display_name": "Python 3.9.6 64-bit (windows store)"
  },
  "interpreter": {
   "hash": "f4da2e4dcbe768cc442fdfb9bae774ac8d17948510ac396126f8d91378e96f5b"
  }
 },
 "nbformat": 4,
 "nbformat_minor": 2,
 "cells": [
  {
   "source": [
    "# Quartiles\n",
    "Quartile is a type of quantile which divides the number of data points into four parts, or quarters, of more-or-less equal size. The data must be ordered from smallest to largest to compute quartiles; as such, quartiles are a form of order statistics. \n",
    "- The first quartile $(Q_1)$ is defined as the middle number between the smallest number($minimum$) and the median of the data set. It is also known as the lower or $25^{th}\\text{empirical quartile}$, as $25\\%$ of the data is below this point.\n",
    "- The second quartile $(Q_2)$ is the median of the whole data set, thus $50\\%$ of the data lies below this point.\n",
    "- The third quartile $(Q_3)$ is the middle value between the median and the highest value ($maximum$) of the data set. It is known as the $upper$ or $75^{th}\\text{empirical quartile}$, as $75\\%$ of the data lies below this point.\n",
    "\n",
    "$$minimum-----Q_1-----Q_2-----Q_3-----maximum$$\n",
    "\n",
    "Along with minimum and maximum of the data (which are also quartiles), the three quartiles described above provide a $\\text{five-number summary}$ of the data. This summary is important in statistics because it provides information about both the center and the spread of the data. Knowing the lower and upper quartile provides information on how big the spread is and if the dataset is $skewed$ toward one side. Since quartiles divide the number of data points evenly, the range is not the same between quartiles (i.e., $Q_3-Q_2 \\neq Q_2-Q_1$) and is instead known as the $\\textbf{interquartile range (IQR)}$. While the maximum and minimum also show the spread of the data, the upper and lower quartiles can provide more detailed information on the location of specific data points, the presence of outliers in the data, and the difference in spread between the middle $50\\%$ of the data and the outer data points.  \n",
    "\n",
    "In desciptive statistics, the $\\textbf{Interquartile range (IQR)}$ also called $midspread$, $middle\\;50\\%$, or $H-spread$, is a measure of $statistical\\;dispersion$ being equal to the difference between $75^{th}$ and $25^{th}\\;percentiles$. $IQR=Q_3-Q_1$\n",
    "\n",
    "<p align=\"center\">\n",
    "  <img src=\"https://upload.wikimedia.org/wikipedia/commons/thumb/1/1a/Boxplot_vs_PDF.svg/640px-Boxplot_vs_PDF.svg.png?1626778057933\">\n",
    "</p>\n",
    "\n",
    "\n",
    "|Symbol|Names|Definition|\n",
    "|:---:|:---:|:---:|\n",
    "|$Q_1$|$25^{th}\\;percentile$|splits off the lowest $25\\%$ data from the highest $75\\%$|\n",
    "|$Q_2$|$50^{th}\\;percentile$|splits dataset in half|\n",
    "|$Q_3$|$75^{th}\\;percentile$|splits off the highest $25\\%$ data from the lowest $75\\%$|"
   ],
   "cell_type": "markdown",
   "metadata": {}
  },
  {
   "cell_type": "code",
   "execution_count": 1,
   "metadata": {},
   "outputs": [],
   "source": [
    "import numpy as np \n",
    "\n",
    "def quartiles(array):\n",
    "    # sort original array in ascending order\n",
    "    print(f\"The original array is {array}\") # Comment this out for large datasets\n",
    "    temp = 0\n",
    "    for i in range(0,len(array)):\n",
    "        for j in range(i+1,len(array)):\n",
    "            if (array[i]>array[j]):\n",
    "                temp = array[i]\n",
    "                array[i] = array[j]\n",
    "                array[j] = temp\n",
    "  \n",
    "    # lower half of array\n",
    "    array1 = []\n",
    "    for i in range(0,len(array)//2):\n",
    "        array1.append(array[i])\n",
    "    \n",
    "    # upper half of array\n",
    "    if len(array)%2==0:\n",
    "        array2 = []\n",
    "        for i in range(len(array)//2,len(array)):\n",
    "            array2.append(array[i])\n",
    "    elif len(array)%2==1:\n",
    "        array2 = []\n",
    "        for i in range((len(array)//2)+1,len(array)):\n",
    "            array2.append(array[i])\n",
    "    \n",
    "    # Quartile values\n",
    "    Q1 = np.median(array1)\n",
    "    Q2 = np.median(array)\n",
    "    Q3 = np.median(array2)\n",
    "\n",
    "    # Either define a function to return the desired values or to print arrays and quartiles. \n",
    "\n",
    "    return array1,Q1,array,Q2,array2,Q3,Q3-Q1\n",
    "\n",
    "    '''\n",
    "    return values in the order - \n",
    "    Lower half, First quartile, whole array, second quartile(median of whole array), Upper half, third quartile, IQR = Q3-Q1\n",
    "    '''\n",
    "\n",
    "    # Alternatively if you don't want to use the values further you can print all the values by defining it in the function itself.\n",
    "\n",
    "    '''\n",
    "    print(f\"The sorted array is {array}\")\n",
    "    print(f\"The lower half consists of {array1}, and it's Median: Q1 = {Q1}.\")\n",
    "    print(f\"The median of entire array {array} is Q2 = {Q2}.\")\n",
    "    print(f\"The upper half consists of {array2}, and its Median: Q3 = {Q3}.\")\n",
    "    print(f\"The interquartile range, IQR = {IQR}\")\n",
    "    '''\n",
    "\n"
   ]
  },
  {
   "source": [
    "Testing the function for odd and even number of elements in the array"
   ],
   "cell_type": "markdown",
   "metadata": {}
  },
  {
   "cell_type": "code",
   "execution_count": 2,
   "metadata": {},
   "outputs": [
    {
     "output_type": "stream",
     "name": "stdout",
     "text": [
      "The original array is [5, 7, 1, 4, 2, 9, 10]\nThe sorted array is [1, 2, 4, 5, 7, 9, 10]\nThe lower half consists of [1, 2, 4], and it's Median: Q1 = 2.0.\nThe median of entire array [1, 2, 4, 5, 7, 9, 10] is Q2 = 5.0.\nThe upper half consists of [7, 9, 10], and its Median: Q3 = 9.0.\nThe interquartile range, IQR = 7.0\n"
     ]
    }
   ],
   "source": [
    "# Odd number of elements in array\n",
    "array = [5,7,1,4,2,9,10]\n",
    "array1,Q1,array,Q2,array2,Q3,IQR = quartiles(array)\n",
    "print(f\"The sorted array is {array}\")\n",
    "print(f\"The lower half consists of {array1}, and it's Median: Q1 = {Q1}.\")\n",
    "print(f\"The median of entire array {array} is Q2 = {Q2}.\")\n",
    "print(f\"The upper half consists of {array2}, and its Median: Q3 = {Q3}.\")\n",
    "print(f\"The interquartile range, IQR = {IQR}\")"
   ]
  },
  {
   "cell_type": "code",
   "execution_count": 3,
   "metadata": {},
   "outputs": [
    {
     "output_type": "stream",
     "name": "stdout",
     "text": [
      "The original array is [3, 5, 7, 1, 4, 2, 9, 10]\nThe sorted array is [1, 2, 3, 4, 5, 7, 9, 10]\nThe lower half consists of [1, 2, 3, 4], and it's Median: Q1 = 2.5.\nThe median of entire array [1, 2, 3, 4, 5, 7, 9, 10] is Q2 = 4.5.\nThe upper half consists of [5, 7, 9, 10], and its Median: Q3 = 8.0.\nThe interquartile range, IQR = 5.5\n"
     ]
    }
   ],
   "source": [
    "#  Even number of elements in array\n",
    "a = [3,5,7,1,4,2,9,10]\n",
    "array1,Q1,array,Q2,array2,Q3,IQR = quartiles(a)\n",
    "print(f\"The sorted array is {array}\")\n",
    "print(f\"The lower half consists of {array1}, and it's Median: Q1 = {Q1}.\")\n",
    "print(f\"The median of entire array {array} is Q2 = {Q2}.\")\n",
    "print(f\"The upper half consists of {array2}, and its Median: Q3 = {Q3}.\")\n",
    "print(f\"The interquartile range, IQR = {IQR}\")"
   ]
  },
  {
   "cell_type": "code",
   "execution_count": 4,
   "metadata": {},
   "outputs": [
    {
     "output_type": "stream",
     "name": "stdout",
     "text": [
      "The original array is [3, 7, 8, 5, 12, 14, 21, 13, 18]\nThe sorted array is [3, 5, 7, 8, 12, 13, 14, 18, 21]\nThe lower half consists of [3, 5, 7, 8], and it's Median: Q1 = 6.0.\nThe median of entire array [3, 5, 7, 8, 12, 13, 14, 18, 21] is Q2 = 12.0.\nThe upper half consists of [13, 14, 18, 21], and its Median: Q3 = 16.0.\nThe interquartile range, IQR = 10.0\n"
     ]
    }
   ],
   "source": [
    "# Test with different array\n",
    "b = [3,7,8,5,12,14,21,13,18]\n",
    "array1,Q1,array,Q2,array2,Q3,IQR = quartiles(b)\n",
    "print(f\"The sorted array is {array}\")\n",
    "print(f\"The lower half consists of {array1}, and it's Median: Q1 = {Q1}.\")\n",
    "print(f\"The median of entire array {array} is Q2 = {Q2}.\")\n",
    "print(f\"The upper half consists of {array2}, and its Median: Q3 = {Q3}.\")\n",
    "print(f\"The interquartile range, IQR = {IQR}\")"
   ]
  }
 ]
}