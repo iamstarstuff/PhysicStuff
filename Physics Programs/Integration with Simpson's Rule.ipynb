{
 "cells": [
  {
   "cell_type": "markdown",
   "id": "e9b2beff",
   "metadata": {},
   "source": [
    "# Simpson's Rule\n",
    "Gaussian or normal distribution function is given by:\n",
    "$$N(x) = A\\,exp\\Big(-\\dfrac{x^2}{2}\\Big)$$  \n",
    "Calculate the function in the range `[-10,10]`  \n",
    "\n",
    "Integrate the function using Simpson's 1/3 rule.  \n",
    "$$\\int_{a}^{b}f(x)dx\\approx\\dfrac{h}{3}\\Bigg(f_0+f_n+\\Big(4\\times\\sum_{i=1,3,5...}^{n-1}f_i\\Big)+\\Big(2\\times\\sum_{i=2,4,6...}^{n-2}f_i\\Big)\\Bigg)$$  \n",
    "where, $n$ is the number of intervals you're dividing  \n",
    "$h=\\dfrac{b-a}{n}$ is the width of your interval.\n",
    "\n",
    "Hence find constant A, which will give area under the curve as 1."
   ]
  },
  {
   "cell_type": "code",
   "execution_count": 1,
   "id": "e7e685e3",
   "metadata": {},
   "outputs": [],
   "source": [
    "import numpy as np\n",
    "\n",
    "def func(x):\n",
    "    return np.exp(-np.power(x,2)/2) # defining the function - returns the value of function for one value of x\n",
    "\n",
    "def simpson13(l,u,n):  # lower limit, upper limit and number of intervals as parameters.\n",
    "    h = (u-l)/n  # width of interval\n",
    "    x = [] # empty list to store x\n",
    "    Nx = [] # empty list to store y(x) or N(x) in this case\n",
    "    i = 0\n",
    "    while i <= n:\n",
    "        x.append(l+i*h) # gets x for i = 0 its just lower limit, for i = 1 its lower limit + width of interval and so on..\n",
    "        Nx.append(func(x[i])) # gets function for respective x\n",
    "        i += 1 # increment to next value of i\n",
    "    #print(f\"Fucntion in the range {l} to {u} = {Nx}\")\n",
    "    \n",
    "    I = 0 # initial value of Integral\n",
    "    i = 0 \n",
    "    while i <= n: \n",
    "        if i == 0 or i == n: # Add first and last terms to I\n",
    "            I += Nx[i]\n",
    "        elif i%2 != 0: # If i is odd, add 4 times the function\n",
    "            I += 4*Nx[i]\n",
    "        elif i%2 == 0: # If i is even, add 2 times the function\n",
    "            I += 2*Nx[i]\n",
    "        i += 1 # increment i\n",
    "    I = (h/3)*I # final Integral is h/3 times\n",
    "    print(f\"For lower limit of {l} and upper limit of {u}, with {n} intervals\\n\")\n",
    "    print(f\"Integration result for given function by Simpson's 1/3rd rule is:   I = {I}\\n\")\n",
    "    print(f\"The constant A (normalisation constant) such that area under curve will be 1 is:  A = {1/I}\\n\")\n",
    "    print(f\"Area under curve = ({1/I}) x ({I}) = {(1/I)*(I)}\")"
   ]
  },
  {
   "cell_type": "code",
   "execution_count": 2,
   "id": "4857b929",
   "metadata": {},
   "outputs": [
    {
     "name": "stdout",
     "output_type": "stream",
     "text": [
      "For lower limit of -10 and upper limit of 10, with 10000 intervals\n",
      "\n",
      "Integration result for given function by Simpson's 1/3rd rule is:   I = 2.5066282746309856\n",
      "\n",
      "The constant A (normalisation constant) such that area under curve will be 1 is:  A = 0.39894228040143503\n",
      "\n",
      "Area under curve = (0.39894228040143503) x (2.5066282746309856) = 1.0\n"
     ]
    }
   ],
   "source": [
    "simpson13(-10,10,10000)"
   ]
  }
 ],
 "metadata": {
  "kernelspec": {
   "display_name": "Python 3",
   "language": "python",
   "name": "python3"
  },
  "language_info": {
   "codemirror_mode": {
    "name": "ipython",
    "version": 3
   },
   "file_extension": ".py",
   "mimetype": "text/x-python",
   "name": "python",
   "nbconvert_exporter": "python",
   "pygments_lexer": "ipython3",
   "version": "3.8.8"
  }
 },
 "nbformat": 4,
 "nbformat_minor": 5
}
